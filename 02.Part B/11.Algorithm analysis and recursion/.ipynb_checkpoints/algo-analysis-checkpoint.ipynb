{
 "cells": [
  {
   "cell_type": "markdown",
   "metadata": {},
   "source": [
    "# Algorithm analysis and recursion EXERCISES\n",
    "\n",
    "[Download exercises zip](_static/generated/algo-analysis.zip)\n",
    "\n",
    "[Browse files online](https://github.com/DavidLeoni/sciprog-ds/tree/master/algo-analysis)\n",
    "\n",
    "## Introduction\n",
    "\n",
    "Life's too easy so let's complicate it, shall we?\n",
    "\n",
    "Are you ready to fight the invisible enemy of computational complexity? If not, please read the references first:\n",
    "\n",
    "- [Luca Bianco's Introduction to algorithms slides](https://sciproalgo2020.readthedocs.io/en/latest/slides/Lecture1.pdf)\n",
    "- [Luca Bianco's Algorithms and complexity slides](https://sciproalgo2020.readthedocs.io/en/latest/slides/Lecture2.pdf)\n",
    "- [Python DS Chapter 2.6: Algorithm analysis](https://runestone.academy/runestone/books/published/pythonds/AlgorithmAnalysis/toctree.html)\n"
   ]
  },
  {
   "cell_type": "markdown",
   "metadata": {},
   "source": [
    "\n",
    "## List performance\n",
    "\n",
    "Python lists are generic containers, they are useful in a variety of scenarios but sometimes their perfomance  can be disappointing, so it's best to know and avoid potentially expensive operations.\n",
    "Table from [the Python DS book Chapter 2.6: Lists](https://runestone.academy/runestone/books/published/pythonds/AlgorithmAnalysis/Lists.html):\n",
    "\n",
    "|Operation        |Big-O Efficiency|Operation        |Big-O Efficiency |\n",
    "|-----------------|----------------|-----------------|-----------------|\n",
    "|index []         | $O(1)$         |`in` (contains)  | $O(n)$          |\n",
    "|index assignment | $O(1)$         |get slice `[x:y]`| $O(k)$          |\n",
    "|append           | $O(1)$         |del slice        | $O(n)$          |\n",
    "|pop()            | $O(1)$         |set slice        | $O(n+k)$        |\n",
    "|pop(i)           | $O(n)$         |reverse          | $O(n)$          |\n",
    "|extend(lb)       | $O(m)$         |la `+` lb        | $O(n+m)$        | \n",
    "|insert(i,item)   | $O(n)$         |sort             | $O(n  \\log{n})$ |\n",
    "|del operator     | $O(n)$         |multiply         | $O(nk)$         |\n",
    "|remove           | $O(n)$         |min              | $O(n)$          |\n",
    "|iteration        | $O(n)$         |max              | $O(n)$          |\n",
    "|len(lst)         | $O(1)$         |sum              | $O(n)$          |\n",
    "|equality         | $O(n)$         |                 |                 |\n"
   ]
  },
  {
   "cell_type": "markdown",
   "metadata": {},
   "source": [
    "\n",
    "### Fast or not?\n",
    "\n",
    "Given a list `x` of $n$ characters, for each of the following expressions, try giving the complexity:\n",
    "\n",
    "1.  ```python\n",
    "    x[n // 2]\n",
    "    ```\n",
    "1.  ```python   \n",
    "    x[n // 2] = 'd'\n",
    "    ```\n",
    "1.  ```python   \n",
    "    x.append('c')\n",
    "    ```\n",
    "1.  ```python   \n",
    "    x.insert(0, 'd') \n",
    "    ```\n",
    "1.  ```python   \n",
    "    x + x\n",
    "    ```    \n",
    "1.  ```python   \n",
    "    x[3:5]\n",
    "    ```\n",
    "1.  ```python       \n",
    "    x.sort()\n",
    "    ```\n",
    "1.  ```python       \n",
    "    len(x)\n",
    "    ```\n",
    "1.  ```python   \n",
    "    x.pop(1)\n",
    "    ```\n",
    "1.  ```python       \n",
    "    x.pop(-1)\n",
    "    ```\n",
    "1.  ```python   \n",
    "    'z' in x\n",
    "    ```\n",
    "1.  ```python       \n",
    "    x.extend(1000)\n",
    "    ```        \n",
    "1.  ```python\n",
    "    y = [c for c in x]\n",
    "    ```    \n",
    "1.  ```python    \n",
    "    list(range(n)) == list(range(n))\n",
    "    ```"
   ]
  },
  {
   "cell_type": "markdown",
   "metadata": {},
   "source": [
    "### Sublist iteration performance\n",
    "\n",
    "`get slice` time complexity is `O(k)`, but what about memory? It's the same!\n",
    "\n",
    "So if you want to iterate a part of a list, beware of slicing! For example, depending pn Python version you have, slicing a list like this can occupy much more memory than necessary:"
   ]
  },
  {
   "cell_type": "code",
   "execution_count": 1,
   "metadata": {},
   "outputs": [
    {
     "name": "stdout",
     "output_type": "stream",
     "text": [
      "[200, 202, 204, 206, 208, 210, 212, 214, 216, 218, 220, 222, 224, 226, 228, 230, 232, 234, 236, 238, 240, 242, 244, 246, 248, 250, 252, 254, 256, 258, 260, 262, 264, 266, 268, 270, 272, 274, 276, 278, 280, 282, 284, 286, 288, 290, 292, 294, 296, 298, 300, 302, 304, 306, 308, 310, 312, 314, 316, 318, 320, 322, 324, 326, 328, 330, 332, 334, 336, 338, 340, 342, 344, 346, 348, 350, 352, 354, 356, 358, 360, 362, 364, 366, 368, 370, 372, 374, 376, 378, 380, 382, 384, 386, 388, 390, 392, 394, 396, 398]\n"
     ]
    }
   ],
   "source": [
    "                 #                               memory occupied\n",
    "r = range(1000)  # Python 2 creates a list:           O(n)\n",
    "                 # Python 3 creates a 'range' object: O(1)\n",
    "    \n",
    "#                                   same for range slices: memory occupied\n",
    "print([2*y for y in r[100:200]])  #  x[100:200] Python 2        O(k)\n",
    "                                  #             Python 3        O(1)"
   ]
  },
  {
   "cell_type": "markdown",
   "metadata": {},
   "source": [
    "The reason is that, depending on the Python interpreter you have, slicing like `r[100:200]`at loop start can create a _new_ list. If we want to explicitly tell Python we just want to iterate through a sequence, we can use the so called <a href=\"https://docs.python.org/2/library/itertools.html\" target=\"_blank\">itertools</a>. In particular, the <a href=\"https://docs.python.org/2/library/itertools.html#itertools.islice\" target=\"_blank\"> islice </a> method is handy, with it we can rewrite the list comprehension above like this:"
   ]
  },
  {
   "cell_type": "code",
   "execution_count": 2,
   "metadata": {
    "scrolled": true
   },
   "outputs": [
    {
     "name": "stdout",
     "output_type": "stream",
     "text": [
      "[200, 202, 204, 206, 208, 210, 212, 214, 216, 218, 220, 222, 224, 226, 228, 230, 232, 234, 236, 238, 240, 242, 244, 246, 248, 250, 252, 254, 256, 258, 260, 262, 264, 266, 268, 270, 272, 274, 276, 278, 280, 282, 284, 286, 288, 290, 292, 294, 296, 298, 300, 302, 304, 306, 308, 310, 312, 314, 316, 318, 320, 322, 324, 326, 328, 330, 332, 334, 336, 338, 340, 342, 344, 346, 348, 350, 352, 354, 356, 358, 360, 362, 364, 366, 368, 370, 372, 374, 376, 378, 380, 382, 384, 386, 388, 390, 392, 394, 396, 398]\n"
     ]
    }
   ],
   "source": [
    "import itertools\n",
    "\n",
    "r = range(1000)\n",
    "\n",
    "print([2*y for y in itertools.islice(r, 100, 200)])"
   ]
  },
  {
   "cell_type": "markdown",
   "metadata": {},
   "source": [
    "## Some formulas\n",
    "\n",
    "$$\n",
    "\\begin{gather*}\n",
    "& & & & && \\text{Complexity}\\\\\n",
    "1 + 2 + 3 + \\dots + n & = & \\sum_{i=1}^n{i} & = & \\frac{n^2+n}{2} && O(n^2) \\\\\n",
    "1^2 + 2^2 + 3^2 + \\dots + n^2 & = & \\sum_{i=1}^n{i^2} & = & \\frac{n(n+1)(2n+1)}{6}  && O(n^3) \\\\\n",
    "\\end{gather*}\n",
    "$$"
   ]
  },
  {
   "cell_type": "markdown",
   "metadata": {},
   "source": [
    "## Lists - exercises\n",
    "\n",
    "Who's the fastest? Let's start the racing game!\n",
    "\n",
    "For each of the following code samples, try giving the worst-case running time in Big O notation."
   ]
  },
  {
   "cell_type": "markdown",
   "metadata": {},
   "source": [
    "### Exercise - rollsroyce\n",
    "\n",
    "* `x` : int\n",
    "* `lst` : list of $n$ integers"
   ]
  },
  {
   "cell_type": "code",
   "execution_count": 3,
   "metadata": {},
   "outputs": [],
   "source": [
    "def rollsroyce(x, lst):\n",
    "    return x in lst"
   ]
  },
  {
   "cell_type": "markdown",
   "metadata": {},
   "source": [
    "**ANSWER**:\n"
   ]
  },
  {
   "cell_type": "markdown",
   "metadata": {},
   "source": [
    "### Exercise - honda\n",
    "\n",
    "* `x`  : list of $m$ elements\n",
    "* `lst`: list of lists with $n$ rows and $m$ columns"
   ]
  },
  {
   "cell_type": "code",
   "execution_count": 4,
   "metadata": {},
   "outputs": [],
   "source": [
    "def honda(x, lst):\n",
    "    return x in lst"
   ]
  },
  {
   "cell_type": "markdown",
   "metadata": {},
   "source": [
    "**ANSWER**:\n"
   ]
  },
  {
   "cell_type": "markdown",
   "metadata": {},
   "source": [
    "### Exercise - lamborghini\n",
    "\n",
    "* `lst` : list of $n$ elements\n",
    "* `m`   : int"
   ]
  },
  {
   "cell_type": "code",
   "execution_count": 5,
   "metadata": {},
   "outputs": [],
   "source": [
    "def lamborghini(lst, m):\n",
    "    return lst * m"
   ]
  },
  {
   "cell_type": "markdown",
   "metadata": {},
   "source": [
    "**ANSWER**:\n"
   ]
  },
  {
   "cell_type": "markdown",
   "metadata": {},
   "source": [
    "### Exercise - maserati\n",
    "\n",
    "* `lst` : list of $n$ elements\n",
    "* `m`   : int"
   ]
  },
  {
   "cell_type": "code",
   "execution_count": 6,
   "metadata": {},
   "outputs": [],
   "source": [
    "def maserati(lst, m):\n",
    "    return [m for el in lst]"
   ]
  },
  {
   "cell_type": "markdown",
   "metadata": {},
   "source": [
    "**ANSWER**:\n"
   ]
  },
  {
   "cell_type": "markdown",
   "metadata": {},
   "source": [
    "### Exercise - toyota\n",
    "\n",
    "* `lst` : list of $n$ elements\n",
    "* `m` : int\n",
    "\n",
    "**HINT**: try rewriting code as a `for`, then add costs"
   ]
  },
  {
   "cell_type": "code",
   "execution_count": 7,
   "metadata": {},
   "outputs": [],
   "source": [
    "def toyota(lst, m):\n",
    "    return [lst[:m] for el in lst]"
   ]
  },
  {
   "cell_type": "markdown",
   "metadata": {},
   "source": [
    "**ANSWER**:\n"
   ]
  },
  {
   "cell_type": "markdown",
   "metadata": {},
   "source": [
    "### Exercise - mercedes\n",
    "\n",
    "* `lst` : list of $n$ elements "
   ]
  },
  {
   "cell_type": "code",
   "execution_count": 8,
   "metadata": {},
   "outputs": [],
   "source": [
    "def mercedes(lst):\n",
    "    for i in range(len(lst)):\n",
    "        lst.append('z')\n",
    "    return lst"
   ]
  },
  {
   "cell_type": "markdown",
   "metadata": {},
   "source": [
    "**ANSWER**:\n"
   ]
  },
  {
   "cell_type": "markdown",
   "metadata": {},
   "source": [
    "### Exercise - acura\n",
    "\n",
    "* `lst` : list of $n$ elements\n",
    "* `m` : int"
   ]
  },
  {
   "cell_type": "code",
   "execution_count": 9,
   "metadata": {},
   "outputs": [],
   "source": [
    "def acura(lst, m):\n",
    "    return lst[:m] + lst"
   ]
  },
  {
   "cell_type": "markdown",
   "metadata": {},
   "source": [
    "**ANSWER**:\n"
   ]
  },
  {
   "cell_type": "markdown",
   "metadata": {},
   "source": [
    "### Exercise - alfaromeo\n",
    "\n",
    "* `lst` : list of $n$ elements"
   ]
  },
  {
   "cell_type": "code",
   "execution_count": 10,
   "metadata": {},
   "outputs": [],
   "source": [
    "def alfaromeo(lst):\n",
    "    return [(lst[0] + lst[-1]) for i in range(len(lst))]"
   ]
  },
  {
   "cell_type": "markdown",
   "metadata": {},
   "source": [
    "**ANSWER**:\n"
   ]
  },
  {
   "cell_type": "markdown",
   "metadata": {},
   "source": [
    "### Exercise - jeep\n",
    "\n",
    "`lst` : list of $n$ elements"
   ]
  },
  {
   "cell_type": "code",
   "execution_count": 11,
   "metadata": {},
   "outputs": [],
   "source": [
    "def jeep(lst):\n",
    "    return [lst[:i] for i in range(len(1,lst))]"
   ]
  },
  {
   "cell_type": "markdown",
   "metadata": {},
   "source": [
    "**ANSWER**:\n"
   ]
  },
  {
   "cell_type": "markdown",
   "metadata": {},
   "source": [
    "### Exercise - chevrolet\n",
    "\n",
    "`lst` : list of $n$ elements"
   ]
  },
  {
   "cell_type": "code",
   "execution_count": 12,
   "metadata": {},
   "outputs": [],
   "source": [
    "def chevrolet(lst):\n",
    "    for i in range(len(lst)):\n",
    "        lst.insert(0,'z')\n",
    "    return lst"
   ]
  },
  {
   "cell_type": "markdown",
   "metadata": {},
   "source": [
    "**ANSWER**:\n"
   ]
  },
  {
   "cell_type": "markdown",
   "metadata": {},
   "source": [
    "### Exercise - kia\n",
    "\n",
    "`lst` : list of $n$ characters\n",
    "\n",
    "1. What is the _worst_ case complexity?\n",
    "1. What is the _best_ case complexity?"
   ]
  },
  {
   "cell_type": "code",
   "execution_count": 13,
   "metadata": {},
   "outputs": [],
   "source": [
    "def kia(lst):\n",
    "    for i in range(len(lst) // 2):\n",
    "        lst.remove('c')        "
   ]
  },
  {
   "cell_type": "markdown",
   "metadata": {},
   "source": [
    "**ANSWER**:\n"
   ]
  },
  {
   "cell_type": "markdown",
   "metadata": {},
   "source": [
    "### Exercise - aston_martin\n"
   ]
  },
  {
   "cell_type": "markdown",
   "metadata": {},
   "source": [
    "`lst`: list of $n$ elements"
   ]
  },
  {
   "cell_type": "code",
   "execution_count": 14,
   "metadata": {},
   "outputs": [],
   "source": [
    "def aston_martin(lst):    \n",
    "    ret = []                             \n",
    "    if lst[0] > 5:                       \n",
    "                                         \n",
    "        for i in range(len(lst)):        \n",
    "            for j in range(len(lst)):    \n",
    "                ret.append(lst[i])       \n",
    "    else:                                \n",
    "        for i in range(len(lst)):        \n",
    "            ret.append(lst[i] * 2)       \n",
    "    return ret                           "
   ]
  },
  {
   "cell_type": "markdown",
   "metadata": {},
   "source": [
    "**ANSWER**:\n"
   ]
  },
  {
   "cell_type": "markdown",
   "metadata": {},
   "source": [
    "### Exercise - subaru\n",
    "* `mat` : list of $n$ lists of $n$ elements each\n",
    "\n",
    "* a) What's the complexity?\n",
    "* b) Follow up: Can you write a more perfomant version?"
   ]
  },
  {
   "cell_type": "code",
   "execution_count": 15,
   "metadata": {},
   "outputs": [],
   "source": [
    "def subaru(mat):\n",
    "    n = len(mat)\n",
    "    ret = []\n",
    "    for i in range(n):\n",
    "        for j in range(n):\n",
    "            if i == n - j - 1:\n",
    "                ret.append(mat[i][j])\n",
    "    return ret"
   ]
  },
  {
   "cell_type": "markdown",
   "metadata": {},
   "source": [
    "**ANSWER**:\n"
   ]
  },
  {
   "cell_type": "markdown",
   "metadata": {},
   "source": [
    "### Exercise - dodge\n",
    "\n",
    "* `mat` : list of $n$ lists of $m$ columns"
   ]
  },
  {
   "cell_type": "code",
   "execution_count": 16,
   "metadata": {},
   "outputs": [],
   "source": [
    "def dodge(mat):\n",
    "    n = len(mat)                        \n",
    "    m = len(mat[0])                     \n",
    "    ret = []                            \n",
    "    for i in range(n):                  \n",
    "        for j in range(1,m):\n",
    "            if max(mat[i][:j]) == 3:\n",
    "                ret.append(mat[i][j])   \n",
    "    return ret"
   ]
  },
  {
   "cell_type": "markdown",
   "metadata": {},
   "source": [
    "**ANSWER**:\n"
   ]
  },
  {
   "cell_type": "markdown",
   "metadata": {},
   "source": [
    "### Exercise - lotus\n",
    "\n",
    "`lst` : list of $n$ elements"
   ]
  },
  {
   "cell_type": "code",
   "execution_count": 17,
   "metadata": {},
   "outputs": [],
   "source": [
    "def lotus(lst):\n",
    "    while len(lst) > 0:\n",
    "        el = lst.pop(len(lst) // 2)\n",
    "        ret.append(el)\n",
    "    return ret"
   ]
  },
  {
   "cell_type": "markdown",
   "metadata": {},
   "source": [
    "**ANSWER**:\n"
   ]
  },
  {
   "cell_type": "markdown",
   "metadata": {},
   "source": [
    "### Exercise - jaguar\n",
    "\n",
    "* `mat` : list of $n$ lists of $m$ columns"
   ]
  },
  {
   "cell_type": "code",
   "execution_count": 18,
   "metadata": {},
   "outputs": [],
   "source": [
    "def jaguar(mat):                                   \n",
    "    n = len(mat)                                \n",
    "    m = len(mat[0])                             \n",
    "    for i in range(1, n):                       \n",
    "        if mat[i-1][0] in mat[i]:               \n",
    "            for j in range(n-1,0,-1):           \n",
    "                mat[j] = [2*x for x in mat[j]]  \n",
    "                                                                                                \n",
    "    return mat                                  "
   ]
  },
  {
   "cell_type": "markdown",
   "metadata": {},
   "source": [
    "**ANSWER**:\n"
   ]
  },
  {
   "cell_type": "markdown",
   "metadata": {},
   "source": [
    "### Exercise - hyundai\n",
    "\n",
    "* `lst` : list of $n$ elements\n",
    "* `m`: integer,   $0 <= m <= n$"
   ]
  },
  {
   "cell_type": "code",
   "execution_count": 19,
   "metadata": {},
   "outputs": [],
   "source": [
    "def hyundai(lst, m):\n",
    "\n",
    "    lb = ['a' in range(m)]     \n",
    "    \n",
    "    lb.extend(lst)               \n",
    "            \n",
    "    for i in range(m):         \n",
    "        lb.remove('a')                                                "
   ]
  },
  {
   "cell_type": "markdown",
   "metadata": {},
   "source": [
    "**ANSWER**:\n"
   ]
  },
  {
   "cell_type": "markdown",
   "metadata": {},
   "source": [
    "### Exercise - buick\n",
    "\n",
    "`lb` : list of $n$ **positive** integers\n",
    "\n",
    "**HINT**: Try giving a tight complexity bound for the function, considering we assume `lb` is only made of **positive** integers"
   ]
  },
  {
   "cell_type": "code",
   "execution_count": 20,
   "metadata": {},
   "outputs": [],
   "source": [
    "def buick(lb):    \n",
    "    la = []                                        # 1 \n",
    "    n = len(lb)                                    # 1\n",
    "    while len(lb) > 0:                             # n iterations (lb will be popped until empty)\n",
    "        el = lb.pop()                              #    pop: 1  + assignment: 1\n",
    "        la.insert(0,el)                            #    from 1 to n        \n",
    "        if sum(la) == 10:                          #    sum: from 1 to n  + if: 1\n",
    "            for i in range(n):                     #    n iterations\n",
    "                for j in range(n):                 #       n iterations\n",
    "                    la[0] += 1                     #            1                \n",
    "                                                   #       but note because of the 'if' this double for\n",
    "                                                   #       is executed *at most once per function call*\n",
    "    return la                                      # 1"
   ]
  },
  {
   "cell_type": "markdown",
   "metadata": {},
   "source": [
    "**ANSWER**:\n"
   ]
  },
  {
   "cell_type": "markdown",
   "metadata": {},
   "source": [
    "### Exercise - saab\n",
    "\n",
    "`lst` : list of $n$ integers\n",
    "\n",
    "a) To solve this properly you will need to resort to some classical analysis:\n",
    "\n",
    "1. for determining worst case, try proving the sum is less than another sum\n",
    "2. to see if the bound is tight, try determining the best case complexity $\\Omega$ by proving that the sum made by half of the terms (which half?) is greater than another sum, you should get the same result as worst case so proving you've got the $\\Theta$ complexity.\n",
    "\n",
    "b) Can we write a much faster function?"
   ]
  },
  {
   "cell_type": "code",
   "execution_count": 21,
   "metadata": {},
   "outputs": [],
   "source": [
    "def saab(lst):\n",
    "    \n",
    "    for i in range(1, len(lst)):        \n",
    "        lst.sort(lst[0:i])"
   ]
  },
  {
   "cell_type": "markdown",
   "metadata": {},
   "source": [
    "**ANSWER**:\n"
   ]
  },
  {
   "cell_type": "markdown",
   "metadata": {},
   "source": [
    "## Sets performance\n",
    "\n",
    "Let's review set _average_ operations costs from [Python official wiki](https://wiki.python.org/moin/TimeComplexity#set):\n",
    "\n",
    "|Operation            |Big-O Efficiency     |Operation            |Big-O Efficiency     |\n",
    "|---------------------|---------------------|---------------------|---------------------|\n",
    "|x in s               | $O(1)$              | union sa &#124; sb       |$O(n + m)$      |\n",
    "|intersection sa & sb | $O(min(n,m))$       | difference `sa-sb`  |$O(n)$               |\n",
    "|sa.difference_update(sb)| $O(m)$           | set(sequence)       |      $O(n)$         |\n",
    "| len(s)              |      $O(1)$         | min(s)              |      $O(n)$         |\n",
    "| sum(s)              |      $O(n)$         | max(s)              |      $O(n)$         |\n",
    "\n",
    "Sets are pretty fast but notice in degenerate cases instead of $O(1)$ we might still get $O(n)$ complexities (like when there too many keys collisions or with ill-devised hashing functions). For the purposes of this course but won't consider those occurrences. \n"
   ]
  },
  {
   "cell_type": "markdown",
   "metadata": {},
   "source": [
    "## Sets - exercises \n",
    "\n",
    "Find the worst case compexity in Big-O notation for each of the following exercises."
   ]
  },
  {
   "cell_type": "markdown",
   "metadata": {},
   "source": [
    "### Exercise - land_rover\n",
    "\n",
    "* `sa` : set of $n$ integers\n",
    "* `sb` : set of $m$ integers"
   ]
  },
  {
   "cell_type": "code",
   "execution_count": 22,
   "metadata": {},
   "outputs": [],
   "source": [
    "def land_rover(sa, sb):    \n",
    "    return [el in sa for el in sb]"
   ]
  },
  {
   "cell_type": "markdown",
   "metadata": {},
   "source": [
    "**ANSWER**:\n"
   ]
  },
  {
   "cell_type": "markdown",
   "metadata": {},
   "source": [
    "### Exercise - volkswagen\n",
    "\n",
    "* `la` : list of $n$ integers\n",
    "* `lb` : list of $m$ integers"
   ]
  },
  {
   "cell_type": "code",
   "execution_count": 23,
   "metadata": {},
   "outputs": [],
   "source": [
    "def volkswagen(la, lb):\n",
    "    sa = set(la)                     \n",
    "    sc = set()                       \n",
    "    for el in lb:                    \n",
    "        if el % 2 != 0:              \n",
    "            sc.add(el)               \n",
    "    return (sa | sc) - (sa & sc)     "
   ]
  },
  {
   "cell_type": "markdown",
   "metadata": {},
   "source": [
    "**ANSWER**:\n"
   ]
  },
  {
   "cell_type": "markdown",
   "metadata": {},
   "source": [
    "### Exercise - pontiac\n",
    "\n",
    "`mat` : list of $n$ lists of $m$ integers"
   ]
  },
  {
   "cell_type": "code",
   "execution_count": 24,
   "metadata": {},
   "outputs": [],
   "source": [
    "def pontiac(mat):    \n",
    "    ret = []\n",
    "    sets = [set(row) for row in mat]         \n",
    "    for i in range(len(mat)):                \n",
    "        for s in sets:                       \n",
    "            if mat[i][0]*2 in s:             \n",
    "                ret.append(mat[i][0])        \n",
    "    return ret              "
   ]
  },
  {
   "cell_type": "markdown",
   "metadata": {},
   "source": [
    "**ANSWER**:\n"
   ]
  },
  {
   "cell_type": "markdown",
   "metadata": {},
   "source": [
    "### Exercise - volvo\n",
    "\n",
    "* `la` : list of $n$ integers\n",
    "* `lb` : list of $m$ integers"
   ]
  },
  {
   "cell_type": "code",
   "execution_count": 25,
   "metadata": {},
   "outputs": [],
   "source": [
    "\n",
    "def volvo(la, lb):\n",
    "    ret = set(lb)\n",
    "    for i in range(len(la)):\n",
    "        sli = la[i+1:]\n",
    "        if la[i] in sli:\n",
    "            ret.add(la[i])\n",
    "        for el in la:             \n",
    "            if el in ret:         \n",
    "                ret.add(el*2)     \n",
    "    return ret                    "
   ]
  },
  {
   "cell_type": "markdown",
   "metadata": {},
   "source": [
    "**ANSWER**:\n"
   ]
  },
  {
   "cell_type": "markdown",
   "metadata": {},
   "source": [
    "### Exercise - chrysler\n",
    "\n"
   ]
  },
  {
   "cell_type": "markdown",
   "metadata": {},
   "source": [
    "`la`: list of $n$ integers\n",
    "\n",
    "**HINT 1**: remember the sum of first $n$ integers is $\\displaystyle\\sum_{i=1}^n{i}=\\frac{n^2+n}{2}$\n",
    "\n",
    "**HINT 2**: remember the sum of first $n$ squared integers is $\\displaystyle\\sum_{i=1}^n{i^2}=\\frac{n(n+1)(2n+1)}{6}$"
   ]
  },
  {
   "cell_type": "code",
   "execution_count": 26,
   "metadata": {},
   "outputs": [],
   "source": [
    "def chrysler(la):\n",
    "    \n",
    "    s = {0}                            \n",
    "    lb = []                            \n",
    "    for i in range(len(la)):           \n",
    "        lb.extend([la[i]] * i)         \n",
    "        if min(s) < 20:                \n",
    "            s = {x for x in la}        \n",
    "        s = s | set(lb)                \n",
    "    return s                              "
   ]
  },
  {
   "cell_type": "markdown",
   "metadata": {},
   "source": [
    "**ANSWER**:\n"
   ]
  },
  {
   "cell_type": "markdown",
   "metadata": {},
   "source": [
    "## Dictionaries performance\n",
    "\n",
    "Let's review dictionary operations costs from [the Python DS book Chapter 3.7: Dictionaries](https://runestone.academy/runestone/books/published/pythonds/AlgorithmAnalysis/Dictionaries.html):\n",
    "\n",
    "Dictionaries are pretty fast but notice in degenerate cases instead of $O(1)$ we might get $O(n)$ complexity (like when there too many keys collisions or with ill-devised hashing functions). For the purposes of this course but won't consider those occurrences. \n",
    "\n",
    "\n",
    "|Operation        |Big-O Efficiency|Operation        |Big-O Efficiency |\n",
    "|-----------------|----------------|-----------------|-----------------|\n",
    "|copy             | $O(n)$         | `in` operator   | $O(1)$          |\n",
    "!get item         | $O(1)$         | set item        | $O(1)$          | \n",
    "|delete item      | $O(1)$         | iteration       | $O(n)$          |\n"
   ]
  },
  {
   "cell_type": "markdown",
   "metadata": {},
   "source": [
    "## Dictionaries - exercises\n",
    "\n",
    "Find the worst case compexity in Big-O notation for each of the following exercises."
   ]
  },
  {
   "cell_type": "markdown",
   "metadata": {},
   "source": [
    "### Exercise - tesla\n",
    "\n",
    "- `x` : int\n",
    "- `d`: dictionary with $n$ key/value mappings"
   ]
  },
  {
   "cell_type": "code",
   "execution_count": 27,
   "metadata": {},
   "outputs": [],
   "source": [
    "def tesla(x, d):\n",
    "    return x in d"
   ]
  },
  {
   "cell_type": "markdown",
   "metadata": {},
   "source": [
    "**ANSWER**:\n"
   ]
  },
  {
   "cell_type": "markdown",
   "metadata": {},
   "source": [
    "### Exercise - bmw\n",
    "\n",
    "* `d` : dictionary of $n$ key/value mappings\n",
    "* `el` : int"
   ]
  },
  {
   "cell_type": "code",
   "execution_count": 28,
   "metadata": {},
   "outputs": [],
   "source": [
    "def bmw(d, el):\n",
    "    \n",
    "    if el in d:\n",
    "        return d[el]\n",
    "    \n",
    "    return None"
   ]
  },
  {
   "cell_type": "markdown",
   "metadata": {},
   "source": [
    "**ANSWER**:\n"
   ]
  },
  {
   "cell_type": "markdown",
   "metadata": {},
   "source": [
    "### Exercise - nissan\n",
    "\n",
    "* `d` : dictionary of $n$ key/value mappings\n",
    "* `el` : int\n",
    "\n",
    "Does this code behaves differently from code before? Compare the complixities."
   ]
  },
  {
   "cell_type": "code",
   "execution_count": 29,
   "metadata": {},
   "outputs": [],
   "source": [
    "def nissan(d, el):\n",
    "    \n",
    "    for k in d:\n",
    "        if el == k:\n",
    "            return d[el]\n",
    "    \n",
    "    return None"
   ]
  },
  {
   "cell_type": "markdown",
   "metadata": {},
   "source": [
    "**ANSWER**:\n"
   ]
  },
  {
   "cell_type": "markdown",
   "metadata": {},
   "source": [
    "### Exercise - ferrari\n",
    "\n",
    "* `x` : int\n",
    "* `d`: dictionary with $n$ key/value mappings\n",
    "\n",
    "Find the complexity and then ask yourself if we can do any better."
   ]
  },
  {
   "cell_type": "code",
   "execution_count": 30,
   "metadata": {},
   "outputs": [],
   "source": [
    "def ferrari(x, d):\n",
    "    return x in d.values()"
   ]
  },
  {
   "cell_type": "markdown",
   "metadata": {},
   "source": [
    "**ANSWER**:\n"
   ]
  },
  {
   "cell_type": "markdown",
   "metadata": {},
   "source": [
    "### Exercise - bentley\n",
    "\n",
    "* `x` : int\n",
    "* `d` : dictionary with $n$ key/value mappings"
   ]
  },
  {
   "cell_type": "code",
   "execution_count": 31,
   "metadata": {},
   "outputs": [],
   "source": [
    "def bentley(x, d):\n",
    "    \n",
    "    return x,x in d.items()"
   ]
  },
  {
   "cell_type": "markdown",
   "metadata": {},
   "source": [
    "**ANSWER**:\n"
   ]
  },
  {
   "cell_type": "markdown",
   "metadata": {},
   "source": [
    "### Exercise - mclaren\n",
    "\n",
    "* `d` : dictionary of $n$ key/value mappings\n",
    "* `k` : int"
   ]
  },
  {
   "cell_type": "code",
   "execution_count": 32,
   "metadata": {},
   "outputs": [],
   "source": [
    "def mclaren(d,k):\n",
    "    ret = []\n",
    "    for i in range(k):\n",
    "        if i in d:\n",
    "            ret.append(d[i])\n",
    "    return ret"
   ]
  },
  {
   "cell_type": "markdown",
   "metadata": {},
   "source": [
    "**ANSWER**:\n"
   ]
  },
  {
   "cell_type": "markdown",
   "metadata": {},
   "source": [
    "### Exercise - fiat\n",
    "\n",
    "* `d` : dictionary of $n$ key/value mappings\n",
    "* `k` : int\n",
    "\n",
    "Compare this function to the previous one. Is there any difference?"
   ]
  },
  {
   "cell_type": "code",
   "execution_count": 33,
   "metadata": {},
   "outputs": [],
   "source": [
    "def fiat(d,k):\n",
    "    lst = list(d.items())\n",
    "    ret = []\n",
    "    for i,v in lst:\n",
    "        if i >= 0 and i < k:\n",
    "            ret.append(d[i])\n",
    "    return ret"
   ]
  },
  {
   "cell_type": "markdown",
   "metadata": {},
   "source": [
    "**ANSWER**:\n"
   ]
  },
  {
   "cell_type": "markdown",
   "metadata": {},
   "source": [
    "### Exercise - mustang\n",
    "\n",
    "* `d` : dictionary of $n$ key/value mappings\n",
    "* `lst` : list of $m$ integers"
   ]
  },
  {
   "cell_type": "code",
   "execution_count": 34,
   "metadata": {},
   "outputs": [],
   "source": [
    "  \n",
    "def mustang(d, lst):\n",
    "\n",
    "    ret = {}                                 \n",
    "    for el in lst:                           \n",
    "                                             \n",
    "        if el in d:                          \n",
    "            if el in list(d.values()):       \n",
    "                ret[el] = True               \n",
    "        else:                                \n",
    "            ret[el] = False                  \n",
    "    return ret                               "
   ]
  },
  {
   "cell_type": "markdown",
   "metadata": {},
   "source": [
    "**ANSWER**:\n"
   ]
  },
  {
   "cell_type": "markdown",
   "metadata": {},
   "source": [
    "## Recursion\n",
    "\n",
    "**References**: \n",
    "\n",
    "- [Andrea Passerini slides on recursion theory](http://disi.unitn.it/~passerini/teaching/2020-2021/sci-pro/slides/A06-recursion.pdf)\n",
    "\n",
    "When confronted with a problem, we can try to solve it by splitting its dimension in half (or more), look for solutions in each of the halves and then decide what to do with the found solutions, if any.\n",
    "\n",
    "Several cases may occur:\n",
    "\n",
    "1. No solution is found\n",
    "2. One solution is found\n",
    "3. Two solutions are found\n",
    "\n",
    "case 1): we can only give up\n",
    "\n",
    "case 2): we have only one solution, so we can just return that one\n",
    "\n",
    "case 3): we have two solutions, so we need to decide what is the purpose of the algorithm\n",
    "\n",
    "Is the purpose to ...\n",
    "\n",
    "- find all possible solutions? Then we return both of them. \n",
    "\n",
    "- find the _best_ solution, according to some measure of 'goodness'? Then we measure each of the solutions and give back the highest scoring one.\n",
    "\n",
    "- always provide a _combination_ of existing solutions, according to some combination method? Then we combine the found solutions and give them back"
   ]
  },
  {
   "cell_type": "markdown",
   "metadata": {},
   "source": [
    "## Recursion - exercises"
   ]
  },
  {
   "cell_type": "markdown",
   "metadata": {},
   "source": [
    "### Exercise - gap_rec\n",
    "\n",
    "✪✪ In a list $L$ containing $n≥2$ integers, a gap is an index $i$, $0< i < n$, such that $L[i−1]< L[i]$\n",
    "\n",
    "If $n≥2$ and $L[0]< L[n−1]$, $L$ contains at least one gap\n",
    "\n",
    "Design an algorithm that, given a  list $L$ containing $n≥2$ integers such that $L[0]< L[n−1]$, finds a gap in the list.\n",
    "\n",
    "Try to code and test the `gap` function. To avoid displaying directly Python, here we wrote it as pseudocode:\n",
    "    \n",
    "![recursive gap jiuiu9](img/recursive-gap.png)"
   ]
  },
  {
   "cell_type": "markdown",
   "metadata": {},
   "source": [
    "Use the following skeleton to code it and add some test. To understand what's going on, try copy pasting in [Python tutor](http://pythontutor.com/visualize.html#mode=edit)\n",
    "\n",
    "Notice that\n",
    "\n",
    "* We created a function `gap_rec` to differentiate it from the iterative one\n",
    "* Users of `gap_rec` function might want to call it by passing just a list, in order to find any gap in the whole list. So for convenience the new function `gap_rec(L)` only accepts a list, without indexes `i` and `j`. This function just calls the other function `gap_rec_helper` that will actually contain the recursive calls. So your task is to translate the pseudocode of `gap` into the Python code of `gap_rec_helper`, which takes as input the array and the indexes as `gap` does. Adding a helper function is a frequent pattern you can find when programming recursive functions.\n"
   ]
  },
  {
   "cell_type": "markdown",
   "metadata": {},
   "source": [
    "<div class=\"alert alert-warning\">\n",
    "\n",
    "**CAREFUL ABOUT** `gap_rec` **ASSUMPTIONS!**\n",
    "    \n",
    "The specification of `gap_rec` assumes the input is always a list of at least two elements, and that the first element is less or equal than the last one. _If these conditions are not met, function behaviour could be completely erroneus!_\n",
    "</div>\n"
   ]
  },
  {
   "cell_type": "markdown",
   "metadata": {},
   "source": [
    "When preconditions are not met, execution could stop because of an error like index out of bounds, or, even worse, we might get back some wrong index as a gap! To prevent misuse of the function, a good idea can be putting a check at the beginning of the `gap_rec` function. Such check should immediately stop the execution and raise an error if the parameters don't satisfy the preconditions. One way to do this could be to to some [assertion](https://sciprog.davidleoni.it/testing/testing.html#Assertions) like this: \n",
    "    \n",
    "```python\n",
    "    def gap_rec(L, i , j):\n",
    "        assert len(L) >= 2\n",
    "        assert L[0] <= L[len(L)-1]        \n",
    "\n",
    "```\n",
    "    \n",
    "* These commands will make python interrupt execution and throw an error as soon it detects list `L` is too small or with wrong values\n",
    "* This kind of behaviour is also called _fail fast_, which is better than returning wrong values! \n",
    "* You can put any condition you want after `assert`, but ideally they should be fast to execute.\n",
    "* asserts might be better here than `raise Exception` constructs because asserts can be disabled with a flag passed to the interpreter. So, when you debug you can take advantage of them, and when the code is production quality and supposed to be bug free you can disable all assertions at once to gain in execution speed.\n"
   ]
  },
  {
   "cell_type": "markdown",
   "metadata": {},
   "source": [
    "<div class=\"alert alert-info\">\n",
    "\n",
    "**GOOD PRACTICE**: Notice I wrote what the helper function is expected to receive as a comment. Writing down specs often helps understanding what the function is supposed to do, and helps users of your code as well!\n",
    "</div>\n",
    "\n"
   ]
  },
  {
   "cell_type": "markdown",
   "metadata": {},
   "source": [
    "<div class=\"alert alert-info\" >\n",
    "    \n",
    "[VII COMMANDMENT](https://en.softpython.org/commandments.html#VII-COMMANDMENT): You shall also write on paper!\n",
    "</div>"
   ]
  },
  {
   "cell_type": "markdown",
   "metadata": {},
   "source": [
    "To get an idea of how `gap_rec` is working, draw histograms on paper like the following, with different heights at index `m`:"
   ]
  },
  {
   "cell_type": "markdown",
   "metadata": {},
   "source": [
    "![gap rec histogram 098983ju](img/gap-rec-histogram.png)"
   ]
  },
  {
   "cell_type": "markdown",
   "metadata": {},
   "source": [
    "Notice how at each recursive call, we end up with a histogram that is similar to the inital one, that is, it respects the same preconditions (a list of size >= 2 where first element is smaller or equal than the last one)"
   ]
  },
  {
   "cell_type": "code",
   "execution_count": 36,
   "metadata": {},
   "outputs": [
    {
     "name": "stdout",
     "output_type": "stream",
     "text": [
      "6\n"
     ]
    }
   ],
   "source": [
    "def gap_rec(L, i, j):\n",
    "    \n",
    "    # tests ================\n",
    "    assert type(L) == list\n",
    "    assert type(i) == int\n",
    "    assert type(j) == int\n",
    "    assert len(L) >= 2\n",
    "    assert L[0] <= L[len(L)-1] \n",
    "    assert i < j\n",
    "    # =======================\n",
    "    \n",
    "    if i > j:\n",
    "        raise ValueError(\"i deve essere minore di j\")\n",
    "    \n",
    "    \n",
    "    if j == i + 1:\n",
    "        return L[j]\n",
    "    \n",
    "    m = (i + j ) // 2\n",
    "    \n",
    "#     if m == 1:\n",
    "#         return 1\n",
    "    \n",
    "\n",
    "    if L[m] <= L[i]:\n",
    "        return gap_rec(L, m, j)\n",
    "    else:\n",
    "        return gap_rec(L, i, m)\n",
    "\n",
    "def gap(L):\n",
    "    pass\n",
    "    \n",
    "# try also to write asserts\n",
    "print(gap_rec([1, 8, 5, 6, 7], 1, 4))\n",
    "# print(gap_rec([2, 4, 5, 6, 7], 4, 3))"
   ]
  },
  {
   "cell_type": "markdown",
   "metadata": {},
   "source": [
    "### Exercise - yamaha\n",
    "\n",
    "What does this function do? What's the time complexity?\n",
    "\n",
    "* `lst`: a list of $n$ numbers\n",
    "* `i`: an index from `0` to $n$ **included**\n",
    "\n",
    "`level` is recursion level, we can use it to help ourselves while debugging"
   ]
  },
  {
   "cell_type": "code",
   "execution_count": 36,
   "metadata": {},
   "outputs": [
    {
     "name": "stdout",
     "output_type": "stream",
     "text": [
      " [5, 7, 2, 9]\n",
      " 4\n",
      "   [5, 7, 2, 9]\n",
      "   3\n",
      "     [5, 7, 2, 9]\n",
      "     2\n",
      "       [5, 7, 2, 9]\n",
      "       1\n",
      "         [5, 7, 2, 9]\n",
      "         0\n",
      "       5\n",
      "     12\n",
      "   14\n",
      " 23\n",
      "23\n"
     ]
    }
   ],
   "source": [
    "\n",
    "def yamaha(lst, i, level=0):    \n",
    "    print('  ' * level, lst)\n",
    "    print('  ' * level, i)\n",
    "    \n",
    "    if i == 0:\n",
    "        return 0\n",
    "    else:\n",
    "        q = lst[i-1] + yamaha(lst, i-1, level + 1)\n",
    "        print('  ' * level, q)\n",
    "        return q\n",
    "    \n",
    "print(yamaha([5,7,2,9], 4))"
   ]
  },
  {
   "cell_type": "code",
   "execution_count": 37,
   "metadata": {
    "nbsphinx": "hidden"
   },
   "outputs": [
    {
     "name": "stdout",
     "output_type": "stream",
     "text": [
      " [5, 7, 2, 9]\n",
      " 4\n",
      "   [5, 7, 2, 9]\n",
      "   3\n",
      "     [5, 7, 2, 9]\n",
      "     2\n",
      "       [5, 7, 2, 9]\n",
      "       1\n",
      "         [5, 7, 2, 9]\n",
      "         0\n",
      "       5\n",
      "     12\n",
      "   14\n",
      " 23\n",
      " []\n",
      " 0\n",
      " [2]\n",
      " 0\n",
      " [5]\n",
      " 1\n",
      "   [5]\n",
      "   0\n",
      " 5\n"
     ]
    }
   ],
   "source": []
  },
  {
   "cell_type": "markdown",
   "metadata": {},
   "source": [
    "**ANSWER**:\n"
   ]
  },
  {
   "cell_type": "markdown",
   "metadata": {},
   "source": [
    "### Exercise - mul2\n",
    "\n",
    "Write a recursive function `mul_rec` which given a list RETURN a NEW list with all elements multiplied by two.\n",
    "\n",
    "**ONLY USE** `.append()` to build return list. In order to use it, you need the parameter `acc`, which is a list into which you will accumulate the elements found during the recursion. At the end of recursion you will return `acc`\n",
    "\n",
    "**MUST** execute in $O(n)$\n",
    "\n",
    "**DO NOT** use `for`,  `while` cycles nor list comprehensions\n",
    "\n",
    "**DO NOT** use slices\n",
    "\n",
    "**DO NOT** use `in` operator, `.find` nor `.index` methods\n",
    "\n",
    "**DO NOT** use `.extend` method nor `+` operator - they're expensive !"
   ]
  },
  {
   "cell_type": "code",
   "execution_count": 64,
   "metadata": {},
   "outputs": [],
   "source": [
    "def mul2_rec(lst, acc):\n",
    "    \n",
    "    if lst == []:\n",
    "        return []\n",
    "    \n",
    "    acc.append(lst[0]*2)   \n",
    "    mul2_rec(lst[1:], acc)\n",
    "    \n",
    "    return acc\n",
    "\n",
    "def mul2(lst):\n",
    "    return mul2_rec(lst, [])\n",
    "    \n",
    "assert(mul2([])) == []\n",
    "assert(mul2([3])) == [6]\n",
    "assert(mul2([5,8])) == [10,16]\n",
    "\n",
    "nums = [4,6,2,7,3]\n",
    "assert(mul2(nums)) == [8,12,4,14,6]\n",
    "assert nums == [4,6,2,7,3]"
   ]
  },
  {
   "cell_type": "markdown",
   "metadata": {},
   "source": [
    "### Exercise - search_rec\n",
    "\n",
    "Write a recursive function which RETURN `True` if `el` is in the first `i` elements of `lst` and `False` otherwise\n",
    "\n",
    "* `lst` is a list of $n$  elements \n",
    "* `i`: an index from `0` to $n$ **included**\n",
    "\n",
    "\n",
    "**DO NOT** use `in` operator, `.find` nor `.index` methods\n",
    "\n",
    "**DO NOT** use `for`,  `while` cycles nor list comprehensions\n",
    "\n",
    "**DO NOT** use slices\n",
    "\n",
    "**MUST** execute in $O(n)$"
   ]
  },
  {
   "cell_type": "code",
   "execution_count": 66,
   "metadata": {},
   "outputs": [
    {
     "ename": "AssertionError",
     "evalue": "",
     "output_type": "error",
     "traceback": [
      "\u001b[1;31m---------------------------------------------------------------------------\u001b[0m",
      "\u001b[1;31mAssertionError\u001b[0m                            Traceback (most recent call last)",
      "\u001b[1;32m<ipython-input-66-962898b785e3>\u001b[0m in \u001b[0;36m<module>\u001b[1;34m\u001b[0m\n\u001b[0;32m     16\u001b[0m \u001b[1;33m\u001b[0m\u001b[0m\n\u001b[0;32m     17\u001b[0m \u001b[1;32massert\u001b[0m \u001b[0msearch_rec\u001b[0m\u001b[1;33m(\u001b[0m\u001b[1;36m6\u001b[0m\u001b[1;33m,\u001b[0m \u001b[1;33m[\u001b[0m\u001b[1;33m]\u001b[0m\u001b[1;33m,\u001b[0m \u001b[1;36m0\u001b[0m\u001b[1;33m)\u001b[0m \u001b[1;33m==\u001b[0m \u001b[1;32mFalse\u001b[0m\u001b[1;33m\u001b[0m\u001b[1;33m\u001b[0m\u001b[0m\n\u001b[1;32m---> 18\u001b[1;33m \u001b[1;32massert\u001b[0m \u001b[0msearch_rec\u001b[0m\u001b[1;33m(\u001b[0m\u001b[1;36m5\u001b[0m\u001b[1;33m,\u001b[0m \u001b[1;33m[\u001b[0m\u001b[1;36m5\u001b[0m\u001b[1;33m]\u001b[0m\u001b[1;33m,\u001b[0m \u001b[1;36m0\u001b[0m\u001b[1;33m)\u001b[0m \u001b[1;33m==\u001b[0m \u001b[1;32mFalse\u001b[0m\u001b[1;33m\u001b[0m\u001b[1;33m\u001b[0m\u001b[0m\n\u001b[0m\u001b[0;32m     19\u001b[0m \u001b[1;32massert\u001b[0m \u001b[0msearch_rec\u001b[0m\u001b[1;33m(\u001b[0m\u001b[1;36m5\u001b[0m\u001b[1;33m,\u001b[0m \u001b[1;33m[\u001b[0m\u001b[1;36m5\u001b[0m\u001b[1;33m]\u001b[0m\u001b[1;33m,\u001b[0m \u001b[1;36m1\u001b[0m\u001b[1;33m)\u001b[0m \u001b[1;33m==\u001b[0m \u001b[1;32mTrue\u001b[0m\u001b[1;33m\u001b[0m\u001b[1;33m\u001b[0m\u001b[0m\n\u001b[0;32m     20\u001b[0m \u001b[1;32massert\u001b[0m \u001b[0msearch_rec\u001b[0m\u001b[1;33m(\u001b[0m\u001b[1;36m2\u001b[0m\u001b[1;33m,\u001b[0m \u001b[1;33m[\u001b[0m\u001b[1;36m2\u001b[0m\u001b[1;33m,\u001b[0m\u001b[1;36m9\u001b[0m\u001b[1;33m]\u001b[0m\u001b[1;33m,\u001b[0m \u001b[1;36m0\u001b[0m\u001b[1;33m)\u001b[0m \u001b[1;33m==\u001b[0m \u001b[1;32mFalse\u001b[0m\u001b[1;33m\u001b[0m\u001b[1;33m\u001b[0m\u001b[0m\n",
      "\u001b[1;31mAssertionError\u001b[0m: "
     ]
    }
   ],
   "source": [
    "def search_rec(el, lst, i):       \n",
    "    \n",
    "\n",
    "\n",
    "    if el == i:\n",
    "        return True\n",
    "    else:\n",
    "        search_rec(el, lst, i - 1)\n",
    "        \n",
    "    if i == 0:\n",
    "        return False\n",
    "        \n",
    "    \n",
    "def search(el, lst):\n",
    "    return find_rec(el, lst, len(lst))\n",
    "\n",
    "assert search_rec(6, [], 0) == False\n",
    "assert search_rec(5, [5], 0) == False\n",
    "assert search_rec(5, [5], 1) == True\n",
    "assert search_rec(2, [2,9], 0) == False\n",
    "assert search_rec(2, [2,9], 1) == True\n",
    "assert search_rec(2, [2,9], 2) == True\n",
    "assert search_rec(5, [9,5], 2) == True\n",
    "assert search_rec('c', [5,'r',6,'c'], 4) == True\n",
    "assert search_rec(2, [4,'z',8,3,2], 5) == True\n",
    "assert search_rec(7, [4,9,8,'x',2], 5) == False"
   ]
  },
  {
   "cell_type": "markdown",
   "metadata": {},
   "source": [
    "### Exercise - bin_search\n",
    "\n",
    "If the list is already sorted we can write a faster search: write a recursive function which RETURN `True` if `el` is in the subsequence `[i,j)` of `lst`,  and `False` otherwise\n",
    "\n",
    "* `lst` is a list of $n$  **already sorted** elements \n",
    "* `i` and `j` are indeces between `0` included and $n$ **included**\n",
    "\n",
    "**MUST execute in** $O(log(n))$: to obtain this complexity, you will need to keep splitting the search interval in halves until you have a 1 element interval (or empty interval)\n",
    "\n",
    "**DO NOT** use `in` operator, `.find` nor `.index` methods\n",
    "\n",
    "**DO NOT** use `for`,  `while` cycles nor list comprehensions\n",
    "\n",
    "**DO NOT** use slices"
   ]
  },
  {
   "cell_type": "code",
   "execution_count": 40,
   "metadata": {},
   "outputs": [
    {
     "name": "stdout",
     "output_type": "stream",
     "text": [
      "True\n"
     ]
    }
   ],
   "source": [
    "def bin_search_rec(el, lst, i, j):    \n",
    "    raise Exception('TODO IMPLEMENT ME !')\n",
    "    \n",
    "def bin_search(el, lst):\n",
    "    return bin_search_rec(el, lst, 0, len(lst))\n",
    "\n",
    "\n",
    "print(bin_search(33, [8,9,15,17,20,24,28,29,33,36,39]))\n",
    "\n",
    "assert bin_search(5, [5]) == True\n",
    "assert bin_search(4, []) == False\n",
    "assert bin_search(3, [7]) == False\n",
    "assert bin_search(3, [3,7]) == True\n",
    "assert bin_search(3, [3,6]) == True\n",
    "assert bin_search(4, [2,9]) == False\n",
    "assert bin_search(5, [2,9]) == False\n",
    "assert bin_search(5, [5,7,9]) == True\n",
    "assert bin_search(7, [5,7,9]) == True\n",
    "assert bin_search(9, [5,7,9]) == True\n",
    "assert bin_search(4, [5,7,9]) == False\n",
    "assert bin_search(6, [5,7,9]) == False\n",
    "assert bin_search(8, [5,7,9]) == False\n",
    "assert bin_search(10, [5,7,9]) == False\n",
    "assert bin_search(33, [8,9,15,17,20,24,28,29,33,36,39]) == True\n",
    "assert bin_search(10, [8,9,15,17,20,24,28,29,33,36,39]) == False"
   ]
  },
  {
   "cell_type": "markdown",
   "metadata": {},
   "source": [
    "### Exercise - rev\n",
    "\n",
    "Write a recursive function `rev` which given a list and an index `i`, RETURN a NEW sublist with the elements starting from `i` included in reverse order.\n",
    "\n",
    "* `lst` is a list of $n$  integers\n",
    "* `i` is an index between `0` included and $n$ **included**\n",
    "\n",
    "```python\n",
    ">>> rev(['a','b','c','d','e'], i=0)\n",
    "['e', 'd', 'c', 'b', 'a']\n",
    ">>> rev(['a','b','c','d','e'], i=2)\n",
    "['e', 'd', 'c']\n",
    "```\n",
    "\n",
    "**ONLY USE** `.append()` to build return list\n",
    "\n",
    "**MUST** execute in $O(n)$\n",
    "\n",
    "**DO NOT** use `for`,  `while` cycles nor list comprehensions\n",
    "\n",
    "**DO NOT** use `.reverse()` nor `reversed()`\n",
    "\n",
    "**DO NOT** use slices\n",
    "\n",
    "**DO NOT** use `.extend` method nor `+` operator - they're expensive !\n",
    "\n",
    "**DO NOT** use `in` operator, `.find` nor `.index` methods"
   ]
  },
  {
   "cell_type": "code",
   "execution_count": 41,
   "metadata": {},
   "outputs": [],
   "source": [
    "def rev(lst, i=0):\n",
    "    raise Exception('TODO IMPLEMENT ME !')\n",
    "\n",
    "assert(rev([])) == []\n",
    "assert(rev(['z'])) == ['z']\n",
    "assert(rev(['a','z'])) == ['z','a']\n",
    "\n",
    "chars = ['a','b','c','d','e']\n",
    "assert(rev(chars)) == ['e', 'd', 'c', 'b', 'a']\n",
    "assert chars == ['a','b','c','d','e']"
   ]
  },
  {
   "cell_type": "markdown",
   "metadata": {},
   "source": [
    "###  Exercise - unnest\n",
    "\n",
    "Write  a recursive function `unnest_rec` which takes a list with an element and a nested list, and outputs a NEW list with all the nested elements in sequence.\n",
    "\n",
    "**DO NOT** use `for` nor `while` cycles or list comprehensions\n",
    "\n",
    "**DO NOT** use slices\n",
    "\n",
    "**MUST** execute in $O(n)$\n",
    "\n",
    "**NOTE 1**: if you use the `+` operator or `.extend` methods, you will likely get a $O(n^2)$ complexity (remember `+` takes $O(n)$ and `.extend` $O(m)$). \n",
    "\n",
    "`.append` would be much faster, but to do so you need the parameter `acc`, which is a list into which you will accumulate the elements found during the recursion. At the end of recursion you will return `acc`\n",
    "\n",
    "**NOTE 2**: last list contains only one element\n"
   ]
  },
  {
   "cell_type": "code",
   "execution_count": 42,
   "metadata": {},
   "outputs": [
    {
     "name": "stdout",
     "output_type": "stream",
     "text": [
      "['a', 'b', 'c']\n"
     ]
    }
   ],
   "source": [
    "\n",
    "def unnest_rec(lst, acc):\n",
    "    raise Exception('TODO IMPLEMENT ME !')\n",
    "    \n",
    "def unnest(lst):\n",
    "    return unnest_rec(lst, [])\n",
    "    \n",
    "print(unnest(['a',['b',['c']]]))    \n",
    "\n",
    "assert unnest([]) == []\n",
    "assert unnest(['a']) == ['a']\n",
    "assert unnest(['a',['b']]) == ['a', 'b']\n",
    "assert unnest(['a',['b',['c']]]) == ['a','b','c']\n",
    "assert unnest(['z',['q',['r']]]) == ['z','q','r']\n",
    "assert unnest(['a',['b',['c',['d',['e']]]]]) == ['a','b','c','d','e']"
   ]
  },
  {
   "cell_type": "markdown",
   "metadata": {},
   "source": [
    "### Exercise - cadillac\n",
    "\n",
    "Look at the following code:\n",
    "\n",
    "1. Is recursion eventually terminating after some time?\n",
    "2. What's the time complexity? \n",
    "3. What is this function doing?\n",
    "\n",
    "To get a better understanding, try adding an integer optional parameter `level=0` with the recursion level, and print the function passages indented according to the recursion `level`"
   ]
  },
  {
   "cell_type": "markdown",
   "metadata": {},
   "source": [
    "* `lst` : list of $n$ integers"
   ]
  },
  {
   "cell_type": "code",
   "execution_count": 43,
   "metadata": {},
   "outputs": [],
   "source": [
    "def cadillac(lst):\n",
    "    \n",
    "    if len(lst) == 0:\n",
    "        return 0\n",
    "    \n",
    "    if len(lst) == 1:\n",
    "        return lst[0]\n",
    "    \n",
    "    k = len(lst) // 2    \n",
    "    p = cadillac(lst[:k])    \n",
    "    q = cadillac(lst[k:])\n",
    "    return p + q"
   ]
  },
  {
   "cell_type": "markdown",
   "metadata": {},
   "source": [
    "**ANSWER**:\n"
   ]
  },
  {
   "cell_type": "markdown",
   "metadata": {},
   "source": [
    "Code with added debug prints and `level=0` param:"
   ]
  },
  {
   "cell_type": "code",
   "execution_count": 44,
   "metadata": {},
   "outputs": [
    {
     "name": "stdout",
     "output_type": "stream",
     "text": [
      " [4, 2, 6, 2, 9, 4, 8, 1, 5, 7, 1]\n",
      "     [4, 2, 6, 2, 9]\n",
      "         [4, 2]\n",
      "             [4]\n",
      "         p= 4\n",
      "             [2]\n",
      "         q= 2\n",
      "     p= 6\n",
      "         [6, 2, 9]\n",
      "             [6]\n",
      "         p= 6\n",
      "             [2, 9]\n",
      "                 [2]\n",
      "             p= 2\n",
      "                 [9]\n",
      "             q= 9\n",
      "         q= 11\n",
      "     q= 17\n",
      " p= 23\n",
      "     [4, 8, 1, 5, 7, 1]\n",
      "         [4, 8, 1]\n",
      "             [4]\n",
      "         p= 4\n",
      "             [8, 1]\n",
      "                 [8]\n",
      "             p= 8\n",
      "                 [1]\n",
      "             q= 1\n",
      "         q= 9\n",
      "     p= 13\n",
      "         [5, 7, 1]\n",
      "             [5]\n",
      "         p= 5\n",
      "             [7, 1]\n",
      "                 [7]\n",
      "             p= 7\n",
      "                 [1]\n",
      "             q= 1\n",
      "         q= 8\n",
      "     q= 13\n",
      " q= 26\n",
      "49\n"
     ]
    }
   ],
   "source": [
    "def cadillac(lst, level=0):\n",
    "    raise Exception('TODO IMPLEMENT ME !')\n",
    "\n",
    "res = cadillac([4,2,6,2,9,4,8,1,5,7,1])\n",
    "print(res)\n",
    "assert res == 49"
   ]
  },
  {
   "cell_type": "markdown",
   "metadata": {},
   "source": [
    "### Exercise - ducati\n",
    "\n",
    "The following function is similar to the previous one, but doesn't create slices\n",
    "\n",
    "* `lst` : list of $n$ integers\n",
    "* `i` : left integer index _included_\n",
    "* `j` : right integer index _excluded_\n",
    "\n",
    "\n",
    "1. Does it behave the same? \n",
    "2. What's the time complexity?"
   ]
  },
  {
   "cell_type": "code",
   "execution_count": 45,
   "metadata": {},
   "outputs": [],
   "source": [
    "def ducati_rec(lst, i,j):    \n",
    "    interval =  j - i              \n",
    "    \n",
    "    if interval == 0:              \n",
    "        return 0                   \n",
    "    \n",
    "    if interval == 1:              \n",
    "        return lst[i]              \n",
    "    \n",
    "    k = i + (interval // 2)        \n",
    "    p = ducati_rec(lst,i,k)        \n",
    "    q = ducati_rec(lst,k,j)        \n",
    "    return p + q                       \n",
    "\n",
    "def ducati(lst):                   \n",
    "    return ducati_rec(lst,0,len(lst))    "
   ]
  },
  {
   "cell_type": "markdown",
   "metadata": {},
   "source": [
    "**ANSWER**:\n"
   ]
  },
  {
   "cell_type": "markdown",
   "metadata": {},
   "source": [
    "## Analysis - more exercises\n",
    "\n",
    "\n",
    "[Theory exercises (complexity, tree visits, graph visits) - by Alberto Montresor](https://drive.google.com/drive/folders/1RwjiSvIq60Z9mj_gCd5K2E6Bj9y1R0CL)\n",
    "\n",
    "\n",
    "## Recursion - more exercises\n",
    "\n",
    "[Computer Science Circles](https://cscircles.cemc.uwaterloo.ca/16-recursion/): nice chapter about recursion with some exercises\n",
    "\n",
    "[W3 Resources](https://www.w3resource.com/python-exercises/data-structures-and-algorithms/python-recursion.php): some recursion exercises\n",
    "\n",
    "[Edabit](https://edabit.com/challenges): Search by setting 'Recursion' as tag - notice many provided solutions are not actually in recursive format.\n",
    "\n",
    "Geeks for geeks (Pyhton solutions are typically provided down in the pages):\n",
    "\n",
    "- [questions set 2](https://www.geeksforgeeks.org/practice-questions-for-recursion-set-2/?ref=rp)\n",
    "- [questions set 3](https://www.geeksforgeeks.org/practice-questions-for-recursion-set-3/?ref=lbp)\n",
    "- [questions set 4](https://www.geeksforgeeks.org/practice-questions-for-recursion-set-4/?ref=rp)\n",
    "- [questions set 5](https://www.geeksforgeeks.org/practice-questions-for-recursion-set-5/?ref=lbp)\n",
    "- [questions 6](https://www.geeksforgeeks.org/practice-questions-for-recursion-set-6/?ref=lbp)\n",
    "- [questions 7](https://www.geeksforgeeks.org/practice-questions-for-recursion-set-7/?ref=lbp)\n",
    "- [Length of a string](https://www.geeksforgeeks.org/program-for-length-of-a-string-using-recursion/)\n",
    "- [Recursive programs to find min and max](https://www.geeksforgeeks.org/recursive-programs-to-find-minimum-and-maximum-elements-of-array/?ref=rp)\n",
    "- [Print a pattern without using any loop](https://www.geeksforgeeks.org/print-a-pattern-without-using-any-loop/)\n",
    "- [Sum triangle from array](https://www.geeksforgeeks.org/sum-triangle-from-array/)\n",
    "- [Print all n-digit strictly increasing numbers](https://www.geeksforgeeks.org/print-all-n-digit-strictly-increasing-numbers/)\n",
    "- [Recursive insertion sort](https://www.geeksforgeeks.org/recursive-insertion-sort/?ref=rp)\n"
   ]
  },
  {
   "cell_type": "code",
   "execution_count": null,
   "metadata": {},
   "outputs": [],
   "source": []
  }
 ],
 "metadata": {
  "celltoolbar": "Edit Metadata",
  "kernelspec": {
   "display_name": "Python 3",
   "language": "python",
   "name": "python3"
  },
  "language_info": {
   "codemirror_mode": {
    "name": "ipython",
    "version": 3
   },
   "file_extension": ".py",
   "mimetype": "text/x-python",
   "name": "python",
   "nbconvert_exporter": "python",
   "pygments_lexer": "ipython3",
   "version": "3.8.3"
  },
  "toc": {
   "base_numbering": 1,
   "nav_menu": {},
   "number_sections": false,
   "sideBar": true,
   "skip_h1_title": false,
   "title_cell": "Table of Contents",
   "title_sidebar": "Contents",
   "toc_cell": false,
   "toc_position": {},
   "toc_section_display": true,
   "toc_window_display": true
  }
 },
 "nbformat": 4,
 "nbformat_minor": 4
}
