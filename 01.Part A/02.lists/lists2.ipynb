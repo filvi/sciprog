{
 "cells": [
  {
   "cell_type": "code",
   "execution_count": 1,
   "metadata": {
    "nbsphinx": "hidden"
   },
   "outputs": [],
   "source": [
    "# Remember to execute this cell with Shift+Enter\n",
    "\n",
    "import jupman"
   ]
  },
  {
   "cell_type": "markdown",
   "metadata": {},
   "source": [
    "# Lists 2 - operators EXERCISES\n",
    "\n",
    "## [Download exercises zip](_static/generated/lists.zip)\n",
    "\n",
    "[Browse online files](https://github.com/DavidLeoni/softpython-en/tree/master/lists)\n",
    "\n",
    "There are several operators to manipulate lists. The following ones behave like the ones we've seen in strings:\n",
    "\n",
    "|Operator|Result|Meaning|\n",
    "|---|---|----|\n",
    "|`len`(lst)|`int`|Return the list length|\n",
    "|list`[`int`]`|obj|Reads/writes an element at the specified index|\n",
    "|list`[`int`:`int`]`|`list`| Extracts a sublist - return a NEW list|\n",
    "|obj `in` list|`bool`|Cheks if the element is contained in the list|\n",
    "|list `+` list|`list`|Concatenates two lists - return a NEW list|\n",
    "|`max`(lst)|`int`|Given a list of numbers, return the greatest one|\n",
    "|`min`(lst)|`int`|Given a list of numbers, returns the smallest one|\n",
    "|`sum`(lst)|`int`|Given a list of numbers, sums all of them|\n",
    "|list `*` int|`list`| Replicates the list - return a NEW list|\n",
    "|`==`,`!=`|`bool`| Cheks whether lists are equal of different|"
   ]
  },
  {
   "cell_type": "markdown",
   "metadata": {},
   "source": [
    "## What to do\n",
    "\n",
    "1. Unzip [exercises zip](_static/generated/lists.zip) in a folder, you should obtain something like this:\n",
    "\n",
    "```\n",
    "lists\n",
    "    lists1.ipynb    \n",
    "    lists1-sol.ipynb         \n",
    "    lists2.ipynb\n",
    "    lists2-sol.ipynb\n",
    "    lists3.ipynb\n",
    "    lists3-sol.ipynb    \n",
    "    lists4.ipynb\n",
    "    lists4-sol.ipynb    \n",
    "    jupman.py         \n",
    "```\n",
    "\n",
    "<div class=\"alert alert-warning\">\n",
    "\n",
    "**WARNING: to correctly visualize the notebook, it MUST be in an unzipped folder !**\n",
    "</div>"
   ]
  },
  {
   "cell_type": "markdown",
   "metadata": {},
   "source": [
    "2. open Jupyter Notebook from that folder. Two things should open, first a console and then a browser. The browser should show a file list: navigate the list and open the notebook `lists2.ipynb`\n",
    "\n",
    "3. Go on reading the exercises file, sometimes you will find paragraphs marked **Exercises** which will ask to write Python commands in the following cells. Exercises are graded by difficulty, from one star ✪ to four ✪✪✪✪"
   ]
  },
  {
   "cell_type": "markdown",
   "metadata": {},
   "source": [
    "Shortcut keys:\n",
    "\n",
    "- to execute Python code inside a Jupyter cell, press `Control + Enter`\n",
    "\n",
    "- to execute Python code inside a Jupyter cell AND select next cell, press `Shift + Enter`\n",
    "\n",
    "- to execute Python code inside a Jupyter cell AND a create a new cell aftwerwards, press `Alt + Enter`\n",
    "\n",
    "- If the notebooks look stuck, try to select `Kernel -> Restart`"
   ]
  },
  {
   "cell_type": "markdown",
   "metadata": {},
   "source": [
    "## Length of a list\n",
    "\n",
    "A list is a sequence, and like any sequence you can use the function `len` to obtain the length:"
   ]
  },
  {
   "cell_type": "code",
   "execution_count": 2,
   "metadata": {},
   "outputs": [],
   "source": [
    "a = [7,5,8]"
   ]
  },
  {
   "cell_type": "code",
   "execution_count": 3,
   "metadata": {},
   "outputs": [
    {
     "data": {
      "text/plain": [
       "3"
      ]
     },
     "execution_count": 3,
     "metadata": {},
     "output_type": "execute_result"
    }
   ],
   "source": [
    "len(a)"
   ]
  },
  {
   "cell_type": "code",
   "execution_count": 4,
   "metadata": {},
   "outputs": [],
   "source": [
    "b = [8,3,6,4,7]"
   ]
  },
  {
   "cell_type": "code",
   "execution_count": 5,
   "metadata": {},
   "outputs": [
    {
     "data": {
      "text/plain": [
       "5"
      ]
     },
     "execution_count": 5,
     "metadata": {},
     "output_type": "execute_result"
    }
   ],
   "source": [
    "len(b)"
   ]
  },
  {
   "cell_type": "markdown",
   "metadata": {},
   "source": [
    "If a list contains other lists, they count as single elements:"
   ]
  },
  {
   "cell_type": "code",
   "execution_count": 6,
   "metadata": {},
   "outputs": [],
   "source": [
    "mixed = [ \n",
    "            [4,5,1],\n",
    "            [8,6],\n",
    "            [7,6,0,8],\n",
    "        ]"
   ]
  },
  {
   "cell_type": "code",
   "execution_count": 7,
   "metadata": {},
   "outputs": [
    {
     "data": {
      "text/plain": [
       "3"
      ]
     },
     "execution_count": 7,
     "metadata": {},
     "output_type": "execute_result"
    }
   ],
   "source": [
    "len(mixed)"
   ]
  },
  {
   "cell_type": "markdown",
   "metadata": {},
   "source": [
    "<div class=\"alert alert-warning\">\n",
    "\n",
    "**WARNING: YOU CAN'T use** `len` **as a method**\n",
    "    \n",
    "For example, this DOESN'T work: `[3,4,2].len()`\n",
    "\n",
    "</div>"
   ]
  },
  {
   "cell_type": "markdown",
   "metadata": {},
   "source": [
    "**EXERCISE**: Try writing `[3,4,2].len()` here, which error appears?"
   ]
  },
  {
   "cell_type": "code",
   "execution_count": 1,
   "metadata": {},
   "outputs": [
    {
     "ename": "AttributeError",
     "evalue": "'list' object has no attribute 'len'",
     "output_type": "error",
     "traceback": [
      "\u001b[1;31m---------------------------------------------------------------------------\u001b[0m",
      "\u001b[1;31mAttributeError\u001b[0m                            Traceback (most recent call last)",
      "\u001b[1;32m<ipython-input-1-8b4ebe74205b>\u001b[0m in \u001b[0;36m<module>\u001b[1;34m\u001b[0m\n\u001b[0;32m      1\u001b[0m \u001b[1;31m# write here\u001b[0m\u001b[1;33m\u001b[0m\u001b[1;33m\u001b[0m\u001b[1;33m\u001b[0m\u001b[0m\n\u001b[1;32m----> 2\u001b[1;33m \u001b[1;33m[\u001b[0m\u001b[1;36m3\u001b[0m\u001b[1;33m,\u001b[0m\u001b[1;36m4\u001b[0m\u001b[1;33m,\u001b[0m\u001b[1;36m2\u001b[0m\u001b[1;33m]\u001b[0m\u001b[1;33m.\u001b[0m\u001b[0mlen\u001b[0m\u001b[1;33m(\u001b[0m\u001b[1;33m)\u001b[0m\u001b[1;33m\u001b[0m\u001b[1;33m\u001b[0m\u001b[0m\n\u001b[0m",
      "\u001b[1;31mAttributeError\u001b[0m: 'list' object has no attribute 'len'"
     ]
    }
   ],
   "source": [
    "# write here\n",
    "[3,4,2].len()"
   ]
  },
  {
   "cell_type": "markdown",
   "metadata": {},
   "source": [
    "**EXERCISE**: Try writing `[3,4,2].len` WITHOUT the round parenthesis at the end, which error appears?"
   ]
  },
  {
   "cell_type": "code",
   "execution_count": 2,
   "metadata": {},
   "outputs": [
    {
     "ename": "AttributeError",
     "evalue": "'list' object has no attribute 'len'",
     "output_type": "error",
     "traceback": [
      "\u001b[1;31m---------------------------------------------------------------------------\u001b[0m",
      "\u001b[1;31mAttributeError\u001b[0m                            Traceback (most recent call last)",
      "\u001b[1;32m<ipython-input-2-321bb1995d86>\u001b[0m in \u001b[0;36m<module>\u001b[1;34m\u001b[0m\n\u001b[0;32m      1\u001b[0m \u001b[1;31m# write here\u001b[0m\u001b[1;33m\u001b[0m\u001b[1;33m\u001b[0m\u001b[1;33m\u001b[0m\u001b[0m\n\u001b[0;32m      2\u001b[0m \u001b[1;33m\u001b[0m\u001b[0m\n\u001b[1;32m----> 3\u001b[1;33m \u001b[1;33m[\u001b[0m\u001b[1;36m3\u001b[0m\u001b[1;33m,\u001b[0m\u001b[1;36m4\u001b[0m\u001b[1;33m,\u001b[0m\u001b[1;36m2\u001b[0m\u001b[1;33m]\u001b[0m\u001b[1;33m.\u001b[0m\u001b[0mlen\u001b[0m\u001b[1;33m\u001b[0m\u001b[1;33m\u001b[0m\u001b[0m\n\u001b[0m",
      "\u001b[1;31mAttributeError\u001b[0m: 'list' object has no attribute 'len'"
     ]
    }
   ],
   "source": [
    "# write here\n",
    "\n",
    "[3,4,2].len"
   ]
  },
  {
   "cell_type": "markdown",
   "metadata": {},
   "source": [
    "**QUESTION**: If `x` is some list, by writing:\n",
    "\n",
    "`len(len(x))`\n",
    "\n",
    "what do we get?\n",
    "\n",
    "1. the length of the list\n",
    "2. an error\n",
    "3. something else"
   ]
  },
  {
   "cell_type": "markdown",
   "metadata": {},
   "source": [
    "**ANSWER**:\n"
   ]
  },
  {
   "cell_type": "code",
   "execution_count": 6,
   "metadata": {},
   "outputs": [
    {
     "ename": "TypeError",
     "evalue": "object of type 'int' has no len()",
     "output_type": "error",
     "traceback": [
      "\u001b[1;31m---------------------------------------------------------------------------\u001b[0m",
      "\u001b[1;31mTypeError\u001b[0m                                 Traceback (most recent call last)",
      "\u001b[1;32m<ipython-input-6-48b33cc9995c>\u001b[0m in \u001b[0;36m<module>\u001b[1;34m\u001b[0m\n\u001b[0;32m      1\u001b[0m \u001b[1;31m# write here\u001b[0m\u001b[1;33m\u001b[0m\u001b[1;33m\u001b[0m\u001b[1;33m\u001b[0m\u001b[0m\n\u001b[0;32m      2\u001b[0m \u001b[0mx\u001b[0m \u001b[1;33m=\u001b[0m \u001b[1;33m[\u001b[0m\u001b[1;33m]\u001b[0m\u001b[1;33m\u001b[0m\u001b[1;33m\u001b[0m\u001b[0m\n\u001b[1;32m----> 3\u001b[1;33m \u001b[0mlen\u001b[0m\u001b[1;33m(\u001b[0m\u001b[0mlen\u001b[0m\u001b[1;33m(\u001b[0m\u001b[0mx\u001b[0m\u001b[1;33m)\u001b[0m\u001b[1;33m)\u001b[0m\u001b[1;33m\u001b[0m\u001b[1;33m\u001b[0m\u001b[0m\n\u001b[0m",
      "\u001b[1;31mTypeError\u001b[0m: object of type 'int' has no len()"
     ]
    }
   ],
   "source": [
    "# write here\n",
    "x = []\n",
    "len(len(x))"
   ]
  },
  {
   "cell_type": "markdown",
   "metadata": {},
   "source": [
    "**QUESTION**: Look at this expression, without executing it. What does it produce?\n",
    "\n",
    "```python\n",
    "[len([]), len([len(['a','b'])])]\n",
    "```\n",
    "\n",
    "1. an error (which one?)\n",
    "2. a number (which one?)\n",
    "3. a list (which one?)\n",
    "\n",
    "Try writing the result by hand, and then compare it with the one obtained by executing the code in a cell."
   ]
  },
  {
   "cell_type": "markdown",
   "metadata": {},
   "source": [
    "**ANSWER**:\n"
   ]
  },
  {
   "cell_type": "code",
   "execution_count": 7,
   "metadata": {},
   "outputs": [
    {
     "data": {
      "text/plain": [
       "[0, 1]"
      ]
     },
     "execution_count": 7,
     "metadata": {},
     "output_type": "execute_result"
    }
   ],
   "source": [
    "[len([]), len([len(['a','b'])])]"
   ]
  },
  {
   "cell_type": "markdown",
   "metadata": {},
   "source": [
    "**QUESTION**: Look at this expression, without executing it. What does it produce? \n",
    "\n",
    "```python\n",
    "len([[[],[]],[],[[[]]],[[],[]]])\n",
    "```\n",
    "\n",
    "1. an error (which one?)\n",
    "2. a number (which one?)\n",
    "3. a list (which one?)"
   ]
  },
  {
   "cell_type": "markdown",
   "metadata": {},
   "source": [
    "**ANSWER**:\n"
   ]
  },
  {
   "cell_type": "markdown",
   "metadata": {},
   "source": [
    "**QUESTION**: What does the following expression produce?\n",
    "\n",
    "```python\n",
    "[[((len('ababb')))],len([\"argg\",('b'),(\"c\")]), len([len(\"bc\")])]\n",
    "```"
   ]
  },
  {
   "cell_type": "markdown",
   "metadata": {},
   "source": [
    "**ANSWER**:\n"
   ]
  },
  {
   "cell_type": "markdown",
   "metadata": {},
   "source": [
    "## Reading an element\n",
    "\n",
    "Like for strings, we can access an element a list element by putting the index of the position we want to access among square brackets:"
   ]
  },
  {
   "cell_type": "code",
   "execution_count": 11,
   "metadata": {},
   "outputs": [],
   "source": [
    "    # 0   1   2   3   \n",
    "la = [77, 69, 95, 57]"
   ]
  },
  {
   "cell_type": "markdown",
   "metadata": {},
   "source": [
    "<div class=\"alert alert-warning\">\n",
    "\n",
    "**As for any sequence, the positions start from** `0`:\n",
    "</div>"
   ]
  },
  {
   "cell_type": "code",
   "execution_count": 12,
   "metadata": {},
   "outputs": [
    {
     "data": {
      "text/plain": [
       "77"
      ]
     },
     "execution_count": 12,
     "metadata": {},
     "output_type": "execute_result"
    }
   ],
   "source": [
    "la[0]"
   ]
  },
  {
   "cell_type": "code",
   "execution_count": 13,
   "metadata": {},
   "outputs": [
    {
     "data": {
      "text/plain": [
       "69"
      ]
     },
     "execution_count": 13,
     "metadata": {},
     "output_type": "execute_result"
    }
   ],
   "source": [
    "la[1]"
   ]
  },
  {
   "cell_type": "code",
   "execution_count": 14,
   "metadata": {},
   "outputs": [
    {
     "data": {
      "text/plain": [
       "95"
      ]
     },
     "execution_count": 14,
     "metadata": {},
     "output_type": "execute_result"
    }
   ],
   "source": [
    "la[2]"
   ]
  },
  {
   "cell_type": "code",
   "execution_count": 15,
   "metadata": {},
   "outputs": [
    {
     "data": {
      "text/plain": [
       "57"
      ]
     },
     "execution_count": 15,
     "metadata": {},
     "output_type": "execute_result"
    }
   ],
   "source": [
    "la[3]"
   ]
  },
  {
   "cell_type": "markdown",
   "metadata": {},
   "source": [
    "Like for any string, if we exaggerate with the index we get an error:"
   ]
  },
  {
   "cell_type": "markdown",
   "metadata": {},
   "source": [
    "```python\n",
    "\n",
    "la[4]\n",
    "\n",
    "---------------------------------------------------------------------------\n",
    "IndexError                                Traceback (most recent call last)\n",
    "<ipython-input-134-09bfed834fa2> in <module>\n",
    "----> 1 la[4]\n",
    "\n",
    "IndexError: list index out of range\n",
    "```"
   ]
  },
  {
   "cell_type": "markdown",
   "metadata": {},
   "source": [
    "As in strings, we can obtain last element by using a negative index:"
   ]
  },
  {
   "cell_type": "code",
   "execution_count": 16,
   "metadata": {},
   "outputs": [],
   "source": [
    "    # 0   1   2   3   \n",
    "la = [77, 69, 95, 57]"
   ]
  },
  {
   "cell_type": "code",
   "execution_count": 17,
   "metadata": {},
   "outputs": [
    {
     "data": {
      "text/plain": [
       "57"
      ]
     },
     "execution_count": 17,
     "metadata": {},
     "output_type": "execute_result"
    }
   ],
   "source": [
    "la[-1]"
   ]
  },
  {
   "cell_type": "code",
   "execution_count": 18,
   "metadata": {},
   "outputs": [
    {
     "data": {
      "text/plain": [
       "95"
      ]
     },
     "execution_count": 18,
     "metadata": {},
     "output_type": "execute_result"
    }
   ],
   "source": [
    "la[-2]"
   ]
  },
  {
   "cell_type": "code",
   "execution_count": 19,
   "metadata": {},
   "outputs": [
    {
     "data": {
      "text/plain": [
       "69"
      ]
     },
     "execution_count": 19,
     "metadata": {},
     "output_type": "execute_result"
    }
   ],
   "source": [
    "la[-3]"
   ]
  },
  {
   "cell_type": "code",
   "execution_count": 20,
   "metadata": {},
   "outputs": [
    {
     "data": {
      "text/plain": [
       "77"
      ]
     },
     "execution_count": 20,
     "metadata": {},
     "output_type": "execute_result"
    }
   ],
   "source": [
    "la[-4]"
   ]
  },
  {
   "cell_type": "markdown",
   "metadata": {},
   "source": [
    "If we go beyond the list length, we get an error:"
   ]
  },
  {
   "cell_type": "markdown",
   "metadata": {},
   "source": [
    "```python\n",
    "la[-5]\n",
    "\n",
    "---------------------------------------------------------------------------\n",
    "IndexError                                Traceback (most recent call last)\n",
    "<ipython-input-169-f77280923dce> in <module>\n",
    "----> 1 la[-5]\n",
    "\n",
    "IndexError: list index out of range\n",
    "\n",
    "```"
   ]
  },
  {
   "cell_type": "markdown",
   "metadata": {},
   "source": [
    "**QUESTION**: if `x` is some list, by writing:\n",
    "\n",
    "```python\n",
    "x[0]\n",
    "```\n",
    "\n",
    "what do we get?\n",
    "\n",
    "1. the first element of the list\n",
    "2. always an error\n",
    "3. sometimes an element, sometimes an error according to the list"
   ]
  },
  {
   "cell_type": "markdown",
   "metadata": {},
   "source": [
    "**ANSWER**:\n"
   ]
  },
  {
   "cell_type": "code",
   "execution_count": null,
   "metadata": {},
   "outputs": [],
   "source": []
  },
  {
   "cell_type": "markdown",
   "metadata": {},
   "source": [
    "**QUESTION**: if `x` is some list, by writing:\n",
    "\n",
    "```python\n",
    "x[len(x)]\n",
    "```\n",
    "\n",
    "what do we get?\n",
    "\n",
    "1. an element of the list\n",
    "2. always an error\n",
    "3. sometimes an element, sometimes an error according to the list"
   ]
  },
  {
   "cell_type": "markdown",
   "metadata": {},
   "source": [
    "**ANSWER**:\n"
   ]
  },
  {
   "cell_type": "markdown",
   "metadata": {},
   "source": [
    "## Writing an element\n",
    "\n",
    "Since all the lists are MUTABLE, given a list object we can change the content of any cell inside.\n",
    "\n",
    "For example, suppose you want to change the cell at index `2` of the list `la`,  from `6` to `5`:"
   ]
  },
  {
   "cell_type": "code",
   "execution_count": 21,
   "metadata": {},
   "outputs": [],
   "source": [
    "     #0  1  2  3   \n",
    "la = [7, 9, 6, 8]"
   ]
  },
  {
   "cell_type": "markdown",
   "metadata": {},
   "source": [
    "We might write like this:"
   ]
  },
  {
   "cell_type": "code",
   "execution_count": 22,
   "metadata": {},
   "outputs": [],
   "source": [
    "la[2] = 5\n"
   ]
  },
  {
   "cell_type": "code",
   "execution_count": 23,
   "metadata": {},
   "outputs": [
    {
     "data": {
      "text/plain": [
       "[7, 9, 5, 8]"
      ]
     },
     "execution_count": 23,
     "metadata": {},
     "output_type": "execute_result"
    }
   ],
   "source": [
    "la"
   ]
  },
  {
   "cell_type": "markdown",
   "metadata": {},
   "source": [
    "Let's see what's happening with Python Tutor:"
   ]
  },
  {
   "cell_type": "code",
   "execution_count": 9,
   "metadata": {},
   "outputs": [],
   "source": [
    "# WARNING: FOR PYTHON TUTOR TO WORT, REMEMBER TO EXECUTE THIS CELL with Shift+Enter      \n",
    "#          (it's sufficient to execute it only once)\n",
    "\n",
    "\n",
    "import jupman"
   ]
  },
  {
   "cell_type": "code",
   "execution_count": 10,
   "metadata": {},
   "outputs": [
    {
     "data": {
      "text/html": [
       "\n",
       "        <script src=\"_static/js/pytutor-embed.bundle.min.js\" type=\"application/javascript\"></script>\n",
       "     \n",
       "        <script id=\"json-jm5a92c832-e9fc-4f76-9779-7a3e351ffc15\" type=\"application/json\" >\n",
       "            {\"code\": \" \\n#     0  1  2  3   \\nla = [7, 9, 6, 8]\\nla[2] = 5\", \"trace\": [{\"line\": 3, \"event\": \"step_line\", \"func_name\": \"<module>\", \"globals\": {}, \"ordered_globals\": [], \"stack_to_render\": [], \"heap\": {}, \"stdout\": \"\"}, {\"line\": 4, \"event\": \"step_line\", \"func_name\": \"<module>\", \"globals\": {\"la\": [\"REF\", 1]}, \"ordered_globals\": [\"la\"], \"stack_to_render\": [], \"heap\": {\"1\": [\"LIST\", 7, 9, 6, 8]}, \"stdout\": \"\"}, {\"line\": 4, \"event\": \"return\", \"func_name\": \"<module>\", \"globals\": {\"la\": [\"REF\", 1]}, \"ordered_globals\": [\"la\"], \"stack_to_render\": [], \"heap\": {\"1\": [\"LIST\", 7, 9, 5, 8]}, \"stdout\": \"\"}]}\n",
       "        </script>\n",
       "        <div id=\"jm5a92c832-e9fc-4f76-9779-7a3e351ffc15\" class=\"pytutorVisualizer\"> </div>\n",
       " \n",
       "        <style>\n",
       "        .vizLayoutTd {\n",
       "            background-color: #fff !important;\n",
       "        }\n",
       "\n",
       "        #pyStdout {            \n",
       "            min-height:25px;\n",
       "        }\n",
       "\n",
       "        /* 'Edit this code' link, hiding because replaces browser tab !!!*/\n",
       "        #editCodeLinkDiv {\n",
       "            display:none;  \n",
       "        }\n",
       "        </style>   \n",
       "                            \n",
       "        <script>\n",
       "        (function(){\n",
       "\n",
       "            var trace = JSON.parse(document.getElementById('json-jm5a92c832-e9fc-4f76-9779-7a3e351ffc15').innerHTML);                                        \n",
       "            // NOTE 1: id without #\n",
       "            // NOTE 2 - maybe there are more predictable ways, but this will work anyway\n",
       "            //        - id should be number\n",
       "            visualizerIdOverride = Math.trunc(Math.random() * 100000000000)\n",
       "            addVisualizerToPage(trace, 'jm5a92c832-e9fc-4f76-9779-7a3e351ffc15',{'embeddedMode' : false,\n",
       "                                             'visualizerIdOverride':visualizerIdOverride})  \n",
       "            \n",
       "            \n",
       "            // set overflow for pytuts - need to do in python as css \n",
       "            // does not allow parent selection\n",
       "            var pytuts = $('.pytutorVisualizer')\n",
       "            pytuts.closest('div.output_html.rendered_html.output_result')\n",
       "                    .css('overflow-x', 'visible')\n",
       "        \n",
       "            //pytuts.closest('div.output_html.rendered_html.output_result')\n",
       "            //      .css('background-color','red')                \n",
       "            \n",
       "        })()\n",
       "        </script>\n",
       "                \n",
       "                "
      ],
      "text/plain": [
       "<IPython.core.display.HTML object>"
      ]
     },
     "execution_count": 10,
     "metadata": {},
     "output_type": "execute_result"
    }
   ],
   "source": [
    "#     0  1  2  3   \n",
    "la = [7, 9, 6, 8]\n",
    "la[2] = 5\n",
    "\n",
    "jupman.pytut()"
   ]
  },
  {
   "cell_type": "markdown",
   "metadata": {},
   "source": [
    "As you see, no new memory regions are created, it just overwrites an existing cell."
   ]
  },
  {
   "cell_type": "markdown",
   "metadata": {},
   "source": [
    "## Mutating shared lists\n",
    "\n",
    "<div class=\"alert alert-warning\">\n",
    "    \n",
    "**WARNING: 90% OF PROGRAMMING ERRORS ARE CAUSED BY MISUNDERSTANDING THIS TOPIC !!!**\n",
    "</div>\n",
    "\n",
    "<div class=\"alert alert-warning\">\n",
    "    \n",
    "**READ VERY WELL !!!**\n",
    "</div>\n",
    "\n",
    "What happens when we associate the same identical mutable object to two variables, like for example a list, and then we mutate the object using one of the two variables?\n",
    "\n",
    "Let's look at an example - first, we associate the list `[7,9,6]` to variable `la`:"
   ]
  },
  {
   "cell_type": "code",
   "execution_count": 26,
   "metadata": {},
   "outputs": [],
   "source": [
    "la = [7,9,6]"
   ]
  },
  {
   "cell_type": "markdown",
   "metadata": {},
   "source": [
    "Now we define a new variable `lb`, and we associate the _same value_ that was already associated to variable `la`. Note: we are NOT creating new lists !"
   ]
  },
  {
   "cell_type": "code",
   "execution_count": 27,
   "metadata": {},
   "outputs": [],
   "source": [
    "lb = la    "
   ]
  },
  {
   "cell_type": "code",
   "execution_count": 28,
   "metadata": {},
   "outputs": [
    {
     "name": "stdout",
     "output_type": "stream",
     "text": [
      "[7, 9, 6]\n"
     ]
    }
   ],
   "source": [
    "print(la)  # la is always the same"
   ]
  },
  {
   "cell_type": "code",
   "execution_count": 29,
   "metadata": {},
   "outputs": [
    {
     "name": "stdout",
     "output_type": "stream",
     "text": [
      "[7, 9, 6]\n"
     ]
    }
   ],
   "source": [
    "print(lb)  # lb is the *same* list associated to la"
   ]
  },
  {
   "cell_type": "markdown",
   "metadata": {},
   "source": [
    "We can now try modifying a cell of `lb`, putting `5` in the cell at index `0`:"
   ]
  },
  {
   "cell_type": "code",
   "execution_count": 30,
   "metadata": {},
   "outputs": [],
   "source": [
    "lb[0] = 5 "
   ]
  },
  {
   "cell_type": "markdown",
   "metadata": {},
   "source": [
    "If we try printing the variables `la` and `lb`, Python will look at the values associated to each variable. Since the value is the same identical list (which is in the same identical memory region), in both cases you will see the change we just did !"
   ]
  },
  {
   "cell_type": "code",
   "execution_count": 31,
   "metadata": {},
   "outputs": [
    {
     "name": "stdout",
     "output_type": "stream",
     "text": [
      "[5, 9, 6]\n"
     ]
    }
   ],
   "source": [
    "print(la)"
   ]
  },
  {
   "cell_type": "code",
   "execution_count": 32,
   "metadata": {},
   "outputs": [
    {
     "name": "stdout",
     "output_type": "stream",
     "text": [
      "[5, 9, 6]\n"
     ]
    }
   ],
   "source": [
    "print(lb)"
   ]
  },
  {
   "cell_type": "markdown",
   "metadata": {},
   "source": [
    "Let's see in detail what happens with Python Tutor:"
   ]
  },
  {
   "cell_type": "code",
   "execution_count": 11,
   "metadata": {},
   "outputs": [
    {
     "name": "stdout",
     "output_type": "stream",
     "text": [
      "la è [5, 9, 6]\n",
      "lb è [5, 9, 6]\n"
     ]
    },
    {
     "data": {
      "text/html": [
       "\n",
       "        <script src=\"_static/js/pytutor-embed.bundle.min.js\" type=\"application/javascript\"></script>\n",
       "     \n",
       "        <script id=\"json-jmd1ebbc62-394b-4e6e-a677-120c5a642e90\" type=\"application/json\" >\n",
       "            {\"code\": \" \\nla = [7,9,6]\\nlb = la\\nlb[0] = 5 \\nprint('la \\u00e8', la)\\nprint('lb \\u00e8', lb)\", \"trace\": [{\"line\": 2, \"event\": \"step_line\", \"func_name\": \"<module>\", \"globals\": {}, \"ordered_globals\": [], \"stack_to_render\": [], \"heap\": {}, \"stdout\": \"\"}, {\"line\": 3, \"event\": \"step_line\", \"func_name\": \"<module>\", \"globals\": {\"la\": [\"REF\", 1]}, \"ordered_globals\": [\"la\"], \"stack_to_render\": [], \"heap\": {\"1\": [\"LIST\", 7, 9, 6]}, \"stdout\": \"\"}, {\"line\": 4, \"event\": \"step_line\", \"func_name\": \"<module>\", \"globals\": {\"la\": [\"REF\", 1], \"lb\": [\"REF\", 1]}, \"ordered_globals\": [\"la\", \"lb\"], \"stack_to_render\": [], \"heap\": {\"1\": [\"LIST\", 7, 9, 6]}, \"stdout\": \"\"}, {\"line\": 5, \"event\": \"step_line\", \"func_name\": \"<module>\", \"globals\": {\"la\": [\"REF\", 1], \"lb\": [\"REF\", 1]}, \"ordered_globals\": [\"la\", \"lb\"], \"stack_to_render\": [], \"heap\": {\"1\": [\"LIST\", 5, 9, 6]}, \"stdout\": \"\"}, {\"line\": 6, \"event\": \"step_line\", \"func_name\": \"<module>\", \"globals\": {\"la\": [\"REF\", 1], \"lb\": [\"REF\", 1]}, \"ordered_globals\": [\"la\", \"lb\"], \"stack_to_render\": [], \"heap\": {\"1\": [\"LIST\", 5, 9, 6]}, \"stdout\": \"la \\u00e8 [5, 9, 6]\\n\"}, {\"line\": 6, \"event\": \"return\", \"func_name\": \"<module>\", \"globals\": {\"la\": [\"REF\", 1], \"lb\": [\"REF\", 1]}, \"ordered_globals\": [\"la\", \"lb\"], \"stack_to_render\": [], \"heap\": {\"1\": [\"LIST\", 5, 9, 6]}, \"stdout\": \"la \\u00e8 [5, 9, 6]\\nlb \\u00e8 [5, 9, 6]\\n\"}]}\n",
       "        </script>\n",
       "        <div id=\"jmd1ebbc62-394b-4e6e-a677-120c5a642e90\" class=\"pytutorVisualizer\"> </div>\n",
       " \n",
       "        <style>\n",
       "        .vizLayoutTd {\n",
       "            background-color: #fff !important;\n",
       "        }\n",
       "\n",
       "        #pyStdout {            \n",
       "            min-height:25px;\n",
       "        }\n",
       "\n",
       "        /* 'Edit this code' link, hiding because replaces browser tab !!!*/\n",
       "        #editCodeLinkDiv {\n",
       "            display:none;  \n",
       "        }\n",
       "        </style>   \n",
       "                            \n",
       "        <script>\n",
       "        (function(){\n",
       "\n",
       "            var trace = JSON.parse(document.getElementById('json-jmd1ebbc62-394b-4e6e-a677-120c5a642e90').innerHTML);                                        \n",
       "            // NOTE 1: id without #\n",
       "            // NOTE 2 - maybe there are more predictable ways, but this will work anyway\n",
       "            //        - id should be number\n",
       "            visualizerIdOverride = Math.trunc(Math.random() * 100000000000)\n",
       "            addVisualizerToPage(trace, 'jmd1ebbc62-394b-4e6e-a677-120c5a642e90',{'embeddedMode' : false,\n",
       "                                             'visualizerIdOverride':visualizerIdOverride})  \n",
       "            \n",
       "            \n",
       "            // set overflow for pytuts - need to do in python as css \n",
       "            // does not allow parent selection\n",
       "            var pytuts = $('.pytutorVisualizer')\n",
       "            pytuts.closest('div.output_html.rendered_html.output_result')\n",
       "                    .css('overflow-x', 'visible')\n",
       "        \n",
       "            //pytuts.closest('div.output_html.rendered_html.output_result')\n",
       "            //      .css('background-color','red')                \n",
       "            \n",
       "        })()\n",
       "        </script>\n",
       "                \n",
       "                "
      ],
      "text/plain": [
       "<IPython.core.display.HTML object>"
      ]
     },
     "execution_count": 11,
     "metadata": {},
     "output_type": "execute_result"
    }
   ],
   "source": [
    "la = [7,9,6]\n",
    "lb = la\n",
    "lb[0] = 5 \n",
    "print('la è', la)\n",
    "print('lb è', lb)\n",
    "\n",
    "jupman.pytut()"
   ]
  },
  {
   "cell_type": "markdown",
   "metadata": {},
   "source": [
    "Let's see the difference when we explicitly create a list equal to `la`.\n",
    "\n",
    "In this case we will have two distinct memory regions and `la` will NOT be modified:"
   ]
  },
  {
   "cell_type": "code",
   "execution_count": 34,
   "metadata": {},
   "outputs": [
    {
     "name": "stdout",
     "output_type": "stream",
     "text": [
      "la is [7, 9, 6]\n",
      "lb is [5, 9, 6]\n"
     ]
    },
    {
     "data": {
      "text/html": [
       "\n",
       "        <script src=\"../_static/js/pytutor-embed.bundle.min.js\" type=\"application/javascript\"></script>\n",
       "     \n",
       "        <script id=\"json-jmb4d9b5d7-6771-476c-a7ff-9f7da5e5015f\" type=\"application/json\" >\n",
       "            {\"code\": \" \\nla = [7,9,6]\\nlb = [7,9,6]\\nlb[0] = 5 \\nprint('la is', la)\\nprint('lb is', lb)\", \"trace\": [{\"stack_to_render\": [], \"heap\": {}, \"event\": \"step_line\", \"func_name\": \"<module>\", \"ordered_globals\": [], \"stdout\": \"\", \"line\": 2, \"globals\": {}}, {\"stack_to_render\": [], \"heap\": {\"1\": [\"LIST\", 7, 9, 6]}, \"event\": \"step_line\", \"func_name\": \"<module>\", \"ordered_globals\": [\"la\"], \"stdout\": \"\", \"line\": 3, \"globals\": {\"la\": [\"REF\", 1]}}, {\"stack_to_render\": [], \"heap\": {\"1\": [\"LIST\", 7, 9, 6], \"2\": [\"LIST\", 7, 9, 6]}, \"event\": \"step_line\", \"func_name\": \"<module>\", \"ordered_globals\": [\"la\", \"lb\"], \"stdout\": \"\", \"line\": 4, \"globals\": {\"la\": [\"REF\", 1], \"lb\": [\"REF\", 2]}}, {\"stack_to_render\": [], \"heap\": {\"1\": [\"LIST\", 7, 9, 6], \"2\": [\"LIST\", 5, 9, 6]}, \"event\": \"step_line\", \"func_name\": \"<module>\", \"ordered_globals\": [\"la\", \"lb\"], \"stdout\": \"\", \"line\": 5, \"globals\": {\"la\": [\"REF\", 1], \"lb\": [\"REF\", 2]}}, {\"stack_to_render\": [], \"heap\": {\"1\": [\"LIST\", 7, 9, 6], \"2\": [\"LIST\", 5, 9, 6]}, \"event\": \"step_line\", \"func_name\": \"<module>\", \"ordered_globals\": [\"la\", \"lb\"], \"stdout\": \"la is [7, 9, 6]\\n\", \"line\": 6, \"globals\": {\"la\": [\"REF\", 1], \"lb\": [\"REF\", 2]}}, {\"stack_to_render\": [], \"heap\": {\"1\": [\"LIST\", 7, 9, 6], \"2\": [\"LIST\", 5, 9, 6]}, \"event\": \"return\", \"func_name\": \"<module>\", \"ordered_globals\": [\"la\", \"lb\"], \"stdout\": \"la is [7, 9, 6]\\nlb is [5, 9, 6]\\n\", \"line\": 6, \"globals\": {\"la\": [\"REF\", 1], \"lb\": [\"REF\", 2]}}]}\n",
       "        </script>\n",
       "        <div id=\"jmb4d9b5d7-6771-476c-a7ff-9f7da5e5015f\" class=\"pytutorVisualizer\"> </div>\n",
       " \n",
       "        <style>\n",
       "        .vizLayoutTd {\n",
       "            background-color: #fff !important;\n",
       "        }\n",
       "\n",
       "        #pyStdout {            \n",
       "            min-height:25px;\n",
       "        }\n",
       "\n",
       "        /* 'Edit this code' link, hiding because replaces browser tab !!!*/\n",
       "        #editCodeLinkDiv {\n",
       "            display:none;  \n",
       "        }\n",
       "        </style>   \n",
       "                            \n",
       "        <script>\n",
       "        (function(){\n",
       "\n",
       "            var trace = JSON.parse(document.getElementById('json-jmb4d9b5d7-6771-476c-a7ff-9f7da5e5015f').innerHTML);                                        \n",
       "            // NOTE 1: id without #\n",
       "            // NOTE 2 - maybe there are more predictable ways, but this will work anyway\n",
       "            //        - id should be number\n",
       "            visualizerIdOverride = Math.trunc(Math.random() * 100000000000)\n",
       "            addVisualizerToPage(trace, 'jmb4d9b5d7-6771-476c-a7ff-9f7da5e5015f',{'embeddedMode' : false,\n",
       "                                             'visualizerIdOverride':visualizerIdOverride})  \n",
       "            \n",
       "            \n",
       "            // set overflow for pytuts - need to do in python as css \n",
       "            // does not allow parent selection\n",
       "            var pytuts = $('.pytutorVisualizer')\n",
       "            pytuts.closest('div.output_html.rendered_html.output_result')\n",
       "                    .css('overflow-x', 'visible')\n",
       "        \n",
       "            //pytuts.closest('div.output_html.rendered_html.output_result')\n",
       "            //      .css('background-color','red')                \n",
       "            \n",
       "        })()\n",
       "        </script>\n",
       "                \n",
       "                "
      ],
      "text/plain": [
       "<IPython.core.display.HTML object>"
      ]
     },
     "execution_count": 34,
     "metadata": {},
     "output_type": "execute_result"
    }
   ],
   "source": [
    "la = [7,9,6]\n",
    "lb = [7,9,6]\n",
    "lb[0] = 5 \n",
    "print('la is', la)\n",
    "print('lb is', lb)\n",
    "\n",
    "jupman.pytut()"
   ]
  },
  {
   "cell_type": "markdown",
   "metadata": {},
   "source": [
    "**QUESTION**: After executing this code, what will be printed? How many lists will be present in memory?\n",
    "\n",
    "Try drawing **ON PAPER** what is supposed to happen in memory, and then compare with Python Tutor!\n",
    "\n",
    "```python\n",
    "la = [8,7,7]\n",
    "lb = [9,6,7,5]\n",
    "lc = lb\n",
    "la = lb\n",
    "print('la è', la)\n",
    "print('lb è', lb)\n",
    "print('lc è', lc)\n",
    "```"
   ]
  },
  {
   "cell_type": "markdown",
   "metadata": {},
   "source": [
    "**ANSWER**:\n"
   ]
  },
  {
   "cell_type": "code",
   "execution_count": 12,
   "metadata": {},
   "outputs": [
    {
     "data": {
      "text/html": [
       "\n",
       "        <script src=\"_static/js/pytutor-embed.bundle.min.js\" type=\"application/javascript\"></script>\n",
       "     \n",
       "        <script id=\"json-jm299ae5d3-93d0-4b52-8615-e1e699ae57a0\" type=\"application/json\" >\n",
       "            {\"code\": \" \\nla = [8,7,7]\\nlb = [9,6,7,5]\\nlc = lb\\nla = lb\\n#print('la \\u00e8', la)\\n#print('lb \\u00e8', lb)\\n#print('lc \\u00e8', lc)\", \"trace\": [{\"line\": 2, \"event\": \"step_line\", \"func_name\": \"<module>\", \"globals\": {}, \"ordered_globals\": [], \"stack_to_render\": [], \"heap\": {}, \"stdout\": \"\"}, {\"line\": 3, \"event\": \"step_line\", \"func_name\": \"<module>\", \"globals\": {\"la\": [\"REF\", 1]}, \"ordered_globals\": [\"la\"], \"stack_to_render\": [], \"heap\": {\"1\": [\"LIST\", 8, 7, 7]}, \"stdout\": \"\"}, {\"line\": 4, \"event\": \"step_line\", \"func_name\": \"<module>\", \"globals\": {\"la\": [\"REF\", 1], \"lb\": [\"REF\", 2]}, \"ordered_globals\": [\"la\", \"lb\"], \"stack_to_render\": [], \"heap\": {\"1\": [\"LIST\", 8, 7, 7], \"2\": [\"LIST\", 9, 6, 7, 5]}, \"stdout\": \"\"}, {\"line\": 5, \"event\": \"step_line\", \"func_name\": \"<module>\", \"globals\": {\"la\": [\"REF\", 1], \"lb\": [\"REF\", 2], \"lc\": [\"REF\", 2]}, \"ordered_globals\": [\"la\", \"lb\", \"lc\"], \"stack_to_render\": [], \"heap\": {\"1\": [\"LIST\", 8, 7, 7], \"2\": [\"LIST\", 9, 6, 7, 5]}, \"stdout\": \"\"}, {\"line\": 5, \"event\": \"return\", \"func_name\": \"<module>\", \"globals\": {\"la\": [\"REF\", 2], \"lb\": [\"REF\", 2], \"lc\": [\"REF\", 2]}, \"ordered_globals\": [\"la\", \"lb\", \"lc\"], \"stack_to_render\": [], \"heap\": {\"2\": [\"LIST\", 9, 6, 7, 5]}, \"stdout\": \"\"}]}\n",
       "        </script>\n",
       "        <div id=\"jm299ae5d3-93d0-4b52-8615-e1e699ae57a0\" class=\"pytutorVisualizer\"> </div>\n",
       " \n",
       "        <style>\n",
       "        .vizLayoutTd {\n",
       "            background-color: #fff !important;\n",
       "        }\n",
       "\n",
       "        #pyStdout {            \n",
       "            min-height:25px;\n",
       "        }\n",
       "\n",
       "        /* 'Edit this code' link, hiding because replaces browser tab !!!*/\n",
       "        #editCodeLinkDiv {\n",
       "            display:none;  \n",
       "        }\n",
       "        </style>   \n",
       "                            \n",
       "        <script>\n",
       "        (function(){\n",
       "\n",
       "            var trace = JSON.parse(document.getElementById('json-jm299ae5d3-93d0-4b52-8615-e1e699ae57a0').innerHTML);                                        \n",
       "            // NOTE 1: id without #\n",
       "            // NOTE 2 - maybe there are more predictable ways, but this will work anyway\n",
       "            //        - id should be number\n",
       "            visualizerIdOverride = Math.trunc(Math.random() * 100000000000)\n",
       "            addVisualizerToPage(trace, 'jm299ae5d3-93d0-4b52-8615-e1e699ae57a0',{'embeddedMode' : false,\n",
       "                                             'visualizerIdOverride':visualizerIdOverride})  \n",
       "            \n",
       "            \n",
       "            // set overflow for pytuts - need to do in python as css \n",
       "            // does not allow parent selection\n",
       "            var pytuts = $('.pytutorVisualizer')\n",
       "            pytuts.closest('div.output_html.rendered_html.output_result')\n",
       "                    .css('overflow-x', 'visible')\n",
       "        \n",
       "            //pytuts.closest('div.output_html.rendered_html.output_result')\n",
       "            //      .css('background-color','red')                \n",
       "            \n",
       "        })()\n",
       "        </script>\n",
       "                \n",
       "                "
      ],
      "text/plain": [
       "<IPython.core.display.HTML object>"
      ]
     },
     "execution_count": 12,
     "metadata": {},
     "output_type": "execute_result"
    }
   ],
   "source": [
    "la = [8,7,7]\n",
    "lb = [9,6,7,5]\n",
    "lc = lb\n",
    "la = lb\n",
    "#print('la è', la)\n",
    "#print('lb è', lb)\n",
    "#print('lc è', lc)\n",
    "jupman.pytut()"
   ]
  },
  {
   "cell_type": "markdown",
   "metadata": {},
   "source": [
    "**QUESTION**: Look at the following code. After its execution, by printing  `la`, `lb` and `lc` what will we get? \n",
    "\n",
    "Try drawing **ON PAPER** what is happening in memory, then compare the result with Python Tutor!\n",
    "\n",
    "```python\n",
    "la = [7,8,5]\n",
    "lb = [6,7]\n",
    "lc = lb\n",
    "lb = la\n",
    "lc[0] = 9\n",
    "print('la is', la)\n",
    "print('lb is', lb)\n",
    "print('lc is', lc)\n",
    "```"
   ]
  },
  {
   "cell_type": "markdown",
   "metadata": {},
   "source": [
    "**ANSWER**:\n"
   ]
  },
  {
   "cell_type": "code",
   "execution_count": 13,
   "metadata": {},
   "outputs": [
    {
     "data": {
      "text/html": [
       "\n",
       "        <script src=\"_static/js/pytutor-embed.bundle.min.js\" type=\"application/javascript\"></script>\n",
       "     \n",
       "        <script id=\"json-jmeef4e056-4277-4aa9-9a5c-21ec597f6cfa\" type=\"application/json\" >\n",
       "            {\"code\": \" \\nla = [7,8,5]\\nlb = [6,7]\\nlc = lb\\nlb = la\\nlc[0] = 9\\n#print('la \\u00e8', la)\\n#print('lb \\u00e8', lb)\\n#print('lc \\u00e8', lc)\", \"trace\": [{\"line\": 2, \"event\": \"step_line\", \"func_name\": \"<module>\", \"globals\": {}, \"ordered_globals\": [], \"stack_to_render\": [], \"heap\": {}, \"stdout\": \"\"}, {\"line\": 3, \"event\": \"step_line\", \"func_name\": \"<module>\", \"globals\": {\"la\": [\"REF\", 1]}, \"ordered_globals\": [\"la\"], \"stack_to_render\": [], \"heap\": {\"1\": [\"LIST\", 7, 8, 5]}, \"stdout\": \"\"}, {\"line\": 4, \"event\": \"step_line\", \"func_name\": \"<module>\", \"globals\": {\"la\": [\"REF\", 1], \"lb\": [\"REF\", 2]}, \"ordered_globals\": [\"la\", \"lb\"], \"stack_to_render\": [], \"heap\": {\"1\": [\"LIST\", 7, 8, 5], \"2\": [\"LIST\", 6, 7]}, \"stdout\": \"\"}, {\"line\": 5, \"event\": \"step_line\", \"func_name\": \"<module>\", \"globals\": {\"la\": [\"REF\", 1], \"lb\": [\"REF\", 2], \"lc\": [\"REF\", 2]}, \"ordered_globals\": [\"la\", \"lb\", \"lc\"], \"stack_to_render\": [], \"heap\": {\"1\": [\"LIST\", 7, 8, 5], \"2\": [\"LIST\", 6, 7]}, \"stdout\": \"\"}, {\"line\": 6, \"event\": \"step_line\", \"func_name\": \"<module>\", \"globals\": {\"la\": [\"REF\", 1], \"lb\": [\"REF\", 1], \"lc\": [\"REF\", 2]}, \"ordered_globals\": [\"la\", \"lb\", \"lc\"], \"stack_to_render\": [], \"heap\": {\"1\": [\"LIST\", 7, 8, 5], \"2\": [\"LIST\", 6, 7]}, \"stdout\": \"\"}, {\"line\": 6, \"event\": \"return\", \"func_name\": \"<module>\", \"globals\": {\"la\": [\"REF\", 1], \"lb\": [\"REF\", 1], \"lc\": [\"REF\", 2]}, \"ordered_globals\": [\"la\", \"lb\", \"lc\"], \"stack_to_render\": [], \"heap\": {\"1\": [\"LIST\", 7, 8, 5], \"2\": [\"LIST\", 9, 7]}, \"stdout\": \"\"}]}\n",
       "        </script>\n",
       "        <div id=\"jmeef4e056-4277-4aa9-9a5c-21ec597f6cfa\" class=\"pytutorVisualizer\"> </div>\n",
       " \n",
       "        <style>\n",
       "        .vizLayoutTd {\n",
       "            background-color: #fff !important;\n",
       "        }\n",
       "\n",
       "        #pyStdout {            \n",
       "            min-height:25px;\n",
       "        }\n",
       "\n",
       "        /* 'Edit this code' link, hiding because replaces browser tab !!!*/\n",
       "        #editCodeLinkDiv {\n",
       "            display:none;  \n",
       "        }\n",
       "        </style>   \n",
       "                            \n",
       "        <script>\n",
       "        (function(){\n",
       "\n",
       "            var trace = JSON.parse(document.getElementById('json-jmeef4e056-4277-4aa9-9a5c-21ec597f6cfa').innerHTML);                                        \n",
       "            // NOTE 1: id without #\n",
       "            // NOTE 2 - maybe there are more predictable ways, but this will work anyway\n",
       "            //        - id should be number\n",
       "            visualizerIdOverride = Math.trunc(Math.random() * 100000000000)\n",
       "            addVisualizerToPage(trace, 'jmeef4e056-4277-4aa9-9a5c-21ec597f6cfa',{'embeddedMode' : false,\n",
       "                                             'visualizerIdOverride':visualizerIdOverride})  \n",
       "            \n",
       "            \n",
       "            // set overflow for pytuts - need to do in python as css \n",
       "            // does not allow parent selection\n",
       "            var pytuts = $('.pytutorVisualizer')\n",
       "            pytuts.closest('div.output_html.rendered_html.output_result')\n",
       "                    .css('overflow-x', 'visible')\n",
       "        \n",
       "            //pytuts.closest('div.output_html.rendered_html.output_result')\n",
       "            //      .css('background-color','red')                \n",
       "            \n",
       "        })()\n",
       "        </script>\n",
       "                \n",
       "                "
      ],
      "text/plain": [
       "<IPython.core.display.HTML object>"
      ]
     },
     "execution_count": 13,
     "metadata": {},
     "output_type": "execute_result"
    }
   ],
   "source": [
    "la = [7,8,5]\n",
    "lb = [6,7]\n",
    "lc = lb\n",
    "lb = la\n",
    "lc[0] = 9\n",
    "#print('la è', la)\n",
    "#print('lb è', lb)\n",
    "#print('lc è', lc)\n",
    "\n",
    "jupman.pytut()"
   ]
  },
  {
   "cell_type": "markdown",
   "metadata": {},
   "source": [
    "## Slices\n",
    "\n",
    "We can extract sequences from lists by using _slices._ A slice is produced by placing square brackets after the list with inside the starting index (INCLUDED), followed by a colon `:`, followed by the end index (EXCLUDED). It works exactly as with strings: in that case the slice produces a new string, in this case it produces a NEW list. Let's see an example:"
   ]
  },
  {
   "cell_type": "code",
   "execution_count": 37,
   "metadata": {},
   "outputs": [],
   "source": [
    "     #0  1  2  3  4  5  6  7  8  9\n",
    "la = [43,35,82,75,93,12,43,28,54,65]"
   ]
  },
  {
   "cell_type": "code",
   "execution_count": 38,
   "metadata": {},
   "outputs": [
    {
     "data": {
      "text/plain": [
       "[75, 93, 12, 43]"
      ]
     },
     "execution_count": 38,
     "metadata": {},
     "output_type": "execute_result"
    }
   ],
   "source": [
    "la[3:7]"
   ]
  },
  {
   "cell_type": "markdown",
   "metadata": {},
   "source": [
    "We extracted a NEW list  `[75, 93, 12, 43]` from the list `la` starting from index `3` INCLUDED until index `7` EXCLUDED. We can see the original list is preserved:"
   ]
  },
  {
   "cell_type": "code",
   "execution_count": 39,
   "metadata": {},
   "outputs": [
    {
     "data": {
      "text/plain": [
       "[43, 35, 82, 75, 93, 12, 43, 28, 54, 65]"
      ]
     },
     "execution_count": 39,
     "metadata": {},
     "output_type": "execute_result"
    }
   ],
   "source": [
    "la"
   ]
  },
  {
   "cell_type": "markdown",
   "metadata": {},
   "source": [
    "Let's verify what happens with Python Tutor, by assigning the new list to a variable  `lb`:"
   ]
  },
  {
   "cell_type": "code",
   "execution_count": 14,
   "metadata": {},
   "outputs": [
    {
     "data": {
      "text/html": [
       "\n",
       "        <script src=\"_static/js/pytutor-embed.bundle.min.js\" type=\"application/javascript\"></script>\n",
       "     \n",
       "        <script id=\"json-jm2cfbf859-bcdc-4def-afe0-5dd847e4db8a\" type=\"application/json\" >\n",
       "            {\"code\": \" \\n#     0  1  2  3  4  5  6  7  8  9\\nla = [43,35,82,75,93,12,43,28,54,65]\\nlb = la[3:7]\", \"trace\": [{\"line\": 3, \"event\": \"step_line\", \"func_name\": \"<module>\", \"globals\": {}, \"ordered_globals\": [], \"stack_to_render\": [], \"heap\": {}, \"stdout\": \"\"}, {\"line\": 4, \"event\": \"step_line\", \"func_name\": \"<module>\", \"globals\": {\"la\": [\"REF\", 1]}, \"ordered_globals\": [\"la\"], \"stack_to_render\": [], \"heap\": {\"1\": [\"LIST\", 43, 35, 82, 75, 93, 12, 43, 28, 54, 65]}, \"stdout\": \"\"}, {\"line\": 4, \"event\": \"return\", \"func_name\": \"<module>\", \"globals\": {\"la\": [\"REF\", 1], \"lb\": [\"REF\", 2]}, \"ordered_globals\": [\"la\", \"lb\"], \"stack_to_render\": [], \"heap\": {\"1\": [\"LIST\", 43, 35, 82, 75, 93, 12, 43, 28, 54, 65], \"2\": [\"LIST\", 75, 93, 12, 43]}, \"stdout\": \"\"}]}\n",
       "        </script>\n",
       "        <div id=\"jm2cfbf859-bcdc-4def-afe0-5dd847e4db8a\" class=\"pytutorVisualizer\"> </div>\n",
       " \n",
       "        <style>\n",
       "        .vizLayoutTd {\n",
       "            background-color: #fff !important;\n",
       "        }\n",
       "\n",
       "        #pyStdout {            \n",
       "            min-height:25px;\n",
       "        }\n",
       "\n",
       "        /* 'Edit this code' link, hiding because replaces browser tab !!!*/\n",
       "        #editCodeLinkDiv {\n",
       "            display:none;  \n",
       "        }\n",
       "        </style>   \n",
       "                            \n",
       "        <script>\n",
       "        (function(){\n",
       "\n",
       "            var trace = JSON.parse(document.getElementById('json-jm2cfbf859-bcdc-4def-afe0-5dd847e4db8a').innerHTML);                                        \n",
       "            // NOTE 1: id without #\n",
       "            // NOTE 2 - maybe there are more predictable ways, but this will work anyway\n",
       "            //        - id should be number\n",
       "            visualizerIdOverride = Math.trunc(Math.random() * 100000000000)\n",
       "            addVisualizerToPage(trace, 'jm2cfbf859-bcdc-4def-afe0-5dd847e4db8a',{'embeddedMode' : false,\n",
       "                                             'visualizerIdOverride':visualizerIdOverride})  \n",
       "            \n",
       "            \n",
       "            // set overflow for pytuts - need to do in python as css \n",
       "            // does not allow parent selection\n",
       "            var pytuts = $('.pytutorVisualizer')\n",
       "            pytuts.closest('div.output_html.rendered_html.output_result')\n",
       "                    .css('overflow-x', 'visible')\n",
       "        \n",
       "            //pytuts.closest('div.output_html.rendered_html.output_result')\n",
       "            //      .css('background-color','red')                \n",
       "            \n",
       "        })()\n",
       "        </script>\n",
       "                \n",
       "                "
      ],
      "text/plain": [
       "<IPython.core.display.HTML object>"
      ]
     },
     "execution_count": 14,
     "metadata": {},
     "output_type": "execute_result"
    }
   ],
   "source": [
    "#     0  1  2  3  4  5  6  7  8  9\n",
    "la = [43,35,82,75,93,12,43,28,54,65]\n",
    "lb = la[3:7]\n",
    "\n",
    "jupman.pytut()"
   ]
  },
  {
   "cell_type": "markdown",
   "metadata": {},
   "source": [
    "You will notice a NEW memory region, associated to variable `lb`."
   ]
  },
  {
   "cell_type": "markdown",
   "metadata": {},
   "source": [
    "### Slice - limits\n",
    "\n",
    "When we operate with slices we must be careful about indeces limits. Let's see how they behave:"
   ]
  },
  {
   "cell_type": "code",
   "execution_count": 15,
   "metadata": {},
   "outputs": [
    {
     "data": {
      "text/plain": [
       "[58, 97, 76]"
      ]
     },
     "execution_count": 15,
     "metadata": {},
     "output_type": "execute_result"
    }
   ],
   "source": [
    "#0  1  2  3  4  \n",
    "[58,97,76,87,99][0:3]  # from index 0 *included* to 3 *excluded*"
   ]
  },
  {
   "cell_type": "code",
   "execution_count": 42,
   "metadata": {},
   "outputs": [
    {
     "data": {
      "text/plain": [
       "[58, 97, 76, 87]"
      ]
     },
     "execution_count": 42,
     "metadata": {},
     "output_type": "execute_result"
    }
   ],
   "source": [
    "#0  1  2  3  4  \n",
    "[58,97,76,87,99][0:4]  # from index 0 *included* a 4 *excluded*"
   ]
  },
  {
   "cell_type": "code",
   "execution_count": 43,
   "metadata": {},
   "outputs": [
    {
     "data": {
      "text/plain": [
       "[58, 97, 76, 87, 99]"
      ]
     },
     "execution_count": 43,
     "metadata": {},
     "output_type": "execute_result"
    }
   ],
   "source": [
    "#0  1  2  3  4  \n",
    "[58,97,76,87,99][0:5]  # from index 0 *included* to 5 *excluded*"
   ]
  },
  {
   "cell_type": "code",
   "execution_count": 44,
   "metadata": {},
   "outputs": [
    {
     "data": {
      "text/plain": [
       "[58, 97, 76, 87, 99]"
      ]
     },
     "execution_count": 44,
     "metadata": {},
     "output_type": "execute_result"
    }
   ],
   "source": [
    "#0  1  2  3  4  \n",
    "[58,97,76,87,99][0:6]   # if we go beyond the list length Python does not complain"
   ]
  },
  {
   "cell_type": "code",
   "execution_count": 45,
   "metadata": {},
   "outputs": [
    {
     "data": {
      "text/plain": [
       "[]"
      ]
     },
     "execution_count": 45,
     "metadata": {},
     "output_type": "execute_result"
    }
   ],
   "source": [
    "#0  1  2  3  4  \n",
    "[58,97,76,87,99][8:12] # Python doesn't complain even if we start from non-existing indeces "
   ]
  },
  {
   "cell_type": "markdown",
   "metadata": {},
   "source": [
    "**QUESTION**: This expression:\n",
    "\n",
    "```python\n",
    "[][3:8]\n",
    "```\n",
    "1. produces a result (which one?)\n",
    "2. produces an error (which one?)"
   ]
  },
  {
   "cell_type": "code",
   "execution_count": 16,
   "metadata": {},
   "outputs": [
    {
     "data": {
      "text/plain": [
       "[]"
      ]
     },
     "execution_count": 16,
     "metadata": {},
     "output_type": "execute_result"
    }
   ],
   "source": [
    "[][3:8]"
   ]
  },
  {
   "cell_type": "markdown",
   "metadata": {},
   "source": [
    "**ANSWER**:\n"
   ]
  },
  {
   "cell_type": "markdown",
   "metadata": {},
   "source": [
    "**QUESTION**: if `x` is some list (may also empty), what does this expression do? Can it give an error? Does it return something useful?\n",
    "\n",
    "```python\n",
    "x[0:len(x)]\n",
    "```"
   ]
  },
  {
   "cell_type": "code",
   "execution_count": 17,
   "metadata": {},
   "outputs": [
    {
     "data": {
      "text/plain": [
       "[]"
      ]
     },
     "execution_count": 17,
     "metadata": {},
     "output_type": "execute_result"
    }
   ],
   "source": [
    "x = []\n",
    "x[0:len(x)]"
   ]
  },
  {
   "cell_type": "markdown",
   "metadata": {},
   "source": [
    "**ANSWER**:\n"
   ]
  },
  {
   "cell_type": "markdown",
   "metadata": {},
   "source": [
    "### Slices - omitting limits"
   ]
  },
  {
   "cell_type": "markdown",
   "metadata": {},
   "source": [
    "If we will, it is possible to omit start index, in which case Python will suppose it's  `0`:"
   ]
  },
  {
   "cell_type": "code",
   "execution_count": 46,
   "metadata": {},
   "outputs": [
    {
     "data": {
      "text/plain": [
       "[98, 67, 85]"
      ]
     },
     "execution_count": 46,
     "metadata": {},
     "output_type": "execute_result"
    }
   ],
   "source": [
    "#0  1  2  3  4  5  6  7  8  9\n",
    "[98,67,85,77,65,99,67,55,79][:3]"
   ]
  },
  {
   "cell_type": "markdown",
   "metadata": {},
   "source": [
    "It is also possible to omit the end index, in this case Python will extract elements until the list end:"
   ]
  },
  {
   "cell_type": "code",
   "execution_count": 47,
   "metadata": {},
   "outputs": [
    {
     "data": {
      "text/plain": [
       "[77, 65, 99, 67, 55, 79]"
      ]
     },
     "execution_count": 47,
     "metadata": {},
     "output_type": "execute_result"
    }
   ],
   "source": [
    "#0  1  2  3  4  5  6  7  8  9\n",
    "[98,67,85,77,65,99,67,55,79][3:]"
   ]
  },
  {
   "cell_type": "markdown",
   "metadata": {},
   "source": [
    "By omitting both indexes we obtain the full list:"
   ]
  },
  {
   "cell_type": "code",
   "execution_count": 48,
   "metadata": {},
   "outputs": [
    {
     "data": {
      "text/plain": [
       "[98, 67, 85, 77, 65, 99, 67, 55, 79]"
      ]
     },
     "execution_count": 48,
     "metadata": {},
     "output_type": "execute_result"
    }
   ],
   "source": [
    "#0  1  2  3  4  5  6  7  8  9\n",
    "[98,67,85,77,65,99,67,55,79][:]"
   ]
  },
  {
   "cell_type": "markdown",
   "metadata": {},
   "source": [
    "**QUESTION**: What is this code going to print? Will `la` get modified or not?\n",
    "\n",
    "```python\n",
    "la = [7,8,9]\n",
    "lb = la[:]\n",
    "lb[0] = 6\n",
    "print('la =',la)\n",
    "print('lb =',lb)\n",
    "```"
   ]
  },
  {
   "cell_type": "markdown",
   "metadata": {},
   "source": [
    "**ANSWER**:\n"
   ]
  },
  {
   "cell_type": "code",
   "execution_count": 18,
   "metadata": {},
   "outputs": [
    {
     "data": {
      "text/html": [
       "\n",
       "        <script src=\"_static/js/pytutor-embed.bundle.min.js\" type=\"application/javascript\"></script>\n",
       "     \n",
       "        <script id=\"json-jm33b49126-a01e-4d8c-96b6-a34b3adb48cf\" type=\"application/json\" >\n",
       "            {\"code\": \" \\nla = [7,8,9]\\nlb = la[:]\\nlb[0] = 6\\n#print('la =',la)\\n#print('lb =',lb)\", \"trace\": [{\"line\": 2, \"event\": \"step_line\", \"func_name\": \"<module>\", \"globals\": {}, \"ordered_globals\": [], \"stack_to_render\": [], \"heap\": {}, \"stdout\": \"\"}, {\"line\": 3, \"event\": \"step_line\", \"func_name\": \"<module>\", \"globals\": {\"la\": [\"REF\", 1]}, \"ordered_globals\": [\"la\"], \"stack_to_render\": [], \"heap\": {\"1\": [\"LIST\", 7, 8, 9]}, \"stdout\": \"\"}, {\"line\": 4, \"event\": \"step_line\", \"func_name\": \"<module>\", \"globals\": {\"la\": [\"REF\", 1], \"lb\": [\"REF\", 2]}, \"ordered_globals\": [\"la\", \"lb\"], \"stack_to_render\": [], \"heap\": {\"1\": [\"LIST\", 7, 8, 9], \"2\": [\"LIST\", 7, 8, 9]}, \"stdout\": \"\"}, {\"line\": 4, \"event\": \"return\", \"func_name\": \"<module>\", \"globals\": {\"la\": [\"REF\", 1], \"lb\": [\"REF\", 2]}, \"ordered_globals\": [\"la\", \"lb\"], \"stack_to_render\": [], \"heap\": {\"1\": [\"LIST\", 7, 8, 9], \"2\": [\"LIST\", 6, 8, 9]}, \"stdout\": \"\"}]}\n",
       "        </script>\n",
       "        <div id=\"jm33b49126-a01e-4d8c-96b6-a34b3adb48cf\" class=\"pytutorVisualizer\"> </div>\n",
       " \n",
       "        <style>\n",
       "        .vizLayoutTd {\n",
       "            background-color: #fff !important;\n",
       "        }\n",
       "\n",
       "        #pyStdout {            \n",
       "            min-height:25px;\n",
       "        }\n",
       "\n",
       "        /* 'Edit this code' link, hiding because replaces browser tab !!!*/\n",
       "        #editCodeLinkDiv {\n",
       "            display:none;  \n",
       "        }\n",
       "        </style>   \n",
       "                            \n",
       "        <script>\n",
       "        (function(){\n",
       "\n",
       "            var trace = JSON.parse(document.getElementById('json-jm33b49126-a01e-4d8c-96b6-a34b3adb48cf').innerHTML);                                        \n",
       "            // NOTE 1: id without #\n",
       "            // NOTE 2 - maybe there are more predictable ways, but this will work anyway\n",
       "            //        - id should be number\n",
       "            visualizerIdOverride = Math.trunc(Math.random() * 100000000000)\n",
       "            addVisualizerToPage(trace, 'jm33b49126-a01e-4d8c-96b6-a34b3adb48cf',{'embeddedMode' : false,\n",
       "                                             'visualizerIdOverride':visualizerIdOverride})  \n",
       "            \n",
       "            \n",
       "            // set overflow for pytuts - need to do in python as css \n",
       "            // does not allow parent selection\n",
       "            var pytuts = $('.pytutorVisualizer')\n",
       "            pytuts.closest('div.output_html.rendered_html.output_result')\n",
       "                    .css('overflow-x', 'visible')\n",
       "        \n",
       "            //pytuts.closest('div.output_html.rendered_html.output_result')\n",
       "            //      .css('background-color','red')                \n",
       "            \n",
       "        })()\n",
       "        </script>\n",
       "                \n",
       "                "
      ],
      "text/plain": [
       "<IPython.core.display.HTML object>"
      ]
     },
     "execution_count": 18,
     "metadata": {},
     "output_type": "execute_result"
    }
   ],
   "source": [
    "la = [7,8,9]\n",
    "lb = la[:]\n",
    "lb[0] = 6\n",
    "#print('la =',la)\n",
    "#print('lb =',lb)\n",
    "\n",
    "jupman.pytut()"
   ]
  },
  {
   "cell_type": "markdown",
   "metadata": {},
   "source": [
    "**QUESTION**: For each of the following expressions, try guessing which value it produces, or if it gives an error.\n",
    "\n",
    "1.  ```python    \n",
    "    [9,7,8,6][1:1]\n",
    "    ```\n",
    "1.  ```python    \n",
    "    [9,7,8,6][1:2]\n",
    "    ```\n",
    "1.  ```python    \n",
    "    [9,7,8,6][2:3][0]\n",
    "    ```\n",
    "1.  ```python\n",
    "    [][]\n",
    "    ```\n",
    "1.  ```python\n",
    "    [][:]\n",
    "    ```\n",
    "1.  ```python\n",
    "    [3][:]\n",
    "    ```\n",
    "1.  ```python    \n",
    "    [:][]\n",
    "    ```"
   ]
  },
  {
   "cell_type": "code",
   "execution_count": 21,
   "metadata": {},
   "outputs": [
    {
     "data": {
      "text/plain": [
       "[3]"
      ]
     },
     "execution_count": 21,
     "metadata": {},
     "output_type": "execute_result"
    }
   ],
   "source": [
    "[9,7,8,6][1:1]\n",
    "[9,7,8,6][1:2]\n",
    "[9,7,8,6][2:3][0]\n",
    "# [][]\n",
    "[][:]\n",
    "[3][:]\n",
    "# [:][]"
   ]
  },
  {
   "cell_type": "markdown",
   "metadata": {},
   "source": [
    "### Slices - negative limits\n",
    "\n",
    "It is also  possible to set inverse and negative limits, although it is not always intuitive:"
   ]
  },
  {
   "cell_type": "code",
   "execution_count": 22,
   "metadata": {},
   "outputs": [
    {
     "data": {
      "text/plain": [
       "[]"
      ]
     },
     "execution_count": 22,
     "metadata": {},
     "output_type": "execute_result"
    }
   ],
   "source": [
    "#0  1  2  3  4  5  6    \n",
    "[73,48,19,57,64,15,92][3:0]   # from index 3 to positive indexes <= 3 produces nothing"
   ]
  },
  {
   "cell_type": "code",
   "execution_count": 51,
   "metadata": {},
   "outputs": [
    {
     "data": {
      "text/plain": [
       "[]"
      ]
     },
     "execution_count": 51,
     "metadata": {},
     "output_type": "execute_result"
    }
   ],
   "source": [
    "#0  1  2  3  4  5  6    \n",
    "[73,48,19,57,64,15,92][3:1]   # from index 3 to positive indexes <= 3 produces nothing"
   ]
  },
  {
   "cell_type": "code",
   "execution_count": 52,
   "metadata": {},
   "outputs": [
    {
     "data": {
      "text/plain": [
       "[]"
      ]
     },
     "execution_count": 52,
     "metadata": {},
     "output_type": "execute_result"
    }
   ],
   "source": [
    "#0  1  2  3  4  5  6     \n",
    "[73,48,19,57,64,15,92][3:2]   # from index 3 to positive indexes <= 3 produces nothing"
   ]
  },
  {
   "cell_type": "code",
   "execution_count": 53,
   "metadata": {},
   "outputs": [
    {
     "data": {
      "text/plain": [
       "[]"
      ]
     },
     "execution_count": 53,
     "metadata": {},
     "output_type": "execute_result"
    }
   ],
   "source": [
    "#0  1  2  3  4  5  6     \n",
    "[73,48,19,57,64,15,92][3:3]   # from index 3 to positive indexes <= 3 produces nothing"
   ]
  },
  {
   "cell_type": "markdown",
   "metadata": {},
   "source": [
    "Let's see what happens with negative indexes:"
   ]
  },
  {
   "cell_type": "code",
   "execution_count": 54,
   "metadata": {},
   "outputs": [
    {
     "data": {
      "text/plain": [
       "[57, 64, 15]"
      ]
     },
     "execution_count": 54,
     "metadata": {},
     "output_type": "execute_result"
    }
   ],
   "source": [
    "# 0  1  2  3  4  5  6   \n",
    "#-7 -6 -5 -4 -3 -2 -1   \n",
    "[73,48,19,57,64,15,92][3:-1]"
   ]
  },
  {
   "cell_type": "code",
   "execution_count": 55,
   "metadata": {},
   "outputs": [
    {
     "data": {
      "text/plain": [
       "[57, 64]"
      ]
     },
     "execution_count": 55,
     "metadata": {},
     "output_type": "execute_result"
    }
   ],
   "source": [
    "# 0  1  2  3  4  5  6   \n",
    "#-7 -6 -5 -4 -3 -2 -1   \n",
    "[73,48,19,57,64,15,92][3:-2]"
   ]
  },
  {
   "cell_type": "code",
   "execution_count": 56,
   "metadata": {},
   "outputs": [
    {
     "data": {
      "text/plain": [
       "[57]"
      ]
     },
     "execution_count": 56,
     "metadata": {},
     "output_type": "execute_result"
    }
   ],
   "source": [
    "# 0  1  2  3  4  5  6   \n",
    "#-7 -6 -5 -4 -3 -2 -1   \n",
    "[73,48,19,57,64,15,92][3:-3]"
   ]
  },
  {
   "cell_type": "code",
   "execution_count": 57,
   "metadata": {},
   "outputs": [
    {
     "data": {
      "text/plain": [
       "[]"
      ]
     },
     "execution_count": 57,
     "metadata": {},
     "output_type": "execute_result"
    }
   ],
   "source": [
    "# 0  1  2  3  4  5  6   \n",
    "#-7 -6 -5 -4 -3 -2 -1   \n",
    "[73,48,19,57,64,15,92][3:-4]"
   ]
  },
  {
   "cell_type": "code",
   "execution_count": 58,
   "metadata": {},
   "outputs": [
    {
     "data": {
      "text/plain": [
       "[]"
      ]
     },
     "execution_count": 58,
     "metadata": {},
     "output_type": "execute_result"
    }
   ],
   "source": [
    "# 0  1  2  3  4  5  6   \n",
    "#-7 -6 -5 -4 -3 -2 -1   \n",
    "[73,48,19,57,64,15,92][3:-5]"
   ]
  },
  {
   "cell_type": "markdown",
   "metadata": {},
   "source": [
    "It is also possible to start from a negative index and arrive to a positive one. As long as the first index marks a position which precedes the second index, something gets returned:"
   ]
  },
  {
   "cell_type": "code",
   "execution_count": 59,
   "metadata": {},
   "outputs": [
    {
     "data": {
      "text/plain": [
       "[73, 48, 19]"
      ]
     },
     "execution_count": 59,
     "metadata": {},
     "output_type": "execute_result"
    }
   ],
   "source": [
    "# 0  1  2  3  4  5  6   \n",
    "#-7 -6 -5 -4 -3 -2 -1   \n",
    "[73,48,19,57,64,15,92][-7:3]"
   ]
  },
  {
   "cell_type": "code",
   "execution_count": 60,
   "metadata": {},
   "outputs": [
    {
     "data": {
      "text/plain": [
       "[48, 19]"
      ]
     },
     "execution_count": 60,
     "metadata": {},
     "output_type": "execute_result"
    }
   ],
   "source": [
    "# 0  1  2  3  4  5  6   \n",
    "#-7 -6 -5 -4 -3 -2 -1   \n",
    "[73,48,19,57,64,15,92][-6:3]"
   ]
  },
  {
   "cell_type": "code",
   "execution_count": 61,
   "metadata": {},
   "outputs": [
    {
     "data": {
      "text/plain": [
       "[19]"
      ]
     },
     "execution_count": 61,
     "metadata": {},
     "output_type": "execute_result"
    }
   ],
   "source": [
    "# 0  1  2  3  4  5  6   \n",
    "#-7 -6 -5 -4 -3 -2 -1   \n",
    "[73,48,19,57,64,15,92][-5:3]"
   ]
  },
  {
   "cell_type": "code",
   "execution_count": 62,
   "metadata": {},
   "outputs": [
    {
     "data": {
      "text/plain": [
       "[]"
      ]
     },
     "execution_count": 62,
     "metadata": {},
     "output_type": "execute_result"
    }
   ],
   "source": [
    "# 0  1  2  3  4  5  6   \n",
    "#-7 -6 -5 -4 -3 -2 -1   \n",
    "[73,48,19,57,64,15,92][-4:3]"
   ]
  },
  {
   "cell_type": "code",
   "execution_count": 63,
   "metadata": {},
   "outputs": [
    {
     "data": {
      "text/plain": [
       "[]"
      ]
     },
     "execution_count": 63,
     "metadata": {},
     "output_type": "execute_result"
    }
   ],
   "source": [
    "# 0  1  2  3  4  5  6   \n",
    "#-7 -6 -5 -4 -3 -2 -1   \n",
    "[73,48,19,57,64,15,92][-3:3]"
   ]
  },
  {
   "cell_type": "code",
   "execution_count": 64,
   "metadata": {},
   "outputs": [
    {
     "data": {
      "text/plain": [
       "[]"
      ]
     },
     "execution_count": 64,
     "metadata": {},
     "output_type": "execute_result"
    }
   ],
   "source": [
    "# 0  1  2  3  4  5  6   \n",
    "#-7 -6 -5 -4 -3 -2 -1   \n",
    "[73,48,19,57,64,15,92][-2:3]"
   ]
  },
  {
   "cell_type": "markdown",
   "metadata": {},
   "source": [
    "**QUESTION**: For each of the following expressions, try guessing which value is produced, or if it gives an error\n",
    "\n",
    "1.  ```python\n",
    "    [9,7,8,6][0:-2]\n",
    "    ```\n",
    "1.  ```python    \n",
    "    [0:-2][9,7,8,6]\n",
    "    ```\n",
    "1.  ```python    \n",
    "    [5,7,9][1:-1]\n",
    "    ```\n",
    "1.  ```python\n",
    "    [][-13:-17]\n",
    "    ```\n",
    "1.  ```python    \n",
    "    [9,7,8,6][-4:-1]\n",
    "    ```\n",
    "1.  ```python    \n",
    "    [9,7,8,6][-5:-1]\n",
    "    ```\n",
    "1.  ```python    \n",
    "    [9,7,8,6,10,32][-3:1]\n",
    "    ```\n",
    "1.  ```python    \n",
    "    [9,7,8,6,10,32][-3:5]\n",
    "    ```    "
   ]
  },
  {
   "cell_type": "code",
   "execution_count": 26,
   "metadata": {},
   "outputs": [
    {
     "data": {
      "text/plain": [
       "[6, 10]"
      ]
     },
     "execution_count": 26,
     "metadata": {},
     "output_type": "execute_result"
    }
   ],
   "source": [
    "[9,7,8,6][0:-2]\n",
    "# [0:-2][9,7,8,6]\n",
    "[5,7,9][1:-1]\n",
    "[][-13:-17]\n",
    "[9,7,8,6][-4:-1]\n",
    "[9,7,8,6][-5:-1]\n",
    "[9,7,8,6,10,32][-3:1]\n",
    "[9,7,8,6,10,32][-3:5]"
   ]
  },
  {
   "cell_type": "markdown",
   "metadata": {},
   "source": [
    "### Slices - modifying\n",
    "\n",
    "Suppose we have the list"
   ]
  },
  {
   "cell_type": "code",
   "execution_count": 27,
   "metadata": {},
   "outputs": [],
   "source": [
    "    # 0  1  2  3  4  5  6  7\n",
    "la = [12,23,35,41,74,65,34,22]"
   ]
  },
  {
   "cell_type": "markdown",
   "metadata": {},
   "source": [
    "and we want to change `la` cells from index `3` INCLUDED to index `6` EXCLUDED in such a way they contain the numbers taken from list `[98,96,97]`. We can do it with this special notation which allows us to write a slice _to the left_ of operator `=`:"
   ]
  },
  {
   "cell_type": "code",
   "execution_count": 28,
   "metadata": {},
   "outputs": [],
   "source": [
    "la[3:6] = [98,96,97]"
   ]
  },
  {
   "cell_type": "code",
   "execution_count": 29,
   "metadata": {},
   "outputs": [
    {
     "data": {
      "text/plain": [
       "[12, 23, 35, 98, 96, 97, 34, 22]"
      ]
     },
     "execution_count": 29,
     "metadata": {},
     "output_type": "execute_result"
    }
   ],
   "source": [
    "la"
   ]
  },
  {
   "cell_type": "markdown",
   "metadata": {},
   "source": [
    "In this slightly more complex example we verify in Python Tutor that the original memory region gets actually modifyied:"
   ]
  },
  {
   "cell_type": "code",
   "execution_count": 33,
   "metadata": {
    "scrolled": true
   },
   "outputs": [
    {
     "data": {
      "text/html": [
       "\n",
       "        <script src=\"_static/js/pytutor-embed.bundle.min.js\" type=\"application/javascript\"></script>\n",
       "     \n",
       "        <script id=\"json-jm5c978e93-1e67-479d-b30c-0dd047f4c268\" type=\"application/json\" >\n",
       "            {\"code\": \" \\n#     0  1  2  3  4  5  6  7\\nla = [12,23,35,41,74,65,34,22]\\nlb = la[:]\\nlb[3:6] = [98,96,97]\", \"trace\": [{\"line\": 3, \"event\": \"step_line\", \"func_name\": \"<module>\", \"globals\": {}, \"ordered_globals\": [], \"stack_to_render\": [], \"heap\": {}, \"stdout\": \"\"}, {\"line\": 4, \"event\": \"step_line\", \"func_name\": \"<module>\", \"globals\": {\"la\": [\"REF\", 1]}, \"ordered_globals\": [\"la\"], \"stack_to_render\": [], \"heap\": {\"1\": [\"LIST\", 12, 23, 35, 41, 74, 65, 34, 22]}, \"stdout\": \"\"}, {\"line\": 5, \"event\": \"step_line\", \"func_name\": \"<module>\", \"globals\": {\"la\": [\"REF\", 1], \"lb\": [\"REF\", 2]}, \"ordered_globals\": [\"la\", \"lb\"], \"stack_to_render\": [], \"heap\": {\"1\": [\"LIST\", 12, 23, 35, 41, 74, 65, 34, 22], \"2\": [\"LIST\", 12, 23, 35, 41, 74, 65, 34, 22]}, \"stdout\": \"\"}, {\"line\": 5, \"event\": \"return\", \"func_name\": \"<module>\", \"globals\": {\"la\": [\"REF\", 1], \"lb\": [\"REF\", 2]}, \"ordered_globals\": [\"la\", \"lb\"], \"stack_to_render\": [], \"heap\": {\"1\": [\"LIST\", 12, 23, 35, 41, 74, 65, 34, 22], \"2\": [\"LIST\", 12, 23, 35, 98, 96, 97, 34, 22]}, \"stdout\": \"\"}]}\n",
       "        </script>\n",
       "        <div id=\"jm5c978e93-1e67-479d-b30c-0dd047f4c268\" class=\"pytutorVisualizer\"> </div>\n",
       " \n",
       "        <style>\n",
       "        .vizLayoutTd {\n",
       "            background-color: #fff !important;\n",
       "        }\n",
       "\n",
       "        #pyStdout {            \n",
       "            min-height:25px;\n",
       "        }\n",
       "\n",
       "        /* 'Edit this code' link, hiding because replaces browser tab !!!*/\n",
       "        #editCodeLinkDiv {\n",
       "            display:none;  \n",
       "        }\n",
       "        </style>   \n",
       "                            \n",
       "        <script>\n",
       "        (function(){\n",
       "\n",
       "            var trace = JSON.parse(document.getElementById('json-jm5c978e93-1e67-479d-b30c-0dd047f4c268').innerHTML);                                        \n",
       "            // NOTE 1: id without #\n",
       "            // NOTE 2 - maybe there are more predictable ways, but this will work anyway\n",
       "            //        - id should be number\n",
       "            visualizerIdOverride = Math.trunc(Math.random() * 100000000000)\n",
       "            addVisualizerToPage(trace, 'jm5c978e93-1e67-479d-b30c-0dd047f4c268',{'embeddedMode' : false,\n",
       "                                             'visualizerIdOverride':visualizerIdOverride})  \n",
       "            \n",
       "            \n",
       "            // set overflow for pytuts - need to do in python as css \n",
       "            // does not allow parent selection\n",
       "            var pytuts = $('.pytutorVisualizer')\n",
       "            pytuts.closest('div.output_html.rendered_html.output_result')\n",
       "                    .css('overflow-x', 'visible')\n",
       "        \n",
       "            //pytuts.closest('div.output_html.rendered_html.output_result')\n",
       "            //      .css('background-color','red')                \n",
       "            \n",
       "        })()\n",
       "        </script>\n",
       "                \n",
       "                "
      ],
      "text/plain": [
       "<IPython.core.display.HTML object>"
      ]
     },
     "execution_count": 33,
     "metadata": {},
     "output_type": "execute_result"
    }
   ],
   "source": [
    "#     0  1  2  3  4  5  6  7\n",
    "la = [12,23,35,41,74,65,34,22]\n",
    "lb = la[:]\n",
    "lb[3:6] = [98,96,97]\n",
    "\n",
    "jupman.pytut()"
   ]
  },
  {
   "cell_type": "markdown",
   "metadata": {},
   "source": [
    "**QUESTION**: Look at the following code - what does it produce?\n",
    "\n",
    "```python\n",
    "la = [9,6,5,8,2]\n",
    "la[1:4] = [4,7,0]\n",
    "print(la)\n",
    "```\n",
    "\n",
    "1. modify `la` (how?)\n",
    "2. an error (which one?)"
   ]
  },
  {
   "cell_type": "code",
   "execution_count": 34,
   "metadata": {},
   "outputs": [
    {
     "name": "stdout",
     "output_type": "stream",
     "text": [
      "[9, 4, 7, 0, 2]\n"
     ]
    }
   ],
   "source": [
    "la = [9,6,5,8,2]\n",
    "la[1:4] = [4,7,0]\n",
    "print(la)"
   ]
  },
  {
   "cell_type": "markdown",
   "metadata": {},
   "source": [
    "**ANSWER**:\n"
   ]
  },
  {
   "cell_type": "markdown",
   "metadata": {},
   "source": [
    "**QUESTION**: Look at the following code. What does it produce?\n",
    "\n",
    "```python\n",
    "la = [7,6,8,4,2,4,2,3,1]\n",
    "i = 3\n",
    "lb = la[0:i]\n",
    "la[i:2*i] = lb\n",
    "print(la)\n",
    "```\n",
    "\n",
    "1. modifies `la` (how?)\n",
    "2. an error (which one?)"
   ]
  },
  {
   "cell_type": "markdown",
   "metadata": {},
   "source": [
    "**ANSWER**:\n"
   ]
  },
  {
   "cell_type": "markdown",
   "metadata": {},
   "source": [
    "## List of strings"
   ]
  },
  {
   "cell_type": "markdown",
   "metadata": {},
   "source": [
    "We said we can put any object into a list, for example some strings:"
   ]
  },
  {
   "cell_type": "code",
   "execution_count": 69,
   "metadata": {},
   "outputs": [],
   "source": [
    "vegetables = ['tomatoes', 'onions', 'carrots', 'cabbage']"
   ]
  },
  {
   "cell_type": "markdown",
   "metadata": {},
   "source": [
    "Let's try extracting a vegetable by writing this expression:"
   ]
  },
  {
   "cell_type": "code",
   "execution_count": 70,
   "metadata": {},
   "outputs": [
    {
     "data": {
      "text/plain": [
       "'carrots'"
      ]
     },
     "execution_count": 70,
     "metadata": {},
     "output_type": "execute_result"
    }
   ],
   "source": [
    "vegetables[2]"
   ]
  },
  {
   "cell_type": "markdown",
   "metadata": {},
   "source": [
    "Now, the preceding expression produces the result `'carrots'`, which we know is a string. This suggests we can use the expression exactly like if it were a string.\n",
    "\n",
    "Suppose we want to obtain the first character of the string `'carrots'`, if we directly have the string we can write like this:"
   ]
  },
  {
   "cell_type": "code",
   "execution_count": 71,
   "metadata": {},
   "outputs": [
    {
     "data": {
      "text/plain": [
       "'c'"
      ]
     },
     "execution_count": 71,
     "metadata": {},
     "output_type": "execute_result"
    }
   ],
   "source": [
    "'carrots'[0]"
   ]
  },
  {
   "cell_type": "markdown",
   "metadata": {},
   "source": [
    "But if the string is inside the previous list, we could directly do like this:"
   ]
  },
  {
   "cell_type": "code",
   "execution_count": 72,
   "metadata": {},
   "outputs": [
    {
     "data": {
      "text/plain": [
       "'c'"
      ]
     },
     "execution_count": 72,
     "metadata": {},
     "output_type": "execute_result"
    }
   ],
   "source": [
    "vegetables[2][0]"
   ]
  },
  {
   "cell_type": "markdown",
   "metadata": {},
   "source": [
    "### Exercise - province codes\n",
    "\n",
    "Given a list with exactly 4 province codes in lowercase, write some code which creates a NEW list containing the same codes in uppercase characters.\n",
    "\n",
    "* your code must work with any list of 4 provinces\n",
    "* hint: if you don't remember the right method, [have a look here](https://en.softpython.org/strings/strings3-sol.html)\n",
    "\n",
    "Example 1 - given:\n",
    "\n",
    "```python\n",
    "provinces = ['tn','mi','to','ro']\n",
    "```\n",
    "\n",
    "your code must print:\n",
    "\n",
    "```python\n",
    "['TN', 'MI', 'TO', 'RO']\n",
    "```\n",
    "\n",
    "Example 2 - given:\n",
    "\n",
    "```python\n",
    "provinces = ['pa','ge','ve', 'aq']\n",
    "```\n",
    "\n",
    "Your code must print:\n",
    "\n",
    "```python\n",
    "['PA', 'GE', 'VE', 'AQ']\n",
    "```\n"
   ]
  },
  {
   "cell_type": "code",
   "execution_count": 51,
   "metadata": {},
   "outputs": [
    {
     "data": {
      "text/html": [
       "\n",
       "        <script src=\"_static/js/pytutor-embed.bundle.min.js\" type=\"application/javascript\"></script>\n",
       "     \n",
       "        <script id=\"json-jm0136f6a6-cdcf-4f41-9574-591e4eca0d8c\" type=\"application/json\" >\n",
       "            {\"code\": \" \\nprovinces = ['tn','mi','to','ro']\\n#provinces = ['pa','ge','ve', 'aq']\\n\\n# write here\\nfor i in range(len(provinces)):\\n    provinces[i] = provinces[i].upper()\", \"trace\": [{\"line\": 2, \"event\": \"step_line\", \"func_name\": \"<module>\", \"globals\": {}, \"ordered_globals\": [], \"stack_to_render\": [], \"heap\": {}, \"stdout\": \"\"}, {\"line\": 6, \"event\": \"step_line\", \"func_name\": \"<module>\", \"globals\": {\"provinces\": [\"REF\", 1]}, \"ordered_globals\": [\"provinces\"], \"stack_to_render\": [], \"heap\": {\"1\": [\"LIST\", \"tn\", \"mi\", \"to\", \"ro\"]}, \"stdout\": \"\"}, {\"line\": 7, \"event\": \"step_line\", \"func_name\": \"<module>\", \"globals\": {\"provinces\": [\"REF\", 1], \"i\": 0}, \"ordered_globals\": [\"provinces\", \"i\"], \"stack_to_render\": [], \"heap\": {\"1\": [\"LIST\", \"tn\", \"mi\", \"to\", \"ro\"]}, \"stdout\": \"\"}, {\"line\": 6, \"event\": \"step_line\", \"func_name\": \"<module>\", \"globals\": {\"provinces\": [\"REF\", 1], \"i\": 0}, \"ordered_globals\": [\"provinces\", \"i\"], \"stack_to_render\": [], \"heap\": {\"1\": [\"LIST\", \"TN\", \"mi\", \"to\", \"ro\"]}, \"stdout\": \"\"}, {\"line\": 7, \"event\": \"step_line\", \"func_name\": \"<module>\", \"globals\": {\"provinces\": [\"REF\", 1], \"i\": 1}, \"ordered_globals\": [\"provinces\", \"i\"], \"stack_to_render\": [], \"heap\": {\"1\": [\"LIST\", \"TN\", \"mi\", \"to\", \"ro\"]}, \"stdout\": \"\"}, {\"line\": 6, \"event\": \"step_line\", \"func_name\": \"<module>\", \"globals\": {\"provinces\": [\"REF\", 1], \"i\": 1}, \"ordered_globals\": [\"provinces\", \"i\"], \"stack_to_render\": [], \"heap\": {\"1\": [\"LIST\", \"TN\", \"MI\", \"to\", \"ro\"]}, \"stdout\": \"\"}, {\"line\": 7, \"event\": \"step_line\", \"func_name\": \"<module>\", \"globals\": {\"provinces\": [\"REF\", 1], \"i\": 2}, \"ordered_globals\": [\"provinces\", \"i\"], \"stack_to_render\": [], \"heap\": {\"1\": [\"LIST\", \"TN\", \"MI\", \"to\", \"ro\"]}, \"stdout\": \"\"}, {\"line\": 6, \"event\": \"step_line\", \"func_name\": \"<module>\", \"globals\": {\"provinces\": [\"REF\", 1], \"i\": 2}, \"ordered_globals\": [\"provinces\", \"i\"], \"stack_to_render\": [], \"heap\": {\"1\": [\"LIST\", \"TN\", \"MI\", \"TO\", \"ro\"]}, \"stdout\": \"\"}, {\"line\": 7, \"event\": \"step_line\", \"func_name\": \"<module>\", \"globals\": {\"provinces\": [\"REF\", 1], \"i\": 3}, \"ordered_globals\": [\"provinces\", \"i\"], \"stack_to_render\": [], \"heap\": {\"1\": [\"LIST\", \"TN\", \"MI\", \"TO\", \"ro\"]}, \"stdout\": \"\"}, {\"line\": 6, \"event\": \"step_line\", \"func_name\": \"<module>\", \"globals\": {\"provinces\": [\"REF\", 1], \"i\": 3}, \"ordered_globals\": [\"provinces\", \"i\"], \"stack_to_render\": [], \"heap\": {\"1\": [\"LIST\", \"TN\", \"MI\", \"TO\", \"RO\"]}, \"stdout\": \"\"}, {\"line\": 6, \"event\": \"return\", \"func_name\": \"<module>\", \"globals\": {\"provinces\": [\"REF\", 1], \"i\": 3}, \"ordered_globals\": [\"provinces\", \"i\"], \"stack_to_render\": [], \"heap\": {\"1\": [\"LIST\", \"TN\", \"MI\", \"TO\", \"RO\"]}, \"stdout\": \"\"}]}\n",
       "        </script>\n",
       "        <div id=\"jm0136f6a6-cdcf-4f41-9574-591e4eca0d8c\" class=\"pytutorVisualizer\"> </div>\n",
       " \n",
       "        <style>\n",
       "        .vizLayoutTd {\n",
       "            background-color: #fff !important;\n",
       "        }\n",
       "\n",
       "        #pyStdout {            \n",
       "            min-height:25px;\n",
       "        }\n",
       "\n",
       "        /* 'Edit this code' link, hiding because replaces browser tab !!!*/\n",
       "        #editCodeLinkDiv {\n",
       "            display:none;  \n",
       "        }\n",
       "        </style>   \n",
       "                            \n",
       "        <script>\n",
       "        (function(){\n",
       "\n",
       "            var trace = JSON.parse(document.getElementById('json-jm0136f6a6-cdcf-4f41-9574-591e4eca0d8c').innerHTML);                                        \n",
       "            // NOTE 1: id without #\n",
       "            // NOTE 2 - maybe there are more predictable ways, but this will work anyway\n",
       "            //        - id should be number\n",
       "            visualizerIdOverride = Math.trunc(Math.random() * 100000000000)\n",
       "            addVisualizerToPage(trace, 'jm0136f6a6-cdcf-4f41-9574-591e4eca0d8c',{'embeddedMode' : false,\n",
       "                                             'visualizerIdOverride':visualizerIdOverride})  \n",
       "            \n",
       "            \n",
       "            // set overflow for pytuts - need to do in python as css \n",
       "            // does not allow parent selection\n",
       "            var pytuts = $('.pytutorVisualizer')\n",
       "            pytuts.closest('div.output_html.rendered_html.output_result')\n",
       "                    .css('overflow-x', 'visible')\n",
       "        \n",
       "            //pytuts.closest('div.output_html.rendered_html.output_result')\n",
       "            //      .css('background-color','red')                \n",
       "            \n",
       "        })()\n",
       "        </script>\n",
       "                \n",
       "                "
      ],
      "text/plain": [
       "<IPython.core.display.HTML object>"
      ]
     },
     "execution_count": 51,
     "metadata": {},
     "output_type": "execute_result"
    }
   ],
   "source": [
    "provinces = ['tn','mi','to','ro']\n",
    "#provinces = ['pa','ge','ve', 'aq']\n",
    "\n",
    "# write here\n",
    "for i in range(len(provinces)):\n",
    "    provinces[i] = provinces[i].upper()\n",
    "jupman.pytut()\n"
   ]
  },
  {
   "cell_type": "markdown",
   "metadata": {},
   "source": [
    "### Exercise - games\n",
    "\n",
    "Given a list `games` of exactly 3 strings, write some code which MODIFIES the list so it contains only the first characters of each string.\n",
    "\n",
    "* Your code must work with any list of exactly 3 strings\n",
    "\n",
    "Example - given\n",
    "\n",
    "```python\n",
    "games = [\"Monopoly\",\n",
    "         \"RISK\",\n",
    "         \"Bingo\"]\n",
    "\n",
    "```\n",
    "After executing the code, it must result:\n",
    "\n",
    "```python\n",
    ">>> print(games)\n",
    "[\"M\",\"R\",\"B\"]\n",
    "```"
   ]
  },
  {
   "cell_type": "code",
   "execution_count": 53,
   "metadata": {},
   "outputs": [
    {
     "data": {
      "text/plain": [
       "['M', 'R', 'B']"
      ]
     },
     "execution_count": 53,
     "metadata": {},
     "output_type": "execute_result"
    }
   ],
   "source": [
    "games = [\"Monopoly\",\n",
    "         \"RISK\",\n",
    "         \"Bingo\"]\n",
    "\n",
    "\n",
    "# write here\n",
    "games = [games[0][0], games[1][0], games[2][0] ]\n",
    "games\n"
   ]
  },
  {
   "cell_type": "markdown",
   "metadata": {},
   "source": [
    "## List of lists\n",
    "\n",
    "\n",
    "**NOTE: We will talk much more in detail of lists of lists in the tutorial** [Matrices - list of lists](https://en.softpython.org/matrices-lists/matrices-lists-sol.html), this is just a brief introduction.\n",
    "\n",
    "The consideration we've seen so far about string lists are also valid for a list of lists:"
   ]
  },
  {
   "cell_type": "code",
   "execution_count": 75,
   "metadata": {},
   "outputs": [],
   "source": [
    "couples = [             # external list\n",
    "            [67,95],    # internal list at index 0\n",
    "            [60,59],    # internal list at index 1\n",
    "            [86,75],    # internal list at index 2\n",
    "            [96,90],    # internal list at index 3\n",
    "            [88,87],    # internal list at index 4\n",
    "          ]"
   ]
  },
  {
   "cell_type": "markdown",
   "metadata": {},
   "source": [
    "If we want ot extract the number `90`, we must first extract the sublist from index `3`:"
   ]
  },
  {
   "cell_type": "code",
   "execution_count": 76,
   "metadata": {},
   "outputs": [
    {
     "data": {
      "text/plain": [
       "[96, 90]"
      ]
     },
     "execution_count": 76,
     "metadata": {},
     "output_type": "execute_result"
    }
   ],
   "source": [
    "couples[3]   # NOTE: the expression result is a list"
   ]
  },
  {
   "cell_type": "markdown",
   "metadata": {},
   "source": [
    "and so in the extracted sublist (which has only two elements) we can recover the number at index `0`:"
   ]
  },
  {
   "cell_type": "code",
   "execution_count": 77,
   "metadata": {},
   "outputs": [
    {
     "data": {
      "text/plain": [
       "96"
      ]
     },
     "execution_count": 77,
     "metadata": {},
     "output_type": "execute_result"
    }
   ],
   "source": [
    "couples[3][0]"
   ]
  },
  {
   "cell_type": "markdown",
   "metadata": {},
   "source": [
    "and at index `1`:"
   ]
  },
  {
   "cell_type": "code",
   "execution_count": 78,
   "metadata": {},
   "outputs": [
    {
     "data": {
      "text/plain": [
       "90"
      ]
     },
     "execution_count": 78,
     "metadata": {},
     "output_type": "execute_result"
    }
   ],
   "source": [
    "couples[3][1]"
   ]
  },
  {
   "cell_type": "markdown",
   "metadata": {},
   "source": [
    "### Exercise - couples\n",
    "\n",
    "1. Write some code to extract and print the number `86`,  `67` and `87`\n",
    "2. Given a row with index `i` and a column `j`, print the number at row `i` and column `j` multiplied by the number at successive row and same column\n",
    "\n",
    "After your code, you should see printed\n",
    "\n",
    "```\n",
    "point 1: 86 67 87\n",
    "\n",
    "point 2:  i = 3  j = 1  result = 7830\n",
    "\n",
    "```"
   ]
  },
  {
   "cell_type": "code",
   "execution_count": 57,
   "metadata": {},
   "outputs": [
    {
     "name": "stdout",
     "output_type": "stream",
     "text": [
      "point 1: 86 67 87\n",
      "point 2: 7830\n"
     ]
    }
   ],
   "source": [
    "couples = [             # external list\n",
    "            [67,95],    # internal list at index 0\n",
    "            [60,59],    # internal list at index 1\n",
    "            [86,75],    # internal list at index 2\n",
    "            [96,90],    # internal list at index 3\n",
    "            [88,87],    # internal list at index 4\n",
    "          ]\n",
    "\n",
    "i = 3\n",
    "j = 1\n",
    "print(\"point 1:\", str(couples[2][0]),str(couples[0][0]), str(couples[4][1]))\n",
    "print(\"point 2:\", str(couples[i][j] * couples[i+1][j]))\n",
    "\n"
   ]
  },
  {
   "cell_type": "markdown",
   "metadata": {},
   "source": [
    "### Exercise - nonunif\n",
    "\n",
    "Given a list `nonunif` of sublists of any length, and a row at index `i`, write some code which MODIFIES the sublists of `nonunif` at row `i` and successive one in such a way the last element of both lists becomes `99`.\n",
    "\n",
    "* your code must work with any `nonunif` and any `i`\n",
    "\n",
    "Example 1 - given:\n",
    "\n",
    "```python\n",
    "nonunif = [                   # external list\n",
    "            [67,95],          # internal at index 0\n",
    "            [60,23,23,13,59], # internal at index 1\n",
    "            [86,75],          # internal at index 2\n",
    "            [96,90,92],       # internal at index 3\n",
    "            [88,87],          # internal at index 4\n",
    "         ]\n",
    "\n",
    "i = 1\n",
    "```\n",
    "\n",
    "after your code, by writing (we use `pprint` because it will print on many lines)\n",
    "\n",
    "```python\n",
    "from pprint import pprint\n",
    "pprint(nonunif,width=30)\n",
    "```\n",
    "\n",
    "it should print:\n",
    "\n",
    "```python\n",
    "[[67, 95],\n",
    " [60, 23, 23, 13, 99],\n",
    " [86, 99],\n",
    " [96, 90, 92],\n",
    " [88, 87]]\n",
    "```"
   ]
  },
  {
   "cell_type": "code",
   "execution_count": 66,
   "metadata": {},
   "outputs": [
    {
     "name": "stdout",
     "output_type": "stream",
     "text": [
      "[[67, 95],\n",
      " [60, 23, 23, 13, 99],\n",
      " [86, 99],\n",
      " [96, 90, 92],\n",
      " [88, 87]]\n"
     ]
    }
   ],
   "source": [
    "nonunifnonunif = [                   # external list\n",
    "            [67,95],          # internal list at index 0\n",
    "            [60,23,23,13,59], # internal list at index 1\n",
    "            [86,75],          # internal list at index 2\n",
    "            [96,90,92],       # internal list at index 3\n",
    "            [88,87],          # internal list at index 4\n",
    "         ]\n",
    "\n",
    "i = 1\n",
    "\n",
    "# write here\n",
    "nonunif[i][-1] = 99\n",
    "nonunif[i + 1][-1] = 99\n",
    "# nonunif[i+1][-1] = 99\n",
    "from pprint import pprint\n",
    "pprint(nonunif,width=30)"
   ]
  },
  {
   "cell_type": "markdown",
   "metadata": {},
   "source": [
    "## `in` operator\n",
    "\n",
    "To verify whether an object is contained in a list, we can use the `in` operator.\n",
    "\n",
    "Note the result of this expression is a boolean:"
   ]
  },
  {
   "cell_type": "code",
   "execution_count": 81,
   "metadata": {},
   "outputs": [
    {
     "data": {
      "text/plain": [
       "True"
      ]
     },
     "execution_count": 81,
     "metadata": {},
     "output_type": "execute_result"
    }
   ],
   "source": [
    "9 in [6,8,9,7]"
   ]
  },
  {
   "cell_type": "code",
   "execution_count": 82,
   "metadata": {},
   "outputs": [
    {
     "data": {
      "text/plain": [
       "False"
      ]
     },
     "execution_count": 82,
     "metadata": {},
     "output_type": "execute_result"
    }
   ],
   "source": [
    "5 in [6,8,9,7]"
   ]
  },
  {
   "cell_type": "code",
   "execution_count": 83,
   "metadata": {},
   "outputs": [
    {
     "data": {
      "text/plain": [
       "True"
      ]
     },
     "execution_count": 83,
     "metadata": {},
     "output_type": "execute_result"
    }
   ],
   "source": [
    "\"apple\" in [\"watermelon\",\"apple\",\"banana\"]"
   ]
  },
  {
   "cell_type": "code",
   "execution_count": 84,
   "metadata": {},
   "outputs": [
    {
     "data": {
      "text/plain": [
       "False"
      ]
     },
     "execution_count": 84,
     "metadata": {},
     "output_type": "execute_result"
    }
   ],
   "source": [
    "\"carrot\" in [\"watermelon\",\"apple\",\"banana\"]"
   ]
  },
  {
   "cell_type": "markdown",
   "metadata": {},
   "source": [
    "**QUESTION**: What's the result of this expression? `True` or `False`?\n",
    "\n",
    "```python\n",
    "True in [ 5 in [6,7,5],\n",
    "          2 in [8,1]\n",
    "        ]\n",
    "```"
   ]
  },
  {
   "cell_type": "code",
   "execution_count": 67,
   "metadata": {},
   "outputs": [
    {
     "data": {
      "text/plain": [
       "True"
      ]
     },
     "execution_count": 67,
     "metadata": {},
     "output_type": "execute_result"
    }
   ],
   "source": [
    "True in [ 5 in [6,7,5],\n",
    "          2 in [8,1]\n",
    "        ]"
   ]
  },
  {
   "cell_type": "markdown",
   "metadata": {},
   "source": [
    "**ANSWER**:\n"
   ]
  },
  {
   "cell_type": "markdown",
   "metadata": {},
   "source": [
    "### not in\n",
    "\n",
    "We can write the check of **non** belonging in two ways:\n",
    "\n",
    "**Way 1**:"
   ]
  },
  {
   "cell_type": "code",
   "execution_count": 85,
   "metadata": {},
   "outputs": [
    {
     "data": {
      "text/plain": [
       "True"
      ]
     },
     "execution_count": 85,
     "metadata": {},
     "output_type": "execute_result"
    }
   ],
   "source": [
    "\"carrot\" not in [\"watermelon\",\"banana\",\"apple\"]"
   ]
  },
  {
   "cell_type": "code",
   "execution_count": 86,
   "metadata": {},
   "outputs": [
    {
     "data": {
      "text/plain": [
       "False"
      ]
     },
     "execution_count": 86,
     "metadata": {},
     "output_type": "execute_result"
    }
   ],
   "source": [
    "\"watermelon\" not in [\"watermelon\",\"banana\",\"apple\"]"
   ]
  },
  {
   "cell_type": "markdown",
   "metadata": {},
   "source": [
    "**Way 2:**"
   ]
  },
  {
   "cell_type": "code",
   "execution_count": 87,
   "metadata": {},
   "outputs": [
    {
     "data": {
      "text/plain": [
       "True"
      ]
     },
     "execution_count": 87,
     "metadata": {},
     "output_type": "execute_result"
    }
   ],
   "source": [
    "not \"carrot\" in [\"watermelon\",\"banana\",\"apple\"]"
   ]
  },
  {
   "cell_type": "code",
   "execution_count": 88,
   "metadata": {},
   "outputs": [
    {
     "data": {
      "text/plain": [
       "False"
      ]
     },
     "execution_count": 88,
     "metadata": {},
     "output_type": "execute_result"
    }
   ],
   "source": [
    "not \"watermelon\" in [\"watermelon\",\"banana\",\"apple\"]"
   ]
  },
  {
   "cell_type": "markdown",
   "metadata": {},
   "source": [
    "**QUESTION**: Given any element `x` and list `y`, what does the following expression produce?\n",
    "\n",
    "```python\n",
    "x in y and not x in y\n",
    "```\n",
    "\n",
    "1. `False`\n",
    "2. `True`\n",
    "3. `False` or `True` according to the values of `x` and `y`\n",
    "4. an error"
   ]
  },
  {
   "cell_type": "markdown",
   "metadata": {},
   "source": [
    "**ANSWER**:\n"
   ]
  },
  {
   "cell_type": "markdown",
   "metadata": {},
   "source": [
    "**QUESTION**: For each of the following expressions, try to guess the result\n",
    "\n",
    "1.  ```python\n",
    "    3 in [3]\n",
    "    ```\n",
    "1.  ```python    \n",
    "    [4,5] in [1,2,3,4,5]\n",
    "    ```\n",
    "1.  ```python    \n",
    "    [4,5] in [[1,2,3],[4,5]]\n",
    "    ```\n",
    "1.  ```python    \n",
    "    [4,5] in [[1,2,3,4],[5,6]]\n",
    "    ```\n",
    "1.  ```python    \n",
    "    'n' in ['alien'[-1]]\n",
    "    ```\n",
    "1.  ```python    \n",
    "    'rts' in 'karts'[1:4]\n",
    "    ```\n",
    "1.  ```python    \n",
    "    [] in [[[]]]\n",
    "    ```\n",
    "1.  ```python    \n",
    "    [] in [[]]\n",
    "    ```\n",
    "1.  ```python    \n",
    "    [] in [\"[]\"]\n",
    "    ```"
   ]
  },
  {
   "cell_type": "code",
   "execution_count": 73,
   "metadata": {},
   "outputs": [
    {
     "data": {
      "text/plain": [
       "True"
      ]
     },
     "execution_count": 73,
     "metadata": {},
     "output_type": "execute_result"
    }
   ],
   "source": [
    "'rts' in 'karts'[-4:]"
   ]
  },
  {
   "cell_type": "markdown",
   "metadata": {},
   "source": [
    "**QUESTION**: For each of the following expressions, independently from the value of `x`, tell whether  it always results `True`:\n",
    "\n",
    "1.  ```python\n",
    "    x in x\n",
    "    ```\n",
    "1.  ```python    \n",
    "    x in [x]\n",
    "    ```\n",
    "1.  ```python    \n",
    "    x not in []\n",
    "    ```\n",
    "1.  ```python    \n",
    "    x in [[x]]\n",
    "    ```\n",
    "1.  ```python\n",
    "    x in [[x][0]]\n",
    "    ```\n",
    "1.  ```python    \n",
    "    (x and y) in [x,y]\n",
    "    ```\n",
    "1.  ```python\n",
    "    x in [x,y] and y in [x,y]\n",
    "    ```"
   ]
  },
  {
   "cell_type": "markdown",
   "metadata": {},
   "source": [
    "### Exercise - vegetables\n",
    "\n",
    "Given the list `vegetables` of exactly 5 strings and the list of strings `fruits`, MODIFY the variable `vegetables` so that in each cell there is `True` if the vegetable is a fruit or `False` otherwise.\n",
    "\n",
    "* your code must work with any list of 5 strings `vegetables` and any list `fruits`\n",
    "\n",
    "Example - given:\n",
    "\n",
    "```python\n",
    "vegetables = [\"carrot\",\n",
    "              \"cabbage\",\n",
    "              \"apple\",\n",
    "              \"aubergine\",\n",
    "              \"watermelon\"]\n",
    "\n",
    "fruits = [\"watermelon\",\"banana\",\"apple\",]\n",
    "```\n",
    "\n",
    "after execution your code must print:\n",
    "\n",
    "```python\n",
    ">>> print(vegetables)\n",
    "[False, False, True, False, True]\n",
    "```"
   ]
  },
  {
   "cell_type": "code",
   "execution_count": 76,
   "metadata": {},
   "outputs": [
    {
     "name": "stdout",
     "output_type": "stream",
     "text": [
      "[False, False, True, False, True]\n"
     ]
    }
   ],
   "source": [
    "vegetables = [\"carrot\",\n",
    "              \"cabbage\",\n",
    "              \"apple\",\n",
    "              \"aubergine\",\n",
    "              \"watermelon\"]\n",
    "\n",
    "fruits = [\"watermelon\",\"banana\",\"apple\",]\n",
    "\n",
    "for v in range(len(vegetables)):\n",
    "    if vegetables[v] in fruits:\n",
    "        vegetables[v] = True\n",
    "    else:\n",
    "        vegetables[v] = False\n",
    "\n",
    "        \n",
    "print(vegetables)\n",
    "\n"
   ]
  },
  {
   "cell_type": "markdown",
   "metadata": {},
   "source": [
    "## List concatenation with +\n",
    "\n",
    "Given two lists `la` and `lb`, we can concatenate them with the operator `+` which produces a NEW list:"
   ]
  },
  {
   "cell_type": "code",
   "execution_count": 80,
   "metadata": {},
   "outputs": [
    {
     "name": "stdout",
     "output_type": "stream",
     "text": [
      "[77, 66, 88, 99, 55]\n"
     ]
    },
    {
     "data": {
      "text/html": [
       "\n",
       "        <script src=\"_static/js/pytutor-embed.bundle.min.js\" type=\"application/javascript\"></script>\n",
       "     \n",
       "        <script id=\"json-jmf91b130f-94f7-4420-85c4-c95e07519c64\" type=\"application/json\" >\n",
       "            {\"code\": \" \\nla = [77,66,88]\\nlb = [99,55]\\n\\nprint(la + lb)\", \"trace\": [{\"line\": 2, \"event\": \"step_line\", \"func_name\": \"<module>\", \"globals\": {}, \"ordered_globals\": [], \"stack_to_render\": [], \"heap\": {}, \"stdout\": \"\"}, {\"line\": 3, \"event\": \"step_line\", \"func_name\": \"<module>\", \"globals\": {\"la\": [\"REF\", 1]}, \"ordered_globals\": [\"la\"], \"stack_to_render\": [], \"heap\": {\"1\": [\"LIST\", 77, 66, 88]}, \"stdout\": \"\"}, {\"line\": 5, \"event\": \"step_line\", \"func_name\": \"<module>\", \"globals\": {\"la\": [\"REF\", 1], \"lb\": [\"REF\", 2]}, \"ordered_globals\": [\"la\", \"lb\"], \"stack_to_render\": [], \"heap\": {\"1\": [\"LIST\", 77, 66, 88], \"2\": [\"LIST\", 99, 55]}, \"stdout\": \"\"}, {\"line\": 5, \"event\": \"return\", \"func_name\": \"<module>\", \"globals\": {\"la\": [\"REF\", 1], \"lb\": [\"REF\", 2]}, \"ordered_globals\": [\"la\", \"lb\"], \"stack_to_render\": [], \"heap\": {\"1\": [\"LIST\", 77, 66, 88], \"2\": [\"LIST\", 99, 55]}, \"stdout\": \"[77, 66, 88, 99, 55]\\n\"}]}\n",
       "        </script>\n",
       "        <div id=\"jmf91b130f-94f7-4420-85c4-c95e07519c64\" class=\"pytutorVisualizer\"> </div>\n",
       " \n",
       "        <style>\n",
       "        .vizLayoutTd {\n",
       "            background-color: #fff !important;\n",
       "        }\n",
       "\n",
       "        #pyStdout {            \n",
       "            min-height:25px;\n",
       "        }\n",
       "\n",
       "        /* 'Edit this code' link, hiding because replaces browser tab !!!*/\n",
       "        #editCodeLinkDiv {\n",
       "            display:none;  \n",
       "        }\n",
       "        </style>   \n",
       "                            \n",
       "        <script>\n",
       "        (function(){\n",
       "\n",
       "            var trace = JSON.parse(document.getElementById('json-jmf91b130f-94f7-4420-85c4-c95e07519c64').innerHTML);                                        \n",
       "            // NOTE 1: id without #\n",
       "            // NOTE 2 - maybe there are more predictable ways, but this will work anyway\n",
       "            //        - id should be number\n",
       "            visualizerIdOverride = Math.trunc(Math.random() * 100000000000)\n",
       "            addVisualizerToPage(trace, 'jmf91b130f-94f7-4420-85c4-c95e07519c64',{'embeddedMode' : false,\n",
       "                                             'visualizerIdOverride':visualizerIdOverride})  \n",
       "            \n",
       "            \n",
       "            // set overflow for pytuts - need to do in python as css \n",
       "            // does not allow parent selection\n",
       "            var pytuts = $('.pytutorVisualizer')\n",
       "            pytuts.closest('div.output_html.rendered_html.output_result')\n",
       "                    .css('overflow-x', 'visible')\n",
       "        \n",
       "            //pytuts.closest('div.output_html.rendered_html.output_result')\n",
       "            //      .css('background-color','red')                \n",
       "            \n",
       "        })()\n",
       "        </script>\n",
       "                \n",
       "                "
      ],
      "text/plain": [
       "<IPython.core.display.HTML object>"
      ]
     },
     "execution_count": 80,
     "metadata": {},
     "output_type": "execute_result"
    }
   ],
   "source": [
    "la = [77,66,88]\n",
    "lb = [99,55]\n",
    "\n",
    "print(la + lb)\n",
    "\n",
    "jupman.pytut()"
   ]
  },
  {
   "cell_type": "markdown",
   "metadata": {},
   "source": [
    "Note the operator `+` produces a NEW list, so `la` and `lb` remained unchanged:"
   ]
  },
  {
   "cell_type": "code",
   "execution_count": 91,
   "metadata": {},
   "outputs": [
    {
     "name": "stdout",
     "output_type": "stream",
     "text": [
      "[77, 66, 88]\n"
     ]
    }
   ],
   "source": [
    "print(la)"
   ]
  },
  {
   "cell_type": "code",
   "execution_count": 92,
   "metadata": {},
   "outputs": [
    {
     "name": "stdout",
     "output_type": "stream",
     "text": [
      "[99, 55]\n"
     ]
    }
   ],
   "source": [
    "print(lb)"
   ]
  },
  {
   "cell_type": "markdown",
   "metadata": {},
   "source": [
    "Let's check with Python Tutor:"
   ]
  },
  {
   "cell_type": "code",
   "execution_count": 93,
   "metadata": {},
   "outputs": [
    {
     "name": "stdout",
     "output_type": "stream",
     "text": [
      "[77, 66, 88]\n",
      "[99, 55]\n",
      "[77, 66, 88, 99, 55]\n"
     ]
    },
    {
     "data": {
      "text/html": [
       "\n",
       "        <script src=\"../_static/js/pytutor-embed.bundle.min.js\" type=\"application/javascript\"></script>\n",
       "     \n",
       "        <script id=\"json-jm8eba32fa-68ed-4920-893d-1730230c8570\" type=\"application/json\" >\n",
       "            {\"code\": \" \\nla = [77,66,88]\\nlb = [99,55]\\nlc = la + lb\\n\\nprint(la)\\nprint(lb)\\nprint(lc)\", \"trace\": [{\"stack_to_render\": [], \"heap\": {}, \"event\": \"step_line\", \"func_name\": \"<module>\", \"ordered_globals\": [], \"stdout\": \"\", \"line\": 2, \"globals\": {}}, {\"stack_to_render\": [], \"heap\": {\"1\": [\"LIST\", 77, 66, 88]}, \"event\": \"step_line\", \"func_name\": \"<module>\", \"ordered_globals\": [\"la\"], \"stdout\": \"\", \"line\": 3, \"globals\": {\"la\": [\"REF\", 1]}}, {\"stack_to_render\": [], \"heap\": {\"1\": [\"LIST\", 77, 66, 88], \"2\": [\"LIST\", 99, 55]}, \"event\": \"step_line\", \"func_name\": \"<module>\", \"ordered_globals\": [\"la\", \"lb\"], \"stdout\": \"\", \"line\": 4, \"globals\": {\"la\": [\"REF\", 1], \"lb\": [\"REF\", 2]}}, {\"stack_to_render\": [], \"heap\": {\"1\": [\"LIST\", 77, 66, 88], \"2\": [\"LIST\", 99, 55], \"3\": [\"LIST\", 77, 66, 88, 99, 55]}, \"event\": \"step_line\", \"func_name\": \"<module>\", \"ordered_globals\": [\"la\", \"lb\", \"lc\"], \"stdout\": \"\", \"line\": 6, \"globals\": {\"la\": [\"REF\", 1], \"lb\": [\"REF\", 2], \"lc\": [\"REF\", 3]}}, {\"stack_to_render\": [], \"heap\": {\"1\": [\"LIST\", 77, 66, 88], \"2\": [\"LIST\", 99, 55], \"3\": [\"LIST\", 77, 66, 88, 99, 55]}, \"event\": \"step_line\", \"func_name\": \"<module>\", \"ordered_globals\": [\"la\", \"lb\", \"lc\"], \"stdout\": \"[77, 66, 88]\\n\", \"line\": 7, \"globals\": {\"la\": [\"REF\", 1], \"lb\": [\"REF\", 2], \"lc\": [\"REF\", 3]}}, {\"stack_to_render\": [], \"heap\": {\"1\": [\"LIST\", 77, 66, 88], \"2\": [\"LIST\", 99, 55], \"3\": [\"LIST\", 77, 66, 88, 99, 55]}, \"event\": \"step_line\", \"func_name\": \"<module>\", \"ordered_globals\": [\"la\", \"lb\", \"lc\"], \"stdout\": \"[77, 66, 88]\\n[99, 55]\\n\", \"line\": 8, \"globals\": {\"la\": [\"REF\", 1], \"lb\": [\"REF\", 2], \"lc\": [\"REF\", 3]}}, {\"stack_to_render\": [], \"heap\": {\"1\": [\"LIST\", 77, 66, 88], \"2\": [\"LIST\", 99, 55], \"3\": [\"LIST\", 77, 66, 88, 99, 55]}, \"event\": \"return\", \"func_name\": \"<module>\", \"ordered_globals\": [\"la\", \"lb\", \"lc\"], \"stdout\": \"[77, 66, 88]\\n[99, 55]\\n[77, 66, 88, 99, 55]\\n\", \"line\": 8, \"globals\": {\"la\": [\"REF\", 1], \"lb\": [\"REF\", 2], \"lc\": [\"REF\", 3]}}]}\n",
       "        </script>\n",
       "        <div id=\"jm8eba32fa-68ed-4920-893d-1730230c8570\" class=\"pytutorVisualizer\"> </div>\n",
       " \n",
       "        <style>\n",
       "        .vizLayoutTd {\n",
       "            background-color: #fff !important;\n",
       "        }\n",
       "\n",
       "        #pyStdout {            \n",
       "            min-height:25px;\n",
       "        }\n",
       "\n",
       "        /* 'Edit this code' link, hiding because replaces browser tab !!!*/\n",
       "        #editCodeLinkDiv {\n",
       "            display:none;  \n",
       "        }\n",
       "        </style>   \n",
       "                            \n",
       "        <script>\n",
       "        (function(){\n",
       "\n",
       "            var trace = JSON.parse(document.getElementById('json-jm8eba32fa-68ed-4920-893d-1730230c8570').innerHTML);                                        \n",
       "            // NOTE 1: id without #\n",
       "            // NOTE 2 - maybe there are more predictable ways, but this will work anyway\n",
       "            //        - id should be number\n",
       "            visualizerIdOverride = Math.trunc(Math.random() * 100000000000)\n",
       "            addVisualizerToPage(trace, 'jm8eba32fa-68ed-4920-893d-1730230c8570',{'embeddedMode' : false,\n",
       "                                             'visualizerIdOverride':visualizerIdOverride})  \n",
       "            \n",
       "            \n",
       "            // set overflow for pytuts - need to do in python as css \n",
       "            // does not allow parent selection\n",
       "            var pytuts = $('.pytutorVisualizer')\n",
       "            pytuts.closest('div.output_html.rendered_html.output_result')\n",
       "                    .css('overflow-x', 'visible')\n",
       "        \n",
       "            //pytuts.closest('div.output_html.rendered_html.output_result')\n",
       "            //      .css('background-color','red')                \n",
       "            \n",
       "        })()\n",
       "        </script>\n",
       "                \n",
       "                "
      ],
      "text/plain": [
       "<IPython.core.display.HTML object>"
      ]
     },
     "execution_count": 93,
     "metadata": {},
     "output_type": "execute_result"
    }
   ],
   "source": [
    "la = [77,66,88]\n",
    "lb = [99,55]\n",
    "lc = la + lb\n",
    "\n",
    "print(la)\n",
    "print(lb)\n",
    "print(lc)\n",
    "\n",
    "jupman.pytut()"
   ]
  },
  {
   "cell_type": "markdown",
   "metadata": {},
   "source": [
    "### Exercise - concatenation\n",
    "\n",
    "Write some code which given lists `la` and `lb`, puts into list  `lc` the last two elements of `la` and the first two of `lb`\n",
    "\n",
    "\n",
    "Example - given:\n",
    "\n",
    "```python\n",
    "la = [18,26,30,45,55]\n",
    "lb = [16,26,37,45]\n",
    "```\n",
    "\n",
    "after your code it must print:\n",
    "\n",
    "```\n",
    ">>> print(la)\n",
    "[18, 26, 30, 45, 55]\n",
    ">>> print(lb)\n",
    "[16, 26, 37, 45]\n",
    ">>> print(lc)\n",
    "[45, 55, 37, 45]\n",
    "```"
   ]
  },
  {
   "cell_type": "code",
   "execution_count": 84,
   "metadata": {},
   "outputs": [
    {
     "name": "stdout",
     "output_type": "stream",
     "text": [
      "[45, 55, 37, 45]\n"
     ]
    }
   ],
   "source": [
    "la = [18,26,30,45,55]\n",
    "lb = [16,26,37,45]\n",
    "\n",
    "lc = la[-2:] + lb[-2:]\n",
    "# write here\n",
    "print(lc)\n",
    "\n"
   ]
  },
  {
   "cell_type": "markdown",
   "metadata": {},
   "source": [
    "**QUESTION**: For each of the following expressions, try guessing the result\n",
    "    \n",
    "1.  ```python\n",
    "    [6,7,8] + [9]\n",
    "    ```\n",
    "1.  ```python    \n",
    "    [6,7,8] + []\n",
    "    ```\n",
    "1.  ```python    \n",
    "    [] + [6,7,8]\n",
    "    ```\n",
    "1.  ```python    \n",
    "    [] + []\n",
    "    ```\n",
    "1.  ```python    \n",
    "    [] + [[]]\n",
    "    ```\n",
    "1.  ```python    \n",
    "    [[]]+[]\n",
    "    ```\n",
    "1.  ```python    \n",
    "    [[]]+[[]]\n",
    "    ```\n",
    "1.  ```python    \n",
    "    ([6] + [8])[0]\n",
    "    ```\n",
    "1.  ```python    \n",
    "    ([6] + [8])[1]\n",
    "    ```\n",
    "1.  ```python    \n",
    "    ([6] + [8])[2:]\n",
    "    ```\n",
    "1.  ```python    \n",
    "    len([4,2,5])+len([3,1,2])\n",
    "    ```\n",
    "1.  ```python    \n",
    "    len([4,2,5] + [3,1,2])\n",
    "    ```\n",
    "1.  ```python    \n",
    "    [5,4,3] + \"3,1\"\n",
    "    ```\n",
    "1.  ```python    \n",
    "    [5,4,3] + \"[3,1]\"\n",
    "    ```\n",
    "1.  ```python    \n",
    "    \"[5,4,3]\" + \"[3,1]\"\n",
    "    ```\n",
    "1.  ```python    \n",
    "    [\"4\",\"1\",\"7\"] + [\"3\",\"1\"]\n",
    "    ```\n",
    "1.  ```python    \n",
    "    list('coca') + ['c','o','l','a']\n",
    "    ```"
   ]
  },
  {
   "cell_type": "markdown",
   "metadata": {},
   "source": [
    "## min and max\n",
    "\n",
    "A list is a sequence of elements, and as such we can pass it to functions `min` or `max` for finding respectively the minimum or the maximum element of the list."
   ]
  },
  {
   "cell_type": "code",
   "execution_count": 85,
   "metadata": {},
   "outputs": [
    {
     "data": {
      "text/plain": [
       "3"
      ]
     },
     "execution_count": 85,
     "metadata": {},
     "output_type": "execute_result"
    }
   ],
   "source": [
    "min([4,5,3,7,8,6])"
   ]
  },
  {
   "cell_type": "code",
   "execution_count": 96,
   "metadata": {},
   "outputs": [
    {
     "data": {
      "text/plain": [
       "8"
      ]
     },
     "execution_count": 96,
     "metadata": {},
     "output_type": "execute_result"
    }
   ],
   "source": [
    "max([4,5,3,7,8,6])"
   ]
  },
  {
   "cell_type": "markdown",
   "metadata": {},
   "source": [
    "<div class=\"alert alert-warning\">\n",
    "\n",
    "[V COMMANDMENT](https://en.softpython.org/commandments.html#V-COMMANDMENT) **: You shall never ever use** `min` **and** `max` **as variable names.**\n",
    "    \n",
    "(adapted) If you do, you will lose the functions!\n",
    "</div>"
   ]
  },
  {
   "cell_type": "markdown",
   "metadata": {},
   "source": [
    "Note it's also possible to directly pass to `min` and `max` the elements to compare without including them in a list:"
   ]
  },
  {
   "cell_type": "code",
   "execution_count": 97,
   "metadata": {},
   "outputs": [
    {
     "data": {
      "text/plain": [
       "3"
      ]
     },
     "execution_count": 97,
     "metadata": {},
     "output_type": "execute_result"
    }
   ],
   "source": [
    "min(4,5,3,7,8,6)"
   ]
  },
  {
   "cell_type": "code",
   "execution_count": 98,
   "metadata": {},
   "outputs": [
    {
     "data": {
      "text/plain": [
       "8"
      ]
     },
     "execution_count": 98,
     "metadata": {},
     "output_type": "execute_result"
    }
   ],
   "source": [
    "max(4,5,3,7,8,6)"
   ]
  },
  {
   "cell_type": "markdown",
   "metadata": {},
   "source": [
    "But if we pass only one, without including it in a list, we will get an error:"
   ]
  },
  {
   "cell_type": "markdown",
   "metadata": {},
   "source": [
    "```python\n",
    "min(4)\n",
    "---------------------------------------------------------------------------\n",
    "TypeError                                 Traceback (most recent call last)\n",
    "<ipython-input-156-bb3db472b52e> in <module>\n",
    "----> 1 min(4)\n",
    "\n",
    "TypeError: 'int' object is not iterable\n",
    "\n",
    "```"
   ]
  },
  {
   "cell_type": "markdown",
   "metadata": {},
   "source": [
    "The error tells us that when we pass only an argument, Python expects a sequence like a list:"
   ]
  },
  {
   "cell_type": "code",
   "execution_count": 99,
   "metadata": {},
   "outputs": [
    {
     "data": {
      "text/plain": [
       "4"
      ]
     },
     "execution_count": 99,
     "metadata": {},
     "output_type": "execute_result"
    }
   ],
   "source": [
    "min([4])"
   ]
  },
  {
   "cell_type": "markdown",
   "metadata": {},
   "source": [
    "To `min` and `max` we can also pass strings, and we will get the character which is alphabetically lesser or greater:"
   ]
  },
  {
   "cell_type": "code",
   "execution_count": 100,
   "metadata": {},
   "outputs": [
    {
     "data": {
      "text/plain": [
       "'a'"
      ]
     },
     "execution_count": 100,
     "metadata": {},
     "output_type": "execute_result"
    }
   ],
   "source": [
    "min(\"orchestra\")"
   ]
  },
  {
   "cell_type": "code",
   "execution_count": 101,
   "metadata": {},
   "outputs": [
    {
     "data": {
      "text/plain": [
       "'t'"
      ]
     },
     "execution_count": 101,
     "metadata": {},
     "output_type": "execute_result"
    }
   ],
   "source": [
    "max(\"orchestra\")"
   ]
  },
  {
   "cell_type": "markdown",
   "metadata": {},
   "source": [
    "If we pass a list of strings, we will obtain the lesser or greater string in lexicographical order (i.e. the phonebook order)"
   ]
  },
  {
   "cell_type": "code",
   "execution_count": 102,
   "metadata": {},
   "outputs": [
    {
     "data": {
      "text/plain": [
       "'around'"
      ]
     },
     "execution_count": 102,
     "metadata": {},
     "output_type": "execute_result"
    }
   ],
   "source": [
    "min(['the', 'sailor', 'walks', 'around', 'the', 'docks'])"
   ]
  },
  {
   "cell_type": "code",
   "execution_count": 103,
   "metadata": {},
   "outputs": [
    {
     "data": {
      "text/plain": [
       "'walks'"
      ]
     },
     "execution_count": 103,
     "metadata": {},
     "output_type": "execute_result"
    }
   ],
   "source": [
    "max(['the', 'sailor', 'walks', 'around', 'the', 'docks'])"
   ]
  },
  {
   "cell_type": "markdown",
   "metadata": {},
   "source": [
    "**QUESTION**: For each of the following expressions, try guessing the result (or if it gives an error)\n",
    "\n",
    "    \n",
    "1.  ```python\n",
    "    max(7)\n",
    "    ```\n",
    "1.  ```python    \n",
    "    max([7])\n",
    "    ```\n",
    "1.  ```python    \n",
    "    max([5,4,6,2])\n",
    "    ```\n",
    "1.  ```python    \n",
    "    max([min([7,3])])\n",
    "    ```\n",
    "1.  ```python    \n",
    "    max([])\n",
    "    ```\n",
    "1.  ```python    \n",
    "    max(2,9,3)\n",
    "    ```\n",
    "1.  ```python    \n",
    "    max([3,2,5] + [9,2,3])\n",
    "    ```\n",
    "1.  ```python    \n",
    "    max(max([3,2,5], max([9,2,3]))\n",
    "    ```\n",
    "1.  ```python    \n",
    "    max(min(3,6), min(8,2))\n",
    "    ```\n",
    "1.  ```python    \n",
    "    min(max(3,6), max(8,2))\n",
    "    ```\n",
    "1.  ```python    \n",
    "    max(['a','b','d','c'])\n",
    "    ```\n",
    "1.  ```python    \n",
    "    max(['barca', 'dado', 'aloa', 'cerchio'])\n",
    "    ```\n",
    "1.  ```python    \n",
    "    min(['prova','','z','v'])\n",
    "    ```\n",
    "1.  ```python    \n",
    "    max(['martello'[-1],'cacciavite'[-1],'brugola'[-1]])\n",
    "    ```\n",
    "1.  ```python    \n",
    "    min(['martello'[-1],'cacciavite'[-1],'brugola'[-1]])\n",
    "    ```"
   ]
  },
  {
   "cell_type": "markdown",
   "metadata": {},
   "source": [
    "## sum\n",
    "\n",
    "With `sum` we can sum all the elements in a list:"
   ]
  },
  {
   "cell_type": "code",
   "execution_count": 104,
   "metadata": {},
   "outputs": [
    {
     "data": {
      "text/plain": [
       "6"
      ]
     },
     "execution_count": 104,
     "metadata": {},
     "output_type": "execute_result"
    }
   ],
   "source": [
    "sum([1,2,3])"
   ]
  },
  {
   "cell_type": "code",
   "execution_count": 105,
   "metadata": {},
   "outputs": [
    {
     "data": {
      "text/plain": [
       "3.14"
      ]
     },
     "execution_count": 105,
     "metadata": {},
     "output_type": "execute_result"
    }
   ],
   "source": [
    "sum([1.0, 2.0, 0.14])"
   ]
  },
  {
   "cell_type": "markdown",
   "metadata": {},
   "source": [
    "<div class=\"alert alert-warning\">\n",
    "\n",
    "[V COMMANDMENT](https://en.softpython.org/commandments.html#V-COMMANDMENT) **: You shall never ever use** `sum` **as a variable name**\n",
    "    \n",
    "(adapted) If you do, you will lose the function!\n",
    "</div>"
   ]
  },
  {
   "cell_type": "markdown",
   "metadata": {},
   "source": [
    "**QUESTION**: For each of the following expressions, try guessing the result (or if it gives an error):\n",
    "\n",
    "1.  ```python\n",
    "    sum[3,1,2]\n",
    "    ```\n",
    "1.  ```python\n",
    "    sum(1,2,3)\n",
    "    ```\n",
    "1.  ```python\n",
    "    la = [1,2,3]\n",
    "    sum(la) > max(la)\n",
    "    ```\n",
    "1.  ```python   \n",
    "    la = [1,2,3]\n",
    "    sum(la) > max(la)*len(la)\n",
    "    ```\n",
    "1.  ```python\n",
    "    la = [4,2,6,4,7]\n",
    "    lb = [max(la), min(la), max(la)]\n",
    "    print(max(lb) != max(la))\n",
    "    ```"
   ]
  },
  {
   "cell_type": "markdown",
   "metadata": {},
   "source": [
    "### Exercise - balance\n",
    "\n",
    "Given a list of `n` numbers `balance` with `n` even, write some code which prints `True` if the sum of all first `n/2` numbers is equal to the sum of all successive ones.\n",
    "\n",
    "* your code must work for _any_ number list\n",
    "\n",
    "Example 1 - given:\n",
    "\n",
    "```python\n",
    "balance = [4,3,7,1,5,8]\n",
    "```\n",
    "\n",
    "after your code, it must print:\n",
    "\n",
    "```\n",
    "True\n",
    "```\n",
    "\n",
    "Example 2 - given:\n",
    "\n",
    "```python\n",
    "balance = [4,3,3,1,9,8]\n",
    "```\n",
    "\n",
    "after your code, it must print:\n",
    "\n",
    "```\n",
    "False\n",
    "```"
   ]
  },
  {
   "cell_type": "code",
   "execution_count": 95,
   "metadata": {},
   "outputs": [
    {
     "name": "stdout",
     "output_type": "stream",
     "text": [
      "True\n",
      "False\n"
     ]
    }
   ],
   "source": [
    "balance = [4,3,7,1,5,8]\n",
    "balance = [4,3,3,1,9,8]\n",
    "\n",
    "# write here\n",
    "\n",
    "def bal(balance):\n",
    "    la = balance[:int(len(balance)/2)]\n",
    "    lb = balance[int(len(balance)/2):]\n",
    "\n",
    "    suma = 0\n",
    "    sumb = 0\n",
    "\n",
    "    for a in la:\n",
    "        suma+=a\n",
    "    for b in lb:\n",
    "        sumb+=b\n",
    "\n",
    "    if suma == sumb:\n",
    "        print(True)\n",
    "    else:\n",
    "        print(False)\n",
    "    \n",
    "\n",
    "balance = [4,3,7,1,5,8]\n",
    "bal(balance)\n",
    "balance = [4,3,3,1,9,8]\n",
    "bal(balance)\n",
    "\n"
   ]
  },
  {
   "cell_type": "markdown",
   "metadata": {},
   "source": [
    "## Multiplying lists\n",
    "\n",
    "To replicate the elements of a list, it's possible to use the operator `*` which produces a NEW list:"
   ]
  },
  {
   "cell_type": "code",
   "execution_count": 107,
   "metadata": {},
   "outputs": [
    {
     "data": {
      "text/plain": [
       "[7, 6, 8, 7, 6, 8]"
      ]
     },
     "execution_count": 107,
     "metadata": {},
     "output_type": "execute_result"
    }
   ],
   "source": [
    "[7,6,8] * 2"
   ]
  },
  {
   "cell_type": "code",
   "execution_count": 108,
   "metadata": {},
   "outputs": [
    {
     "data": {
      "text/plain": [
       "[7, 6, 8, 7, 6, 8, 7, 6, 8]"
      ]
     },
     "execution_count": 108,
     "metadata": {},
     "output_type": "execute_result"
    }
   ],
   "source": [
    "[7,6,8] * 3"
   ]
  },
  {
   "cell_type": "markdown",
   "metadata": {},
   "source": [
    "Note a NEW list is produced, and the original one is not modified:"
   ]
  },
  {
   "cell_type": "code",
   "execution_count": 109,
   "metadata": {},
   "outputs": [],
   "source": [
    "la = [7,6,8]"
   ]
  },
  {
   "cell_type": "code",
   "execution_count": 110,
   "metadata": {},
   "outputs": [],
   "source": [
    "lb = [7,6,8] * 3"
   ]
  },
  {
   "cell_type": "code",
   "execution_count": 111,
   "metadata": {},
   "outputs": [
    {
     "data": {
      "text/plain": [
       "[7, 6, 8]"
      ]
     },
     "execution_count": 111,
     "metadata": {},
     "output_type": "execute_result"
    }
   ],
   "source": [
    "la   # original"
   ]
  },
  {
   "cell_type": "code",
   "execution_count": 112,
   "metadata": {},
   "outputs": [
    {
     "data": {
      "text/plain": [
       "[7, 6, 8, 7, 6, 8, 7, 6, 8]"
      ]
     },
     "execution_count": 112,
     "metadata": {},
     "output_type": "execute_result"
    }
   ],
   "source": [
    "lb   # expression result"
   ]
  },
  {
   "cell_type": "markdown",
   "metadata": {},
   "source": [
    "We can multiply a list of strings:"
   ]
  },
  {
   "cell_type": "code",
   "execution_count": 113,
   "metadata": {},
   "outputs": [],
   "source": [
    "la = [\"a\", \"world\", \"of\", \"words\"]"
   ]
  },
  {
   "cell_type": "code",
   "execution_count": 114,
   "metadata": {},
   "outputs": [],
   "source": [
    "lb = la * 2"
   ]
  },
  {
   "cell_type": "code",
   "execution_count": 115,
   "metadata": {},
   "outputs": [
    {
     "name": "stdout",
     "output_type": "stream",
     "text": [
      "['a', 'world', 'of', 'words']\n"
     ]
    }
   ],
   "source": [
    "print(la)"
   ]
  },
  {
   "cell_type": "code",
   "execution_count": 116,
   "metadata": {},
   "outputs": [
    {
     "name": "stdout",
     "output_type": "stream",
     "text": [
      "['a', 'world', 'of', 'words', 'a', 'world', 'of', 'words']\n"
     ]
    }
   ],
   "source": [
    "print(lb)"
   ]
  },
  {
   "cell_type": "markdown",
   "metadata": {},
   "source": [
    "As long as we multiply lists which contain immutable elements like numbers or strings, no particular problems arise:"
   ]
  },
  {
   "cell_type": "code",
   "execution_count": 96,
   "metadata": {},
   "outputs": [
    {
     "data": {
      "text/html": [
       "\n",
       "        <script src=\"_static/js/pytutor-embed.bundle.min.js\" type=\"application/javascript\"></script>\n",
       "     \n",
       "        <script id=\"json-jm0c170527-df67-421e-b469-331cde1b41ae\" type=\"application/json\" >\n",
       "            {\"code\": \" \\nla = [\\\"a\\\", \\\"world\\\", \\\"of\\\", \\\"words\\\"]\\nlb = la * 2\", \"trace\": [{\"line\": 2, \"event\": \"step_line\", \"func_name\": \"<module>\", \"globals\": {}, \"ordered_globals\": [], \"stack_to_render\": [], \"heap\": {}, \"stdout\": \"\"}, {\"line\": 3, \"event\": \"step_line\", \"func_name\": \"<module>\", \"globals\": {\"la\": [\"REF\", 1]}, \"ordered_globals\": [\"la\"], \"stack_to_render\": [], \"heap\": {\"1\": [\"LIST\", \"a\", \"world\", \"of\", \"words\"]}, \"stdout\": \"\"}, {\"line\": 3, \"event\": \"return\", \"func_name\": \"<module>\", \"globals\": {\"la\": [\"REF\", 1], \"lb\": [\"REF\", 2]}, \"ordered_globals\": [\"la\", \"lb\"], \"stack_to_render\": [], \"heap\": {\"1\": [\"LIST\", \"a\", \"world\", \"of\", \"words\"], \"2\": [\"LIST\", \"a\", \"world\", \"of\", \"words\", \"a\", \"world\", \"of\", \"words\"]}, \"stdout\": \"\"}]}\n",
       "        </script>\n",
       "        <div id=\"jm0c170527-df67-421e-b469-331cde1b41ae\" class=\"pytutorVisualizer\"> </div>\n",
       " \n",
       "        <style>\n",
       "        .vizLayoutTd {\n",
       "            background-color: #fff !important;\n",
       "        }\n",
       "\n",
       "        #pyStdout {            \n",
       "            min-height:25px;\n",
       "        }\n",
       "\n",
       "        /* 'Edit this code' link, hiding because replaces browser tab !!!*/\n",
       "        #editCodeLinkDiv {\n",
       "            display:none;  \n",
       "        }\n",
       "        </style>   \n",
       "                            \n",
       "        <script>\n",
       "        (function(){\n",
       "\n",
       "            var trace = JSON.parse(document.getElementById('json-jm0c170527-df67-421e-b469-331cde1b41ae').innerHTML);                                        \n",
       "            // NOTE 1: id without #\n",
       "            // NOTE 2 - maybe there are more predictable ways, but this will work anyway\n",
       "            //        - id should be number\n",
       "            visualizerIdOverride = Math.trunc(Math.random() * 100000000000)\n",
       "            addVisualizerToPage(trace, 'jm0c170527-df67-421e-b469-331cde1b41ae',{'embeddedMode' : false,\n",
       "                                             'visualizerIdOverride':visualizerIdOverride})  \n",
       "            \n",
       "            \n",
       "            // set overflow for pytuts - need to do in python as css \n",
       "            // does not allow parent selection\n",
       "            var pytuts = $('.pytutorVisualizer')\n",
       "            pytuts.closest('div.output_html.rendered_html.output_result')\n",
       "                    .css('overflow-x', 'visible')\n",
       "        \n",
       "            //pytuts.closest('div.output_html.rendered_html.output_result')\n",
       "            //      .css('background-color','red')                \n",
       "            \n",
       "        })()\n",
       "        </script>\n",
       "                \n",
       "                "
      ],
      "text/plain": [
       "<IPython.core.display.HTML object>"
      ]
     },
     "execution_count": 96,
     "metadata": {},
     "output_type": "execute_result"
    }
   ],
   "source": [
    "la = [\"a\", \"world\", \"of\", \"words\"]\n",
    "lb = la * 2\n",
    "\n",
    "jupman.pytut()"
   ]
  },
  {
   "cell_type": "markdown",
   "metadata": {},
   "source": [
    "The matter becomes much more sophisticated when we multiply lists which contain mutable objects like other lists. Let's see an example:"
   ]
  },
  {
   "cell_type": "code",
   "execution_count": 103,
   "metadata": {},
   "outputs": [],
   "source": [
    "la = [5,6]\n",
    "lb = [7,8,9]\n",
    "lc = [la,lb] * 2"
   ]
  },
  {
   "cell_type": "code",
   "execution_count": 119,
   "metadata": {},
   "outputs": [
    {
     "name": "stdout",
     "output_type": "stream",
     "text": [
      "[5, 6]\n"
     ]
    }
   ],
   "source": [
    "print(la)"
   ]
  },
  {
   "cell_type": "code",
   "execution_count": 120,
   "metadata": {},
   "outputs": [
    {
     "name": "stdout",
     "output_type": "stream",
     "text": [
      "[7, 8, 9]\n"
     ]
    }
   ],
   "source": [
    "print(lb)"
   ]
  },
  {
   "cell_type": "code",
   "execution_count": 121,
   "metadata": {},
   "outputs": [
    {
     "name": "stdout",
     "output_type": "stream",
     "text": [
      "[[5, 6], [7, 8, 9], [5, 6], [7, 8, 9]]\n"
     ]
    }
   ],
   "source": [
    "print(lc)"
   ]
  },
  {
   "cell_type": "markdown",
   "metadata": {},
   "source": [
    "By printing it, we see that the lists `la` and `lb` are represented inside `lc` - but how, exactly? `print` calls may trick you about the effective state of memory - to investigate further it's convenient to use Python Tutor:"
   ]
  },
  {
   "cell_type": "code",
   "execution_count": 104,
   "metadata": {},
   "outputs": [
    {
     "data": {
      "text/html": [
       "\n",
       "        <script src=\"_static/js/pytutor-embed.bundle.min.js\" type=\"application/javascript\"></script>\n",
       "     \n",
       "        <script id=\"json-jm5f686b2f-277f-467b-ba8b-716b4af0f942\" type=\"application/json\" >\n",
       "            {\"code\": \" \\nla = [5,6]\\nlb = [7,8,9]\\nlc = [la,lb] * 2\", \"trace\": [{\"line\": 2, \"event\": \"step_line\", \"func_name\": \"<module>\", \"globals\": {}, \"ordered_globals\": [], \"stack_to_render\": [], \"heap\": {}, \"stdout\": \"\"}, {\"line\": 3, \"event\": \"step_line\", \"func_name\": \"<module>\", \"globals\": {\"la\": [\"REF\", 1]}, \"ordered_globals\": [\"la\"], \"stack_to_render\": [], \"heap\": {\"1\": [\"LIST\", 5, 6]}, \"stdout\": \"\"}, {\"line\": 4, \"event\": \"step_line\", \"func_name\": \"<module>\", \"globals\": {\"la\": [\"REF\", 1], \"lb\": [\"REF\", 2]}, \"ordered_globals\": [\"la\", \"lb\"], \"stack_to_render\": [], \"heap\": {\"1\": [\"LIST\", 5, 6], \"2\": [\"LIST\", 7, 8, 9]}, \"stdout\": \"\"}, {\"line\": 4, \"event\": \"return\", \"func_name\": \"<module>\", \"globals\": {\"la\": [\"REF\", 1], \"lb\": [\"REF\", 2], \"lc\": [\"REF\", 3]}, \"ordered_globals\": [\"la\", \"lb\", \"lc\"], \"stack_to_render\": [], \"heap\": {\"1\": [\"LIST\", 5, 6], \"2\": [\"LIST\", 7, 8, 9], \"3\": [\"LIST\", [\"REF\", 1], [\"REF\", 2], [\"REF\", 1], [\"REF\", 2]]}, \"stdout\": \"\"}]}\n",
       "        </script>\n",
       "        <div id=\"jm5f686b2f-277f-467b-ba8b-716b4af0f942\" class=\"pytutorVisualizer\"> </div>\n",
       " \n",
       "        <style>\n",
       "        .vizLayoutTd {\n",
       "            background-color: #fff !important;\n",
       "        }\n",
       "\n",
       "        #pyStdout {            \n",
       "            min-height:25px;\n",
       "        }\n",
       "\n",
       "        /* 'Edit this code' link, hiding because replaces browser tab !!!*/\n",
       "        #editCodeLinkDiv {\n",
       "            display:none;  \n",
       "        }\n",
       "        </style>   \n",
       "                            \n",
       "        <script>\n",
       "        (function(){\n",
       "\n",
       "            var trace = JSON.parse(document.getElementById('json-jm5f686b2f-277f-467b-ba8b-716b4af0f942').innerHTML);                                        \n",
       "            // NOTE 1: id without #\n",
       "            // NOTE 2 - maybe there are more predictable ways, but this will work anyway\n",
       "            //        - id should be number\n",
       "            visualizerIdOverride = Math.trunc(Math.random() * 100000000000)\n",
       "            addVisualizerToPage(trace, 'jm5f686b2f-277f-467b-ba8b-716b4af0f942',{'embeddedMode' : false,\n",
       "                                             'visualizerIdOverride':visualizerIdOverride})  \n",
       "            \n",
       "            \n",
       "            // set overflow for pytuts - need to do in python as css \n",
       "            // does not allow parent selection\n",
       "            var pytuts = $('.pytutorVisualizer')\n",
       "            pytuts.closest('div.output_html.rendered_html.output_result')\n",
       "                    .css('overflow-x', 'visible')\n",
       "        \n",
       "            //pytuts.closest('div.output_html.rendered_html.output_result')\n",
       "            //      .css('background-color','red')                \n",
       "            \n",
       "        })()\n",
       "        </script>\n",
       "                \n",
       "                "
      ],
      "text/plain": [
       "<IPython.core.display.HTML object>"
      ]
     },
     "execution_count": 104,
     "metadata": {},
     "output_type": "execute_result"
    }
   ],
   "source": [
    "la = [5,6]\n",
    "lb = [7,8,9]\n",
    "lc = [la,lb] * 2\n",
    "\n",
    "jupman.pytut()"
   ]
  },
  {
   "cell_type": "markdown",
   "metadata": {},
   "source": [
    "Arggh ! A jungle of arrows will appear ! This happens because when we write  `[la, lb]` we create a list with two _references_ to other lists  `[5,6]` and `[7,8,9]`, and the operator `*` when duplicating it just copies _references._\n",
    "\n",
    "For now we stop here, we will see the implications details later in the tutorial [matrices - lists of lists](https://en.softpython.org/matrices-lists/matrices-lists-sol.html)"
   ]
  },
  {
   "cell_type": "markdown",
   "metadata": {},
   "source": [
    "## Equality\n",
    "\n",
    "We can check whether two lists are equal with equality operator `==`, which given two lists returns `True` if they contain equal elements or `False` otherwise:"
   ]
  },
  {
   "cell_type": "code",
   "execution_count": 123,
   "metadata": {},
   "outputs": [
    {
     "data": {
      "text/plain": [
       "True"
      ]
     },
     "execution_count": 123,
     "metadata": {},
     "output_type": "execute_result"
    }
   ],
   "source": [
    "[4,3,6] == [4,3,6]"
   ]
  },
  {
   "cell_type": "code",
   "execution_count": 124,
   "metadata": {},
   "outputs": [
    {
     "data": {
      "text/plain": [
       "False"
      ]
     },
     "execution_count": 124,
     "metadata": {},
     "output_type": "execute_result"
    }
   ],
   "source": [
    "[4,3,6] == [4,3]"
   ]
  },
  {
   "cell_type": "code",
   "execution_count": 125,
   "metadata": {},
   "outputs": [
    {
     "data": {
      "text/plain": [
       "False"
      ]
     },
     "execution_count": 125,
     "metadata": {},
     "output_type": "execute_result"
    }
   ],
   "source": [
    "[4,3,6] == [4,3,6, 'ciao']"
   ]
  },
  {
   "cell_type": "code",
   "execution_count": 126,
   "metadata": {},
   "outputs": [
    {
     "data": {
      "text/plain": [
       "False"
      ]
     },
     "execution_count": 126,
     "metadata": {},
     "output_type": "execute_result"
    }
   ],
   "source": [
    "[4,3,6] == [2,2,8]"
   ]
  },
  {
   "cell_type": "markdown",
   "metadata": {},
   "source": [
    "We can check equality of lists with heterogenous elements:"
   ]
  },
  {
   "cell_type": "code",
   "execution_count": 127,
   "metadata": {},
   "outputs": [
    {
     "data": {
      "text/plain": [
       "True"
      ]
     },
     "execution_count": 127,
     "metadata": {},
     "output_type": "execute_result"
    }
   ],
   "source": [
    "['apples', 3, ['cherries', 2], 6] == ['apples', 3, ['cherries', 2], 6]"
   ]
  },
  {
   "cell_type": "code",
   "execution_count": 128,
   "metadata": {},
   "outputs": [
    {
     "data": {
      "text/plain": [
       "False"
      ]
     },
     "execution_count": 128,
     "metadata": {},
     "output_type": "execute_result"
    }
   ],
   "source": [
    "['bananas', 3,['cherries', 2], 6] == ['apples', 3, ['cherries', 2], 6]"
   ]
  },
  {
   "cell_type": "markdown",
   "metadata": {},
   "source": [
    "To check for inequality, we can use the operatpr `!=`:"
   ]
  },
  {
   "cell_type": "code",
   "execution_count": 129,
   "metadata": {},
   "outputs": [
    {
     "data": {
      "text/plain": [
       "False"
      ]
     },
     "execution_count": 129,
     "metadata": {},
     "output_type": "execute_result"
    }
   ],
   "source": [
    "[2,2,8] != [2,2,8]"
   ]
  },
  {
   "cell_type": "code",
   "execution_count": 130,
   "metadata": {},
   "outputs": [
    {
     "data": {
      "text/plain": [
       "True"
      ]
     },
     "execution_count": 130,
     "metadata": {},
     "output_type": "execute_result"
    }
   ],
   "source": [
    "[4,6,0] != [2,2,8]"
   ]
  },
  {
   "cell_type": "code",
   "execution_count": 131,
   "metadata": {
    "scrolled": true
   },
   "outputs": [
    {
     "data": {
      "text/plain": [
       "True"
      ]
     },
     "execution_count": 131,
     "metadata": {},
     "output_type": "execute_result"
    }
   ],
   "source": [
    "[4,6,0] != [4,6,0,2]"
   ]
  },
  {
   "cell_type": "markdown",
   "metadata": {},
   "source": [
    "**QUESTION**: For each of the following expressions, guess whether it is `True`, `False` or it produces an error:\n",
    "\n",
    "    \n",
    "1.  ```python\n",
    "    [2,3,1] != [2,3,1]\n",
    "    ```\n",
    "1.  ```python    \n",
    "    [4,8,12] == [2*2,4*2,6*2]\n",
    "    ```\n",
    "1.  ```python    \n",
    "    [7,8][:] == [7,9-1]\n",
    "    ```\n",
    "1.  ```python    \n",
    "    [7][0] == [[7]][0]\n",
    "    ```\n",
    "1.  ```python    \n",
    "    [9] == [9][0]\n",
    "    ```\n",
    "1.  ```python    \n",
    "    [max(7,9)] == [max([7]),max([9])]\n",
    "    ```\n",
    "1.  ```python    \n",
    "    ['a','b','c'] == ['A','B','C']\n",
    "    ```\n",
    "1.  ```python    \n",
    "    ['a','b'] != ['a','b','c']\n",
    "    ```\n",
    "1.  ```python    \n",
    "    [\"ciao\"] != [\"CIAO\".lower()]\n",
    "    ```\n",
    "1.  ```python    \n",
    "    [True in [True]] != [False]\n",
    "    ```    \n",
    "1.  ```python    \n",
    "    [][:] == []\n",
    "    ```\n",
    "1.  ```python    \n",
    "    [[]] == [] + []\n",
    "    ```\n",
    "1.  ```python    \n",
    "    [[],[]] == [] + []\n",
    "    ```\n",
    "1.  ```python    \n",
    "    [[[]]] == [[[]+[]]]\n",
    "    ```"
   ]
  },
  {
   "cell_type": "markdown",
   "metadata": {},
   "source": [
    "## Continue\n",
    "\n",
    "You can find more exercise in the notebook [Lists 3](https://en.softpython.org/lists/lists3-sol.html)"
   ]
  },
  {
   "cell_type": "code",
   "execution_count": null,
   "metadata": {},
   "outputs": [],
   "source": []
  }
 ],
 "metadata": {
  "celltoolbar": "Edit Metadata",
  "kernelspec": {
   "display_name": "Python 3",
   "language": "python",
   "name": "python3"
  },
  "language_info": {
   "codemirror_mode": {
    "name": "ipython",
    "version": 3
   },
   "file_extension": ".py",
   "mimetype": "text/x-python",
   "name": "python",
   "nbconvert_exporter": "python",
   "pygments_lexer": "ipython3",
   "version": "3.8.3"
  },
  "toc": {
   "base_numbering": 1,
   "nav_menu": {},
   "number_sections": false,
   "sideBar": true,
   "skip_h1_title": false,
   "title_cell": "Table of Contents",
   "title_sidebar": "Contents",
   "toc_cell": false,
   "toc_position": {},
   "toc_section_display": true,
   "toc_window_display": true
  }
 },
 "nbformat": 4,
 "nbformat_minor": 2
}
